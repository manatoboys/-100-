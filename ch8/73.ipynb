{
 "cells": [
  {
   "cell_type": "code",
   "execution_count": 1,
   "metadata": {},
   "outputs": [],
   "source": [
    "import torch\n",
    "from torch import nn\n",
    "from torch.utils.data import Dataset, DataLoader"
   ]
  },
  {
   "cell_type": "code",
   "execution_count": 2,
   "metadata": {},
   "outputs": [],
   "source": [
    "class TextDataset(Dataset):\n",
    "    def __init__(self, texts, labels):\n",
    "        self.texts = texts\n",
    "        self.labels = labels\n",
    "\n",
    "    def __len__(self):\n",
    "        return len(self.texts)\n",
    "\n",
    "    def __getitem__(self, idx):\n",
    "        text = self.texts[idx]\n",
    "        label = self.labels[idx]\n",
    "        return text, label"
   ]
  },
  {
   "cell_type": "code",
   "execution_count": 3,
   "metadata": {},
   "outputs": [],
   "source": [
    "import numpy as np\n",
    "\n",
    "# 70で作成した行列をロード\n",
    "X_train = np.load(\"./matrix/x_train.npy\")\n",
    "Y_train = np.load(\"./matrix/y_train.npy\")"
   ]
  },
  {
   "cell_type": "code",
   "execution_count": 4,
   "metadata": {},
   "outputs": [],
   "source": [
    "X_train_tensor = torch.from_numpy(X_train)\n",
    "Y_train_tensor =torch.from_numpy(Y_train)\n",
    "datasets = TextDataset(X_train, Y_train)\n",
    "train_dataloader = DataLoader(datasets, shuffle=True, batch_size=64)"
   ]
  },
  {
   "cell_type": "code",
   "execution_count": 5,
   "metadata": {},
   "outputs": [],
   "source": [
    "class Model(nn.Module):\n",
    "    def __init__(self):\n",
    "        super().__init__()\n",
    "        self.layer = nn.Sequential(\n",
    "            nn.Linear(300, 4),\n",
    "            nn.Softmax()\n",
    "        )\n",
    "\n",
    "    def forward(self, x):\n",
    "        logits = self.layer(x)\n",
    "        return logits"
   ]
  },
  {
   "cell_type": "code",
   "execution_count": 6,
   "metadata": {},
   "outputs": [],
   "source": [
    "model = Model()\n",
    "learning_rate = 1e-3\n",
    "batch_size = 64\n",
    "epochs = 10\n",
    "loss_fn = nn.CrossEntropyLoss()\n",
    "optimizer = torch.optim.SGD(model.parameters(), lr=learning_rate)"
   ]
  },
  {
   "cell_type": "code",
   "execution_count": 7,
   "metadata": {},
   "outputs": [],
   "source": [
    "def train_loop(dataloader, model, loss_fn, optimizer):\n",
    "    size = len(dataloader.dataset)\n",
    "    for batch, (X, y) in enumerate(dataloader):\n",
    "        # 予測と損失の計算\n",
    "        X = X.float()\n",
    "        pred = model.forward(X)\n",
    "        loss = loss_fn(pred, y.to(torch.float64))\n",
    "        # バックプロパゲーション\n",
    "        optimizer.zero_grad()\n",
    "        loss.backward()\n",
    "        optimizer.step()\n",
    "\n",
    "        if batch % 100 == 0:\n",
    "            loss, current = loss.item(), batch * len(X)\n",
    "            print(f\"loss: {loss:>7f}  [{current:>5d}/{size:>5d}]\")"
   ]
  },
  {
   "cell_type": "code",
   "execution_count": 8,
   "metadata": {},
   "outputs": [
    {
     "name": "stdout",
     "output_type": "stream",
     "text": [
      "Before training!\n",
      " ------------------------------\n",
      "layer.0.weight: tensor([[-0.0214,  0.0534, -0.0024,  ...,  0.0211,  0.0013, -0.0283],\n",
      "        [-0.0393, -0.0359,  0.0102,  ...,  0.0401, -0.0213, -0.0289],\n",
      "        [-0.0488,  0.0452, -0.0263,  ..., -0.0148, -0.0295, -0.0283],\n",
      "        [-0.0042, -0.0317, -0.0575,  ...,  0.0374, -0.0153,  0.0562]])\n",
      "Shape: torch.Size([4, 300])\n",
      "layer.0.bias: tensor([-0.0447, -0.0495, -0.0144, -0.0132])\n",
      "Shape: torch.Size([4])\n",
      "Epoch 1\n",
      "-------------------------------\n",
      "loss: 1.386075  [    0/10671]\n",
      "loss: 1.388726  [ 6400/10671]\n",
      "Epoch 2\n",
      "-------------------------------\n",
      "loss: 1.385452  [    0/10671]\n",
      "loss: 1.384689  [ 6400/10671]\n"
     ]
    },
    {
     "name": "stderr",
     "output_type": "stream",
     "text": [
      "/Users/tajirimanato/.pyenv/versions/3.12.2/lib/python3.12/site-packages/torch/nn/modules/module.py:1532: UserWarning: Implicit dimension choice for softmax has been deprecated. Change the call to include dim=X as an argument.\n",
      "  return self._call_impl(*args, **kwargs)\n"
     ]
    },
    {
     "name": "stdout",
     "output_type": "stream",
     "text": [
      "Epoch 3\n",
      "-------------------------------\n",
      "loss: 1.382439  [    0/10671]\n",
      "loss: 1.384349  [ 6400/10671]\n",
      "Epoch 4\n",
      "-------------------------------\n",
      "loss: 1.383568  [    0/10671]\n",
      "loss: 1.379933  [ 6400/10671]\n",
      "Epoch 5\n",
      "-------------------------------\n",
      "loss: 1.380964  [    0/10671]\n",
      "loss: 1.379485  [ 6400/10671]\n",
      "Epoch 6\n",
      "-------------------------------\n",
      "loss: 1.378590  [    0/10671]\n",
      "loss: 1.379326  [ 6400/10671]\n",
      "Epoch 7\n",
      "-------------------------------\n",
      "loss: 1.373747  [    0/10671]\n",
      "loss: 1.372499  [ 6400/10671]\n",
      "Epoch 8\n",
      "-------------------------------\n",
      "loss: 1.373047  [    0/10671]\n",
      "loss: 1.373729  [ 6400/10671]\n",
      "Epoch 9\n",
      "-------------------------------\n",
      "loss: 1.367910  [    0/10671]\n",
      "loss: 1.372517  [ 6400/10671]\n",
      "Epoch 10\n",
      "-------------------------------\n",
      "loss: 1.371049  [    0/10671]\n",
      "loss: 1.373028  [ 6400/10671]\n",
      "Done training!\n",
      " ------------------------------\n",
      "layer.0.weight: tensor([[-0.0226,  0.0556, -0.0036,  ...,  0.0252,  0.0061, -0.0338],\n",
      "        [-0.0405, -0.0375,  0.0130,  ...,  0.0404, -0.0248, -0.0279],\n",
      "        [-0.0440,  0.0469, -0.0314,  ..., -0.0203, -0.0278, -0.0262],\n",
      "        [-0.0067, -0.0340, -0.0539,  ...,  0.0384, -0.0183,  0.0586]])\n",
      "Shape: torch.Size([4, 300])\n",
      "layer.0.bias: tensor([ 0.0266, -0.1058,  0.0472, -0.0899])\n",
      "Shape: torch.Size([4])\n"
     ]
    }
   ],
   "source": [
    "print(\"Before training!\\n ------------------------------\")\n",
    "for name, param in model.named_parameters():\n",
    "    print(f\"{name}: {param.data}\")\n",
    "    print(f\"Shape: {param.shape}\")\n",
    "for t in range(epochs):\n",
    "    print(f\"Epoch {t+1}\\n-------------------------------\")\n",
    "    train_loop(train_dataloader, model, loss_fn, optimizer)\n",
    "print(\"Done training!\\n ------------------------------\")\n",
    "for name, param in model.named_parameters():\n",
    "    print(f\"{name}: {param.data}\")\n",
    "    print(f\"Shape: {param.shape}\")"
   ]
  },
  {
   "cell_type": "code",
   "execution_count": 9,
   "metadata": {},
   "outputs": [],
   "source": [
    "torch.save(model, 'model_73.pth')"
   ]
  }
 ],
 "metadata": {
  "kernelspec": {
   "display_name": "Python 3",
   "language": "python",
   "name": "python3"
  },
  "language_info": {
   "codemirror_mode": {
    "name": "ipython",
    "version": 3
   },
   "file_extension": ".py",
   "mimetype": "text/x-python",
   "name": "python",
   "nbconvert_exporter": "python",
   "pygments_lexer": "ipython3",
   "version": "3.12.2"
  }
 },
 "nbformat": 4,
 "nbformat_minor": 2
}
