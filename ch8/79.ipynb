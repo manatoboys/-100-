{
 "cells": [
  {
   "cell_type": "code",
   "execution_count": 1,
   "metadata": {},
   "outputs": [],
   "source": [
    "import torch\n",
    "from torch import nn\n",
    "from torch.utils.data import Dataset, DataLoader\n",
    "import numpy as np\n",
    "\n",
    "\n",
    "class TextDataset(Dataset):\n",
    "    def __init__(self, texts, labels):\n",
    "        self.texts = texts\n",
    "        self.labels = labels\n",
    "\n",
    "    def __len__(self):\n",
    "        return len(self.texts)\n",
    "\n",
    "    def __getitem__(self, idx):\n",
    "        text = self.texts[idx]\n",
    "        label = self.labels[idx]\n",
    "        return text, label\n",
    "\n",
    "# trainデータローダーの作成\n",
    "X_train = np.load(\"./matrix/x_train.npy\")\n",
    "Y_train = np.load(\"./matrix/y_train.npy\")\n",
    "X_train_tensor = torch.from_numpy(X_train)\n",
    "Y_train_tensor =torch.from_numpy(Y_train)\n",
    "datasets = TextDataset(X_train, Y_train)\n",
    "train_dataloader = DataLoader(datasets, shuffle=True, batch_size=64)\n",
    "\n",
    "class TextClassifier(nn.Module):\n",
    "    def __init__(self, input_dim, hidden_dim1, hidden_dim2, output_dim):\n",
    "        super(TextClassifier, self).__init__()\n",
    "        self.fc1 = nn.Linear(input_dim, hidden_dim1 , bias = True)\n",
    "        self.relu1 = nn.ReLU()\n",
    "        self.fc2 = nn.Linear(hidden_dim1, hidden_dim2, bias = True)\n",
    "        self.relu2 = nn.ReLU()\n",
    "        self.fc3 = nn.Linear(hidden_dim2, output_dim, bias = True)\n",
    "        self.softmax = nn.Softmax(dim=1)\n",
    "    \n",
    "    def forward(self, x):\n",
    "        out = self.fc1(x)\n",
    "        out = self.relu1(out)\n",
    "        out = self.fc2(out)\n",
    "        out = self.relu2(out)\n",
    "        out = self.fc3(out)\n",
    "        out = self.softmax(out)\n",
    "        return out"
   ]
  },
  {
   "cell_type": "code",
   "execution_count": 3,
   "metadata": {},
   "outputs": [
    {
     "name": "stderr",
     "output_type": "stream",
     "text": [
      " 20%|██        | 100/500 [01:14<05:08,  1.30it/s]"
     ]
    },
    {
     "name": "stdout",
     "output_type": "stream",
     "text": [
      "100epoch: loss = 0.7867962757626458\n"
     ]
    },
    {
     "name": "stderr",
     "output_type": "stream",
     "text": [
      " 40%|████      | 200/500 [02:26<03:30,  1.42it/s]"
     ]
    },
    {
     "name": "stdout",
     "output_type": "stream",
     "text": [
      "200epoch: loss = 0.7839490504449373\n"
     ]
    },
    {
     "name": "stderr",
     "output_type": "stream",
     "text": [
      " 60%|██████    | 300/500 [03:39<02:18,  1.44it/s]"
     ]
    },
    {
     "name": "stdout",
     "output_type": "stream",
     "text": [
      "300epoch: loss = 0.7817140751125442\n"
     ]
    },
    {
     "name": "stderr",
     "output_type": "stream",
     "text": [
      " 80%|████████  | 400/500 [04:52<01:11,  1.40it/s]"
     ]
    },
    {
     "name": "stdout",
     "output_type": "stream",
     "text": [
      "400epoch: loss = 0.7804216727182974\n"
     ]
    },
    {
     "name": "stderr",
     "output_type": "stream",
     "text": [
      "100%|██████████| 500/500 [06:05<00:00,  1.37it/s]"
     ]
    },
    {
     "name": "stdout",
     "output_type": "stream",
     "text": [
      "500epoch: loss = 0.7782946278822024\n"
     ]
    },
    {
     "name": "stderr",
     "output_type": "stream",
     "text": [
      "\n"
     ]
    }
   ],
   "source": [
    "from tqdm import tqdm\n",
    "\n",
    "# GPUが利用可能か確認\n",
    "device = torch.device('cuda' if torch.cuda.is_available() else 'cpu')\n",
    "\n",
    "\n",
    "# ハイパーパラメータの設定\n",
    "input_dim = 300  # 文章ベクトルの次元数\n",
    "hidden_dim1 = 128  # 最初の隠れ層のノード数\n",
    "hidden_dim2 = 64   # 二番目の隠れ層のノード数\n",
    "output_dim = 4     # クラス数\n",
    "\n",
    "model = TextClassifier(input_dim, hidden_dim1, hidden_dim2, output_dim).to(device)\n",
    "epochs = 500\n",
    "learning_rate = 1e-3\n",
    "loss_fn = nn.CrossEntropyLoss()\n",
    "optimizer = torch.optim.Adam(model.parameters(), lr=learning_rate)\n",
    "\n",
    "for t in tqdm(range(epochs)):\n",
    "    size = len(datasets)\n",
    "    epoch_loss = 0\n",
    "    epoch_correct = 0\n",
    "    total_samples = 0\n",
    "\n",
    "    for batch, (X, y) in enumerate(train_dataloader):\n",
    "        # 予測と損失の計算\n",
    "        X = X.float().to(device)\n",
    "        pred = model(X)\n",
    "        y = y.to(device)\n",
    "        loss = loss_fn(pred, y.to(torch.float64))\n",
    "\n",
    "        # バックプロパゲーション\n",
    "        optimizer.zero_grad()\n",
    "        loss.backward()\n",
    "        optimizer.step()\n",
    "\n",
    "        # 損失の累計\n",
    "        epoch_loss += loss.item()\n",
    "\n",
    "        # 正答数の累計\n",
    "        predicted = pred.argmax(dim=1)\n",
    "        correct = (predicted == y.argmax(dim=1)).sum().item()\n",
    "        epoch_correct += correct\n",
    "        total_samples += len(y)\n",
    "\n",
    "    # エポックごとの平均損失と正答率を計算\n",
    "    avg_loss = epoch_loss / len(train_dataloader)\n",
    "    avg_accuracy = epoch_correct / total_samples\n",
    "    if (t+1)%100 == 0:\n",
    "        print(f\"{t+1}epoch: loss = {avg_loss}\")"
   ]
  },
  {
   "cell_type": "code",
   "execution_count": 5,
   "metadata": {},
   "outputs": [
    {
     "name": "stdout",
     "output_type": "stream",
     "text": [
      "accuracy: 0.9056179775280899\n"
     ]
    }
   ],
   "source": [
    "# testデータローダーの作成\n",
    "X_test = np.load(\"./matrix/x_test.npy\")\n",
    "Y_test = np.load(\"./matrix/y_test.npy\")\n",
    "X_test_tensor = torch.from_numpy(X_test)\n",
    "Y_test_tensor =torch.from_numpy(Y_test)\n",
    "test_datasets = TextDataset(X_test, Y_test)\n",
    "test_dataloader = DataLoader(test_datasets, shuffle=True, batch_size=64)\n",
    "\n",
    "size = len(datasets)\n",
    "epoch_correct = 0\n",
    "total_samples = 0\n",
    "\n",
    "for batch, (X, y) in enumerate(test_dataloader):\n",
    "    # 予測と損失の計算\n",
    "    X = X.float().to(device)\n",
    "    pred = model(X)\n",
    "    y = y.to(device)\n",
    "\n",
    "    # 正答数の累計\n",
    "    predicted = pred.argmax(dim=1)\n",
    "    correct = (predicted == y.argmax(dim=1)).sum().item()\n",
    "    epoch_correct += correct\n",
    "    total_samples += len(y)\n",
    "accuracy = epoch_correct / total_samples\n",
    "print(f\"accuracy: {accuracy}\")"
   ]
  }
 ],
 "metadata": {
  "kernelspec": {
   "display_name": "Python 3",
   "language": "python",
   "name": "python3"
  },
  "language_info": {
   "codemirror_mode": {
    "name": "ipython",
    "version": 3
   },
   "file_extension": ".py",
   "mimetype": "text/x-python",
   "name": "python",
   "nbconvert_exporter": "python",
   "pygments_lexer": "ipython3",
   "version": "3.8.10"
  }
 },
 "nbformat": 4,
 "nbformat_minor": 2
}
