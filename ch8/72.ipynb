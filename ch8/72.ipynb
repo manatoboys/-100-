{
 "cells": [
  {
   "cell_type": "code",
   "execution_count": 81,
   "metadata": {},
   "outputs": [
    {
     "name": "stdout",
     "output_type": "stream",
     "text": [
      "y^1: tensor([[0.0727, 0.5573, 0.0507, 0.3193]], dtype=torch.float64)\n",
      "Y^: tensor([[0.0727, 0.5573, 0.0507, 0.3193],\n",
      "        [0.0163, 0.3218, 0.3303, 0.3315],\n",
      "        [0.0626, 0.8982, 0.0262, 0.0130],\n",
      "        [0.0419, 0.1500, 0.6598, 0.1482]], dtype=torch.float64)\n"
     ]
    }
   ],
   "source": [
    "import numpy as np\n",
    "\n",
    "# 70で作成した行列をロード\n",
    "X_train = np.load(\"./matrix/x_train.npy\")\n",
    "Y_train = np.load(\"./matrix/y_train.npy\")\n",
    "X_test = np.load(\"./matrix/x_test.npy\")\n",
    "Y_test = np.load(\"./matrix/y_test.npy\")\n",
    "X_valid = np.load(\"./matrix/x_valid.npy\")\n",
    "Y_valid = np.load(\"./matrix/y_valid.npy\")\n",
    "\n",
    "import torch\n",
    "import torch.nn.functional as F\n",
    "\n",
    "W = torch.randn(300, 4, dtype=torch.float64)\n",
    "X_tensor = torch.from_numpy(X_train)\n",
    "y_1 = torch.mm(X_tensor[0].unsqueeze(0), W)\n",
    "Y_1 = F.softmax(y_1, dim=1)\n",
    "print(f\"y^1: {Y_1}\")\n",
    "\n",
    "y = torch.mm(X_tensor[0:4], W)\n",
    "Y = F.softmax(y, dim=1)\n",
    "print(f\"Y^: {Y}\")"
   ]
  },
  {
   "cell_type": "code",
   "execution_count": 87,
   "metadata": {},
   "outputs": [
    {
     "name": "stdout",
     "output_type": "stream",
     "text": [
      "Cross Entropy Loss: 1.735573414897297\n",
      "Cross Entropy Loss: 1.735573414897297\n"
     ]
    }
   ],
   "source": [
    "from torch import nn\n",
    "\n",
    "# 種類の方法で求めている\n",
    "\n",
    "# nn.CrossEntorypyLossはinputにSoftmaxをかける前の値， targetにラベルのリスト(ワンホットエンコーディングされていないもの)\n",
    "loss = nn.CrossEntropyLoss()\n",
    "input = y[0:4]\n",
    "y_train_index = torch.argmax(torch.from_numpy(Y_train[0:4]), dim=1)\n",
    "y_train_index = y_train_index.type(torch.long)\n",
    "E = loss(input=input, target=y_train_index)\n",
    "print(f\"Cross Entropy Loss: {E}\")\n",
    "\n",
    "input = Y[0:4]\n",
    "target = torch.from_numpy(Y_train[0:4])\n",
    "E = 0\n",
    "for y_pre, y_target in zip(input, target):\n",
    "    idx = torch.argmax(y_target)\n",
    "    E -= torch.log(y_pre[idx])\n",
    "E = E/4\n",
    "print(f\"Cross Entropy Loss: {E.item()}\")"
   ]
  }
 ],
 "metadata": {
  "kernelspec": {
   "display_name": "Python 3",
   "language": "python",
   "name": "python3"
  },
  "language_info": {
   "codemirror_mode": {
    "name": "ipython",
    "version": 3
   },
   "file_extension": ".py",
   "mimetype": "text/x-python",
   "name": "python",
   "nbconvert_exporter": "python",
   "pygments_lexer": "ipython3",
   "version": "3.12.2"
  }
 },
 "nbformat": 4,
 "nbformat_minor": 2
}
