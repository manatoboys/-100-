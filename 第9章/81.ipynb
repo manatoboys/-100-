{
 "cells": [
  {
   "cell_type": "code",
   "execution_count": 1,
   "metadata": {},
   "outputs": [],
   "source": [
    "import polars as pl\n",
    "import re\n",
    "\n",
    "# 学習データからテキストのみをリストで抽出\n",
    "FILE_PATH = \"../第6章/news+aggregator/train.txt\"\n",
    "df = pl.read_csv(FILE_PATH, separator=\"\\t\", new_columns=[\"text\", \"categoory\"])\n",
    "text_list = df[\"text\"].to_list()\n",
    "\n",
    "#　記号を取り除く\n",
    "cleaned_text_list = [re.sub(r'[^a-zA-Z\\s]', \"\", text) for text in text_list]\n",
    "word_list = [text.split() for text in cleaned_text_list]\n",
    "word_list\n",
    "#　記号を取り除く\n",
    "word_frequency_dict = {}\n",
    "# 単語リストをループして出現頻度をカウント\n",
    "for words in word_list:\n",
    "    for word in words:\n",
    "        if word in word_frequency_dict:\n",
    "            word_frequency_dict[word] += 1\n",
    "        else:\n",
    "            word_frequency_dict[word] = 1\n",
    "\n",
    "sorted_word_frequency_dict = dict(sorted(word_frequency_dict.items(), key=lambda item: item[1], reverse=True)) #降順にソート\n",
    "\n",
    "\n",
    "word_id_map = {}    #単語とidの辞書型\n",
    "id = 1\n",
    "for key, value in sorted_word_frequency_dict.items():\n",
    "    if value == 1: #出現頻度が1のidは0\n",
    "        word_id_map[key] = 0\n",
    "    else:\n",
    "        word_id_map[key] = id\n",
    "        id += 1\n",
    "# wordのidは0~9509の計9510個のidが存在する→つまりone-hotベクトルは9510次元\n",
    "onehot_dim = max(word_id_map.values()) + 1"
   ]
  },
  {
   "cell_type": "code",
   "execution_count": 8,
   "metadata": {},
   "outputs": [],
   "source": [
    "import torch\n",
    "from torch import nn\n",
    "\n",
    "class LSTMModel(nn.Module):\n",
    "    def __init__(self,onehot_dim=onehot_dim ,embedding_dim = 300, hidden_dim = 50, output_dim = 4):\n",
    "        super().__init__()\n",
    "        self.emb = nn.Embedding(onehot_dim, embedding_dim)\n",
    "        self.LSTM = nn.LSTM(embedding_dim, hidden_dim, batch_first=True)\n",
    "        self.linear = nn.Linear(hidden_dim, output_dim, bias=True)\n",
    "        self.softmax = nn.Softmax(dim=0)\n",
    "\n",
    "    def forward(self, x, h=None):\n",
    "        x = self.emb(x)\n",
    "        y, h= self.LSTM(x, h)\n",
    "        y = y[-1]\n",
    "        y = self.linear(y)\n",
    "        y = self.softmax(y)\n",
    "        return y"
   ]
  },
  {
   "cell_type": "code",
   "execution_count": 9,
   "metadata": {},
   "outputs": [],
   "source": [
    "def get_index_vector(words, word_id_map):\n",
    "    # まず、必要な形状のテンソルを初期化\n",
    "    vectors = torch.zeros(len(words))\n",
    "    # 各単語の位置に1をセット\n",
    "    for i, word in enumerate(words):\n",
    "        vectors[i] = word_id_map[word]\n",
    "    return vectors.long()\n"
   ]
  },
  {
   "cell_type": "code",
   "execution_count": 10,
   "metadata": {},
   "outputs": [
    {
     "data": {
      "text/plain": [
       "tensor([0.2601, 0.2715, 0.2210, 0.2474], grad_fn=<SoftmaxBackward0>)"
      ]
     },
     "execution_count": 10,
     "metadata": {},
     "output_type": "execute_result"
    }
   ],
   "source": [
    "model = LSTMModel()\n",
    "data = get_index_vector(word_list[0],word_id_map)\n",
    "model.forward(data)"
   ]
  }
 ],
 "metadata": {
  "kernelspec": {
   "display_name": "Python 3",
   "language": "python",
   "name": "python3"
  },
  "language_info": {
   "codemirror_mode": {
    "name": "ipython",
    "version": 3
   },
   "file_extension": ".py",
   "mimetype": "text/x-python",
   "name": "python",
   "nbconvert_exporter": "python",
   "pygments_lexer": "ipython3",
   "version": "3.12.2"
  }
 },
 "nbformat": 4,
 "nbformat_minor": 2
}
