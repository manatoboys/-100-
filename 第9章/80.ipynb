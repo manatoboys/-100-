{
 "cells": [
  {
   "cell_type": "code",
   "execution_count": 1,
   "metadata": {},
   "outputs": [],
   "source": [
    "import polars as pl\n",
    "import re\n",
    "\n",
    "# 学習データからテキストのみをリストで抽出\n",
    "FILE_PATH = \"../第6章/news+aggregator/train.txt\"\n",
    "df = pl.read_csv(FILE_PATH, separator=\"\\t\", new_columns=[\"text\", \"categoory\"])\n",
    "text_list = df[\"text\"].to_list()\n",
    "\n",
    "#　記号を取り除く\n",
    "cleaned_text_list = [re.sub(r'[^a-zA-Z\\s]', \"\", text) for text in text_list]\n",
    "word_list = [text.split() for text in cleaned_text_list]\n",
    "word_list\n",
    "#　記号を取り除く\n",
    "word_frequency_dict = {}\n",
    "# 単語リストをループして出現頻度をカウント\n",
    "for words in word_list:\n",
    "    for word in words:\n",
    "        if word in word_frequency_dict:\n",
    "            word_frequency_dict[word] += 1\n",
    "        else:\n",
    "            word_frequency_dict[word] = 1\n",
    "\n",
    "sorted_word_frequency_dict = dict(sorted(word_frequency_dict.items(), key=lambda item: item[1], reverse=True)) #降順にソート\n",
    "\n",
    "\n",
    "word_id_map = {}    #単語とidの辞書型\n",
    "id = 1\n",
    "for key, value in sorted_word_frequency_dict.items():\n",
    "    if value == 1: #出現頻度が1のidは0\n",
    "        word_id_map[key] = 0\n",
    "    else:\n",
    "        word_id_map[key] = id\n",
    "        id += 1"
   ]
  },
  {
   "cell_type": "code",
   "execution_count": 6,
   "metadata": {},
   "outputs": [
    {
     "name": "stdout",
     "output_type": "stream",
     "text": [
      "['Google', 'Acquires', 'Quest', 'Visual', 'to', 'Bolster', 'Mobile', 'Translation', 'Tools']\n"
     ]
    },
    {
     "data": {
      "text/plain": [
       "'6941124113658810106204114'"
      ]
     },
     "execution_count": 6,
     "metadata": {},
     "output_type": "execute_result"
    }
   ],
   "source": [
    "def get_ids_from_word_list(word_list: list, word_id_map):\n",
    "    id_string = \"\"\n",
    "    for word in word_list:\n",
    "        id_string += str(word_id_map[word])\n",
    "    return id_string\n",
    "\n",
    "words = word_list[0] #訓練データの最初の行のテキストの単語リスト\n",
    "print(words)\n",
    "get_ids_from_word_list(words, word_id_map)"
   ]
  }
 ],
 "metadata": {
  "kernelspec": {
   "display_name": "Python 3",
   "language": "python",
   "name": "python3"
  },
  "language_info": {
   "codemirror_mode": {
    "name": "ipython",
    "version": 3
   },
   "file_extension": ".py",
   "mimetype": "text/x-python",
   "name": "python",
   "nbconvert_exporter": "python",
   "pygments_lexer": "ipython3",
   "version": "3.12.2"
  }
 },
 "nbformat": 4,
 "nbformat_minor": 2
}
