{
 "cells": [
  {
   "cell_type": "code",
   "execution_count": 6,
   "metadata": {},
   "outputs": [
    {
     "data": {
      "text/plain": [
       "18"
      ]
     },
     "execution_count": 6,
     "metadata": {},
     "output_type": "execute_result"
    }
   ],
   "source": [
    "import polars as pl\n",
    "import re\n",
    "import torch\n",
    "from torch import nn\n",
    "from torch.utils.data import Dataset, DataLoader\n",
    "import numpy as np\n",
    "\n",
    "# 学習データからテキストのみをリストで抽出\n",
    "FILE_PATH = \"../第6章/news+aggregator/train.txt\"\n",
    "df = pl.read_csv(FILE_PATH, separator=\"\\t\", new_columns=[\"text\", \"categoory\"])\n",
    "text_list = df[\"text\"].to_list()\n",
    "\n",
    "#　記号を取り除く\n",
    "cleaned_text_list = [re.sub(r'[^a-zA-Z\\s]', \"\", text) for text in text_list]\n",
    "word_list = [text.split() for text in cleaned_text_list]\n",
    "word_list\n",
    "#　記号を取り除く\n",
    "word_frequency_dict = {}\n",
    "# 単語リストをループして出現頻度をカウント\n",
    "for words in word_list:\n",
    "    for word in words:\n",
    "        if word in word_frequency_dict:\n",
    "            word_frequency_dict[word] += 1\n",
    "        else:\n",
    "            word_frequency_dict[word] = 1\n",
    "\n",
    "sorted_word_frequency_dict = dict(sorted(word_frequency_dict.items(), key=lambda item: item[1], reverse=True)) #降順にソート\n",
    "\n",
    "\n",
    "word_id_map = {}    #単語とidの辞書型\n",
    "id = 1\n",
    "for key, value in sorted_word_frequency_dict.items():\n",
    "    if value == 1: #出現頻度が1のidは0\n",
    "        word_id_map[key] = 0\n",
    "    else:\n",
    "        word_id_map[key] = id\n",
    "        id += 1\n",
    "# wordのidは0~9509の計9510個のidが存在する→つまりone-hotベクトルは9510次元\n",
    "onehot_dim = max(word_id_map.values()) + 1\n",
    "\n",
    "def get_index_vector(words, word_id_map):\n",
    "    # まず、必要な形状のテンソルを初期化\n",
    "    vectors = torch.zeros(len(words))\n",
    "    # 各単語の位置に1をセット\n",
    "    for i, word in enumerate(words):\n",
    "        vectors[i] = word_id_map[word]\n",
    "    return vectors.long()"
   ]
  },
  {
   "cell_type": "code",
   "execution_count": 52,
   "metadata": {},
   "outputs": [],
   "source": [
    "from torch.nn.utils.rnn import pad_sequence\n",
    "\n",
    "class TextDataset(Dataset):\n",
    "    def __init__(self, texts, labels):\n",
    "        self.texts = texts\n",
    "        self.labels = labels\n",
    "\n",
    "    def __len__(self):\n",
    "        return len(self.texts)\n",
    "\n",
    "    def __getitem__(self, idx):\n",
    "        text = self.texts[idx]\n",
    "        label = self.labels[idx]\n",
    "        return text, label\n",
    "\n",
    "\n",
    "X_train = [get_index_vector(words, word_id_map) for words in word_list] #文章をidに変換したリスト\n",
    "X_train = pad_sequence(X_train, batch_first=True, padding_value=0) #paddingをして系列長を揃える\n",
    "Y_train = np.load(\"../第8章/matrix/y_train.npy\")    #ラベルのロード(onehot vector)\n",
    "Y_train =torch.from_numpy(Y_train)  #tensorに変換\n",
    "datasets = TextDataset(X_train, Y_train)    #データセットとする\n",
    "train_dataloader = DataLoader(datasets, shuffle=True, batch_size=64)    #データローダーの定義"
   ]
  },
  {
   "cell_type": "code",
   "execution_count": 53,
   "metadata": {},
   "outputs": [],
   "source": [
    "from torch.nn.utils.rnn import pack_padded_sequence\n",
    "\n",
    "class LSTMModel(nn.Module):\n",
    "    def __init__(self,onehot_dim=onehot_dim ,embedding_dim = 300, hidden_dim = 50, output_dim = 4):\n",
    "        super().__init__()\n",
    "        self.emb = nn.Embedding(onehot_dim, embedding_dim)\n",
    "        self.LSTM = nn.LSTM(embedding_dim, hidden_dim, batch_first=True)\n",
    "        self.linear = nn.Linear(hidden_dim, output_dim, bias=True)\n",
    "        self.softmax = nn.Softmax(dim=0)\n",
    "\n",
    "    def forward(self, x,h=None):\n",
    "        x = self.emb(x)\n",
    "        y, h= self.LSTM(x, h)\n",
    "        y = self.linear(y)\n",
    "        y = self.softmax(y)\n",
    "        return y"
   ]
  },
  {
   "cell_type": "code",
   "execution_count": 4,
   "metadata": {},
   "outputs": [
    {
     "ename": "NameError",
     "evalue": "name 'LSTMModel' is not defined",
     "output_type": "error",
     "traceback": [
      "\u001b[0;31m---------------------------------------------------------------------------\u001b[0m",
      "\u001b[0;31mNameError\u001b[0m                                 Traceback (most recent call last)",
      "Cell \u001b[0;32mIn[4], line 1\u001b[0m\n\u001b[0;32m----> 1\u001b[0m model \u001b[38;5;241m=\u001b[39m \u001b[43mLSTMModel\u001b[49m()\n\u001b[1;32m      2\u001b[0m learning_rate \u001b[38;5;241m=\u001b[39m \u001b[38;5;241m1e-3\u001b[39m\n\u001b[1;32m      3\u001b[0m batch_size \u001b[38;5;241m=\u001b[39m \u001b[38;5;241m64\u001b[39m\n",
      "\u001b[0;31mNameError\u001b[0m: name 'LSTMModel' is not defined"
     ]
    }
   ],
   "source": [
    "model = LSTMModel()\n",
    "learning_rate = 1e-3\n",
    "batch_size = 64\n",
    "epochs = 500\n",
    "loss_fn = nn.CrossEntropyLoss()\n",
    "optimizer = torch.optim.SGD(model.parameters(), lr=learning_rate)"
   ]
  },
  {
   "cell_type": "code",
   "execution_count": 5,
   "metadata": {},
   "outputs": [
    {
     "ename": "NameError",
     "evalue": "name 'epochs' is not defined",
     "output_type": "error",
     "traceback": [
      "\u001b[0;31m---------------------------------------------------------------------------\u001b[0m",
      "\u001b[0;31mNameError\u001b[0m                                 Traceback (most recent call last)",
      "Cell \u001b[0;32mIn[5], line 3\u001b[0m\n\u001b[1;32m      1\u001b[0m \u001b[38;5;28;01mfrom\u001b[39;00m \u001b[38;5;21;01mtqdm\u001b[39;00m \u001b[38;5;28;01mimport\u001b[39;00m tqdm\n\u001b[0;32m----> 3\u001b[0m \u001b[38;5;28;01mfor\u001b[39;00m t \u001b[38;5;129;01min\u001b[39;00m tqdm(\u001b[38;5;28mrange\u001b[39m(\u001b[43mepochs\u001b[49m)):\n\u001b[1;32m      4\u001b[0m     size \u001b[38;5;241m=\u001b[39m \u001b[38;5;28mlen\u001b[39m(train_dataloader\u001b[38;5;241m.\u001b[39mdataset)\n\u001b[1;32m      5\u001b[0m     correct \u001b[38;5;241m=\u001b[39m \u001b[38;5;241m0\u001b[39m\n",
      "\u001b[0;31mNameError\u001b[0m: name 'epochs' is not defined"
     ]
    }
   ],
   "source": [
    "from tqdm import tqdm\n",
    "\n",
    "for t in tqdm(range(epochs)):\n",
    "    size = len(train_dataloader.dataset)\n",
    "    correct = 0\n",
    "    for batch, (X, y) in enumerate(train_dataloader):\n",
    "        # 予測と損失の計算\n",
    "        X = X\n",
    "        pred = model.forward(X)\n",
    "        loss = loss_fn(pred, y)\n",
    "        # バックプロパゲーション\n",
    "        optimizer.zero_grad()\n",
    "        loss.backward()\n",
    "        optimizer.step()\n",
    "        correct += (pred.argmax(dim=1) == y.argmax(dim=1)).sum().item()\n",
    "\n",
    "    if (t+1) % 100 == 0:\n",
    "        loss = loss.item()\n",
    "        print(f\"epoch:{t+1}, loss: {loss:>7f}, accuracy: {correct/size}\")"
   ]
  },
  {
   "cell_type": "code",
   "execution_count": null,
   "metadata": {},
   "outputs": [],
   "source": []
  }
 ],
 "metadata": {
  "kernelspec": {
   "display_name": "Python 3",
   "language": "python",
   "name": "python3"
  },
  "language_info": {
   "codemirror_mode": {
    "name": "ipython",
    "version": 3
   },
   "file_extension": ".py",
   "mimetype": "text/x-python",
   "name": "python",
   "nbconvert_exporter": "python",
   "pygments_lexer": "ipython3",
   "version": "3.12.2"
  }
 },
 "nbformat": 4,
 "nbformat_minor": 2
}
