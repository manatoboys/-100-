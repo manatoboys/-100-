{
 "cells": [
  {
   "cell_type": "code",
   "execution_count": 19,
   "metadata": {},
   "outputs": [
    {
     "name": "stdout",
     "output_type": "stream",
     "text": [
      "意味的アナロジー: 0.7400468384074942\n",
      "文法的アナロジー: 0.7309427153811457\n"
     ]
    }
   ],
   "source": [
    "import polars as pl\n",
    "\n",
    "df = pl.read_csv(\"output-questions-words.txt\", has_header=True, new_columns=[\"vec1\", \"vec2\", \"vec3\", \"vec4\", \"category\", \"vec5\", \"similarity\"], separator=\"\\t\")\n",
    "# \"category\"列が\"gram\"を含む行を選択\n",
    "df_se = df.filter(pl.col(\"category\").str.contains(\"gram\"))\n",
    "# \"category\"列が\"gram\"を含まない行を選択\n",
    "df_sy = df.filter(~pl.col(\"category\").str.contains(\"gram\"))\n",
    "\n",
    "df_se_true = df_se.filter(pl.col(\"vec4\") == pl.col(\"vec5\"))\n",
    "df_sy_true = df_sy.filter(pl.col(\"vec4\") == pl.col(\"vec5\"))\n",
    "print(\"意味的アナロジー:\", len(df_se_true)/len(df_se))\n",
    "print(\"文法的アナロジー:\", len(df_sy_true)/len(df_sy))"
   ]
  }
 ],
 "metadata": {
  "kernelspec": {
   "display_name": "Python 3",
   "language": "python",
   "name": "python3"
  },
  "language_info": {
   "codemirror_mode": {
    "name": "ipython",
    "version": 3
   },
   "file_extension": ".py",
   "mimetype": "text/x-python",
   "name": "python",
   "nbconvert_exporter": "python",
   "pygments_lexer": "ipython3",
   "version": "3.12.2"
  }
 },
 "nbformat": 4,
 "nbformat_minor": 2
}
