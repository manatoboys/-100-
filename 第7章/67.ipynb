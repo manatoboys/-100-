{
 "cells": [
  {
   "cell_type": "code",
   "execution_count": 1,
   "metadata": {},
   "outputs": [],
   "source": [
    "from gensim.models import KeyedVectors\n",
    "import polars as pl\n",
    "\n",
    "# モデルのロード\n",
    "model = KeyedVectors.load_word2vec_format(\"./GoogleNews-vectors-negative300.bin.gz\", binary=True)"
   ]
  },
  {
   "cell_type": "code",
   "execution_count": 27,
   "metadata": {},
   "outputs": [
    {
     "data": {
      "text/plain": [
       "numpy.ndarray"
      ]
     },
     "execution_count": 27,
     "metadata": {},
     "output_type": "execute_result"
    }
   ],
   "source": [
    "# country.csvは国名一覧が描かれrているテキストファイル\n",
    "df = pl.read_csv(\"country.csv\", separator=\"\\t\", new_columns=[\"country\"])\n",
    "\n",
    "# モデルに含まれている国名のみを抽出したリスト([国名,ベクトル]のリスト)\n",
    "country_in_model = [country for country in df[\"country\"].to_list() if country in model]"
   ]
  },
  {
   "cell_type": "code",
   "execution_count": 31,
   "metadata": {},
   "outputs": [
    {
     "data": {
      "text/plain": [
       "186"
      ]
     },
     "execution_count": 31,
     "metadata": {},
     "output_type": "execute_result"
    }
   ],
   "source": [
    "import torch\n",
    "import numpy as np\n",
    "\n",
    "country_vectors = torch.stack([torch.from_numpy(model[country].astype(np.float32)) for country in country_in_model])"
   ]
  },
  {
   "cell_type": "code",
   "execution_count": 70,
   "metadata": {},
   "outputs": [],
   "source": [
    "from collections import defaultdict\n",
    "\n",
    "class K_means():\n",
    "\n",
    "    def __init__(self, country_list, country_vec_list, cluster_num, n_iter=100, tol=1e-4):\n",
    "        self.__country_list = country_list\n",
    "        self.__country_vec_list = country_vec_list\n",
    "        self.__cluster_num = cluster_num\n",
    "        self.__n_iter = n_iter\n",
    "        self.__tol = tol\n",
    "\n",
    "    def kmeans(self):\n",
    "        num_points = len(self.__country_vec_list)\n",
    "        centroids = self.__country_vec_list[torch.randperm(num_points)[:self.__cluster_num]]   #初期のクラスタ中心をベクトルデータからランダムに選ぶ\n",
    "\n",
    "        for _ in range(self.__n_iter):\n",
    "            distances = torch.cdist(self.__country_vec_list, centroids)     #各ベクトルと各中心点の距離が格納されたベクトル\n",
    "            labels = torch.argmin(distances, dim=1) # labelsは[0,4,3,2,1,1,4]のようにクラスターのインデックスが格納されている\n",
    "\n",
    "            new_centroids = torch.stack([self.__country_vec_list[labels == i].mean(dim=0) for i in range(self.__cluster_num)])  #新しい中心点を計算\n",
    "\n",
    "            if torch.norm(centroids - new_centroids) < self.__tol:  #ノルムが閾値以下の場合はbreak\n",
    "                break\n",
    "\n",
    "            centroids = new_centroids #新しい中心点\n",
    "\n",
    "        return labels, centroids\n",
    "\n",
    "    def run(self):\n",
    "        labels, centroids = self.kmeans()\n",
    "        clusters = defaultdict(list)\n",
    "        for country, label in zip(self.__country_list, labels):\n",
    "            clusters[label.item()].append(country)\n",
    "\n",
    "        for i in range(self.__cluster_num):\n",
    "            print(f\"Cluster {i+1}: {clusters[i]}\")\n"
   ]
  },
  {
   "cell_type": "code",
   "execution_count": 71,
   "metadata": {},
   "outputs": [
    {
     "name": "stdout",
     "output_type": "stream",
     "text": [
      "Cluster 1: ['Angola', 'Barbuda', 'Bahamas', 'Barbados', 'Belize', 'Benin', 'Botswana', 'Burundi', 'Cameroon', 'Comoros', 'Congo', 'Djibouti', 'Dominica', 'Guinea', 'Eritrea', 'Ethiopia', 'Fiji', 'Gabon', 'Gambia', 'Ghana', 'Grenada', 'Guatemala', 'Guinea', 'Guyana', 'Haiti', 'Honduras', 'Jamaica', 'Kenya', 'Lesotho', 'Liberia', 'Madagascar', 'Malawi', 'Maldives', 'Mali', 'Mauritania', 'Mauritius', 'Mozambique', 'Myanmar', 'Namibia', 'Nicaragua', 'Niger', 'Nigeria', 'Guinea', 'Rwanda', 'Nevis', 'Grenadines', 'Samoa', 'Senegal', 'Seychelles', 'Somalia', 'Africa', 'Sudan', 'Sudan', 'Suriname', 'Togo', 'Tonga', 'Tobago', 'Tunisia', 'Uganda', 'Tanzania', 'Vanuatu', 'Yemen', 'Zambia', 'Zimbabwe']\n",
      "Cluster 2: ['Kiribati', 'Nauru', 'Palau', 'Tuvalu']\n",
      "Cluster 3: ['Zealand', 'Lanka']\n",
      "Cluster 4: ['Darussalam', 'Faso', 'Verde', 'Republic', 'Chad', 'Rica', 'Republic', 'Republic', 'Salvador', 'Georgia', 'Jordan', 'Republic', 'Lebanon', 'Islands', 'Mexico', 'Monaco', 'Panama', 'Federation', 'Lucia', 'Marino', 'Principe', 'Arabia', 'Leone', 'Islands', 'Kingdom', 'America', 'Nam']\n",
      "Cluster 5: ['Albania', 'Algeria', 'Andorra', 'Argentina', 'Armenia', 'Australia', 'Austria', 'Azerbaijan', 'Bahrain', 'Bangladesh', 'Belarus', 'Belgium', 'Bhutan', 'Bolivia', 'Herzegovina', 'Brazil', 'Bulgaria', 'Cambodia', 'Canada', 'Chile', 'China', 'Colombia', 'Croatia', 'Cuba', 'Cyprus', 'Korea', 'Denmark', 'Ecuador', 'Egypt', 'Estonia', 'Finland', 'France', 'Germany', 'Greece', 'Hungary', 'Iceland', 'India', 'Indonesia', 'Iran', 'Iraq', 'Ireland', 'Israel', 'Italy', 'Japan', 'Kazakhstan', 'Kuwait', 'Kyrgyzstan', 'Latvia', 'Libya', 'Liechtenstein', 'Lithuania', 'Luxembourg', 'Malaysia', 'Malta', 'Mongolia', 'Montenegro', 'Morocco', 'Nepal', 'Netherlands', 'Macedonia', 'Norway', 'Oman', 'Pakistan', 'Paraguay', 'Peru', 'Philippines', 'Poland', 'Portugal', 'Qatar', 'Korea', 'Moldova', 'Romania', 'Serbia', 'Singapore', 'Slovakia', 'Slovenia', 'Spain', 'Sweden', 'Switzerland', 'Syria', 'Tajikistan', 'Thailand', 'Turkey', 'Turkmenistan', 'Ukraine', 'Emirates', 'Uruguay', 'Uzbekistan', 'Venezuela']\n"
     ]
    }
   ],
   "source": [
    "K_means(country_in_model, country_vectors, 5).run()"
   ]
  }
 ],
 "metadata": {
  "kernelspec": {
   "display_name": "Python 3",
   "language": "python",
   "name": "python3"
  },
  "language_info": {
   "codemirror_mode": {
    "name": "ipython",
    "version": 3
   },
   "file_extension": ".py",
   "mimetype": "text/x-python",
   "name": "python",
   "nbconvert_exporter": "python",
   "pygments_lexer": "ipython3",
   "version": "3.12.2"
  }
 },
 "nbformat": 4,
 "nbformat_minor": 2
}
