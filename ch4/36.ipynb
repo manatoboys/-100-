{
 "cells": [
  {
   "cell_type": "code",
   "execution_count": 15,
   "metadata": {},
   "outputs": [],
   "source": [
    "#問題30の処理を関数化した\n",
    "def prepare():   \n",
    "    with open(\"neko.txt.mecab\", \"r\", encoding='utf-8') as f:\n",
    "        data = f.readlines()    #各行の読み込み\n",
    "        data = [line.strip(\"\\n\") for line in data]  #全ての行から\"\\n\"を排除\n",
    "\n",
    "    ans = []    #回答保存用配列\n",
    "\n",
    "    #各行をループ\n",
    "    for text in data:\n",
    "        if text == \"EOS\":\n",
    "            break\n",
    "        dict = {}\n",
    "\n",
    "        #空白の場合の処理\n",
    "        if text[0] == \" \":\n",
    "            dict[\"surface\"] = \" \"\n",
    "            dict[\"base\"] = \" \"\n",
    "            temp = text.split(\"\\t\")\n",
    "            print(temp)\n",
    "            dict[\"pos\"] =temp[0]\n",
    "            dict[\"pos1\"] = temp[1]\n",
    "        #それ以外\n",
    "        else:\n",
    "            temp = text.split(\"\\t\")\n",
    "            dict[\"surface\"] = temp[0]\n",
    "            dict[\"base\"] = temp[1]\n",
    "            dict[\"pos\"] = temp[2]\n",
    "            dict[\"pos1\"] = temp[3]\n",
    "        ans.append(dict)\n",
    "    return ans"
   ]
  },
  {
   "cell_type": "code",
   "execution_count": 16,
   "metadata": {},
   "outputs": [],
   "source": [
    "import heapq\n",
    "\n",
    "data = [i[\"surface\"] for i in prepare()]    #surfaceのみを抽出\n",
    "data_set = set(data)\n",
    "\n",
    "word_freq_list = [] #単語と出現頻度の格納配列\n",
    "#  {\"単語\", \"frequency\"} の形で抽出\n",
    "for i in data_set:\n",
    "    tmp = {}\n",
    "    cnt = data.count(i)\n",
    "    tmp[\"word\"] = i\n",
    "    tmp[\"frequency\"] = cnt\n",
    "    word_freq_list.append(tmp)\n",
    "\n",
    "# frequencyをkeyとしてtop10を取り出す\n",
    "top10_list = heapq.nlargest(10, word_freq_list, key=lambda x:x[\"frequency\"])"
   ]
  },
  {
   "cell_type": "code",
   "execution_count": 17,
   "metadata": {},
   "outputs": [
    {
     "data": {
      "image/png": "[encoded data removed]",
      "text/plain": [
       "<Figure size 640x480 with 1 Axes>"
      ]
     },
     "metadata": {},
     "output_type": "display_data"
    }
   ],
   "source": [
    "#ここからmatplotlibで棒グラフ描画\n",
    "import matplotlib as mpl\n",
    "mpl.rcParams['font.family'] = 'MS Gothic'\n",
    "import matplotlib.pyplot as plt\n",
    "\n",
    "left = [data[\"word\"] for data in top10_list]\n",
    "height = [data[\"frequency\"] for data in top10_list]\n",
    "plt.bar(x=left, height=height)\n",
    "plt.show()"
   ]
  },
  {
   "cell_type": "markdown",
   "metadata": {},
   "source": [
    "**リーダブルコード**  \n",
    "- P16 具体的な名前を使う\n",
    "- P19 単語に情報を追加する\n",
    "- P51 コードを段落に分割する\n",
    "- P100 説明変数の導入"
   ]
  }
 ],
 "metadata": {
  "kernelspec": {
   "display_name": ".venv",
   "language": "python",
   "name": "python3"
  },
  "language_info": {
   "codemirror_mode": {
    "name": "ipython",
    "version": 3
   },
   "file_extension": ".py",
   "mimetype": "text/x-python",
   "name": "python",
   "nbconvert_exporter": "python",
   "pygments_lexer": "ipython3",
   "version": "3.11.3"
  }
 },
 "nbformat": 4,
 "nbformat_minor": 2
}
