{
 "cells": [
  {
   "cell_type": "code",
   "execution_count": 5,
   "metadata": {},
   "outputs": [],
   "source": [
    "#問題30の処理を関数化した\n",
    "def prepare():   \n",
    "    with open(\"neko.txt.mecab\", \"r\") as f:\n",
    "        data = f.readlines()    #各行の読み込み\n",
    "        data = [line.strip(\"\\n\") for line in data]  #全ての行から\"\\n\"を排除\n",
    "\n",
    "    ans = []    #回答保存用配列\n",
    "\n",
    "    #各行をループ\n",
    "    for text in data:\n",
    "        if text == \"EOS\":\n",
    "            break\n",
    "        dict = {}\n",
    "\n",
    "        #空白の場合の処理\n",
    "        if text[0] == \" \":\n",
    "            dict[\"surface\"] = \" \"\n",
    "            dict[\"base\"] = \" \"\n",
    "            temp = text.split(\"\\t\")\n",
    "            print(temp)\n",
    "            dict[\"pos\"] =temp[0]\n",
    "            dict[\"pos1\"] = temp[1]\n",
    "        #それ以外\n",
    "        else:\n",
    "            temp = text.split(\"\\t\")\n",
    "            dict[\"surface\"] = temp[0]\n",
    "            dict[\"base\"] = temp[1]\n",
    "            dict[\"pos\"] = temp[2]\n",
    "            dict[\"pos1\"] = temp[3]\n",
    "        ans.append(dict)\n",
    "    return ans"
   ]
  },
  {
   "cell_type": "code",
   "execution_count": 7,
   "metadata": {},
   "outputs": [],
   "source": [
    "import heapq\n",
    "\n",
    "data = [i[\"surface\"] for i in prepare()]    #surfaceのみを抽出\n",
    "data_set = set(data)\n",
    "\n",
    "word_freq_list = [] #単語と出現頻度の格納配列\n",
    "#  {\"単語\", \"frequency\"} の形で抽出\n",
    "for i in data_set:\n",
    "    tmp = {}\n",
    "    cnt = data.count(i)\n",
    "    tmp[\"word\"] = i\n",
    "    tmp[\"frequency\"] = cnt\n",
    "    word_freq_list.append(tmp)\n",
    "\n",
    "# frequencyをkeyとしてtop10を取り出す\n",
    "top10_list = heapq.nlargest(10, word_freq_list, key=lambda x:x[\"frequency\"])"
   ]
  },
  {
   "cell_type": "code",
   "execution_count": 13,
   "metadata": {},
   "outputs": [
    {
     "name": "stderr",
     "output_type": "stream",
     "text": [
      "/Users/tajirimanato/Desktop/自然言語処理100本ノック/第4章/.venv/lib/python3.9/site-packages/IPython/core/pylabtools.py:152: UserWarning: Glyph 12398 (\\N{HIRAGANA LETTER NO}) missing from current font.\n",
      "  fig.canvas.print_figure(bytes_io, **kw)\n",
      "/Users/tajirimanato/Desktop/自然言語処理100本ノック/第4章/.venv/lib/python3.9/site-packages/IPython/core/pylabtools.py:152: UserWarning: Glyph 12290 (\\N{IDEOGRAPHIC FULL STOP}) missing from current font.\n",
      "  fig.canvas.print_figure(bytes_io, **kw)\n",
      "/Users/tajirimanato/Desktop/自然言語処理100本ノック/第4章/.venv/lib/python3.9/site-packages/IPython/core/pylabtools.py:152: UserWarning: Glyph 12390 (\\N{HIRAGANA LETTER TE}) missing from current font.\n",
      "  fig.canvas.print_figure(bytes_io, **kw)\n",
      "/Users/tajirimanato/Desktop/自然言語処理100本ノック/第4章/.venv/lib/python3.9/site-packages/IPython/core/pylabtools.py:152: UserWarning: Glyph 12289 (\\N{IDEOGRAPHIC COMMA}) missing from current font.\n",
      "  fig.canvas.print_figure(bytes_io, **kw)\n",
      "/Users/tajirimanato/Desktop/自然言語処理100本ノック/第4章/.venv/lib/python3.9/site-packages/IPython/core/pylabtools.py:152: UserWarning: Glyph 12399 (\\N{HIRAGANA LETTER HA}) missing from current font.\n",
      "  fig.canvas.print_figure(bytes_io, **kw)\n",
      "/Users/tajirimanato/Desktop/自然言語処理100本ノック/第4章/.venv/lib/python3.9/site-packages/IPython/core/pylabtools.py:152: UserWarning: Glyph 12395 (\\N{HIRAGANA LETTER NI}) missing from current font.\n",
      "  fig.canvas.print_figure(bytes_io, **kw)\n",
      "/Users/tajirimanato/Desktop/自然言語処理100本ノック/第4章/.venv/lib/python3.9/site-packages/IPython/core/pylabtools.py:152: UserWarning: Glyph 12434 (\\N{HIRAGANA LETTER WO}) missing from current font.\n",
      "  fig.canvas.print_figure(bytes_io, **kw)\n",
      "/Users/tajirimanato/Desktop/自然言語処理100本ノック/第4章/.venv/lib/python3.9/site-packages/IPython/core/pylabtools.py:152: UserWarning: Glyph 12392 (\\N{HIRAGANA LETTER TO}) missing from current font.\n",
      "  fig.canvas.print_figure(bytes_io, **kw)\n",
      "/Users/tajirimanato/Desktop/自然言語処理100本ノック/第4章/.venv/lib/python3.9/site-packages/IPython/core/pylabtools.py:152: UserWarning: Glyph 12364 (\\N{HIRAGANA LETTER GA}) missing from current font.\n",
      "  fig.canvas.print_figure(bytes_io, **kw)\n",
      "/Users/tajirimanato/Desktop/自然言語処理100本ノック/第4章/.venv/lib/python3.9/site-packages/IPython/core/pylabtools.py:152: UserWarning: Glyph 12383 (\\N{HIRAGANA LETTER TA}) missing from current font.\n",
      "  fig.canvas.print_figure(bytes_io, **kw)\n"
     ]
    },
    {
     "data": {
      "image/png": "[encoded data removed]",
      "text/plain": [
       "<Figure size 640x480 with 1 Axes>"
      ]
     },
     "metadata": {},
     "output_type": "display_data"
    }
   ],
   "source": [
    "#ここからmatplotlibで棒グラフ描画\n",
    "import matplotlib.pyplot as plt\n",
    "\n",
    "left = [data[\"word\"] for data in top10_list]\n",
    "height = [data[\"frequency\"] for data in top10_list]\n",
    "plt.bar(x=left, height=height)\n",
    "plt.show()  #自分のpcではラベルに平仮名を表示できなかった。"
   ]
  },
  {
   "cell_type": "code",
   "execution_count": null,
   "metadata": {},
   "outputs": [],
   "source": []
  }
 ],
 "metadata": {
  "kernelspec": {
   "display_name": ".venv",
   "language": "python",
   "name": "python3"
  },
  "language_info": {
   "codemirror_mode": {
    "name": "ipython",
    "version": 3
   },
   "file_extension": ".py",
   "mimetype": "text/x-python",
   "name": "python",
   "nbconvert_exporter": "python",
   "pygments_lexer": "ipython3",
   "version": "3.9.1"
  }
 },
 "nbformat": 4,
 "nbformat_minor": 2
}
