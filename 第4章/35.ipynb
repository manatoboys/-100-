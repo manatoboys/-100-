{
 "cells": [
  {
   "cell_type": "code",
   "execution_count": 10,
   "metadata": {},
   "outputs": [],
   "source": [
    "#問題30の処理を関数化した\n",
    "def prepare():   \n",
    "    with open(\"neko.txt.mecab\", \"r\") as f:\n",
    "        data = f.readlines()    #各行の読み込み\n",
    "        data = [line.strip(\"\\n\") for line in data]  #全ての行から\"\\n\"を排除\n",
    "\n",
    "    ans = []    #回答保存用配列\n",
    "\n",
    "    #各行をループ\n",
    "    for text in data:\n",
    "        if text == \"EOS\":\n",
    "            break\n",
    "        dict = {}\n",
    "\n",
    "        #空白の場合の処理\n",
    "        if text[0] == \" \":\n",
    "            dict[\"surface\"] = \" \"\n",
    "            dict[\"base\"] = \" \"\n",
    "            temp = text.split(\"\\t\")\n",
    "            print(temp)\n",
    "            dict[\"pos\"] =temp[0]\n",
    "            dict[\"pos1\"] = temp[1]\n",
    "        #それ以外\n",
    "        else:\n",
    "            temp = text.split(\"\\t\")\n",
    "            dict[\"surface\"] = temp[0]\n",
    "            dict[\"base\"] = temp[1]\n",
    "            dict[\"pos\"] = temp[2]\n",
    "            dict[\"pos1\"] = temp[3]\n",
    "        ans.append(dict)\n",
    "    return ans"
   ]
  },
  {
   "cell_type": "code",
   "execution_count": 13,
   "metadata": {},
   "outputs": [
    {
     "data": {
      "text/plain": [
       "[{'word': 'の', 'frequency': 9194},\n",
       " {'word': '。', 'frequency': 7486},\n",
       " {'word': 'て', 'frequency': 6873},\n",
       " {'word': '、', 'frequency': 6772},\n",
       " {'word': 'は', 'frequency': 6422},\n",
       " {'word': 'に', 'frequency': 6268},\n",
       " {'word': 'を', 'frequency': 6071},\n",
       " {'word': 'と', 'frequency': 5515},\n",
       " {'word': 'が', 'frequency': 5339},\n",
       " {'word': 'た', 'frequency': 3989}]"
      ]
     },
     "execution_count": 13,
     "metadata": {},
     "output_type": "execute_result"
    }
   ],
   "source": [
    "import heapq\n",
    "\n",
    "data = [i[\"surface\"] for i in prepare()]    #surfaceのみを抽出\n",
    "data_set = set(data)\n",
    "\n",
    "word_freq_list = [] #単語と出現頻度の格納配列\n",
    "#  {\"単語\", \"frequency\"} の形で抽出\n",
    "for i in data_set:\n",
    "    tmp = {}\n",
    "    cnt = data.count(i)\n",
    "    tmp[\"word\"] = i\n",
    "    tmp[\"frequency\"] = cnt\n",
    "    word_freq_list.append(tmp)\n",
    "\n",
    "# frequencyをkeyとしてtop10を取り出す\n",
    "top10_list = heapq.nlargest(10, word_freq_list, key=lambda x:x[\"frequency\"])\n",
    "top10_list"
   ]
  }
 ],
 "metadata": {
  "kernelspec": {
   "display_name": ".venv",
   "language": "python",
   "name": "python3"
  },
  "language_info": {
   "codemirror_mode": {
    "name": "ipython",
    "version": 3
   },
   "file_extension": ".py",
   "mimetype": "text/x-python",
   "name": "python",
   "nbconvert_exporter": "python",
   "pygments_lexer": "ipython3",
   "version": "3.9.1"
  }
 },
 "nbformat": 4,
 "nbformat_minor": 2
}
