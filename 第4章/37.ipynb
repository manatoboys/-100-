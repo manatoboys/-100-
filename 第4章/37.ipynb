{
 "cells": [
  {
   "cell_type": "code",
   "execution_count": 2,
   "metadata": {},
   "outputs": [],
   "source": [
    "#問題30の処理を関数化した\n",
    "def prepare():\n",
    "    with open(\"neko.txt.mecab\", \"r\", encoding=\"utf-8\") as f:\n",
    "        data = f.readlines()    #各行の読み込み\n",
    "        data = [line.strip(\"\\n\") for line in data]  #全ての行から\"\\n\"を排除\n",
    "\n",
    "    ans = []    #回答保存用配列\n",
    "\n",
    "    #各行をループ\n",
    "    for text in data:\n",
    "        if text == \"EOS\":\n",
    "            break\n",
    "        dict = {}\n",
    "\n",
    "        #空白の場合の処理\n",
    "        if text[0] == \" \":\n",
    "            dict[\"surface\"] = \" \"\n",
    "            dict[\"base\"] = \" \"\n",
    "            temp = text.split(\"\\t\")\n",
    "            print(temp)\n",
    "            dict[\"pos\"] =temp[0]\n",
    "            dict[\"pos1\"] = temp[1]\n",
    "        #それ以外\n",
    "        else:\n",
    "            temp = text.split(\"\\t\")\n",
    "            dict[\"surface\"] = temp[0]\n",
    "            dict[\"base\"] = temp[1]\n",
    "            dict[\"pos\"] = temp[2]\n",
    "            dict[\"pos1\"] = temp[3]\n",
    "        ans.append(dict)\n",
    "    return ans"
   ]
  },
  {
   "cell_type": "code",
   "execution_count": 4,
   "metadata": {},
   "outputs": [
    {
     "data": {
      "text/plain": [
       "[('の', 471),\n",
       " ('は', 344),\n",
       " ('猫', 316),\n",
       " ('、', 314),\n",
       " ('だ', 294),\n",
       " ('に', 294),\n",
       " ('を', 270),\n",
       " ('て', 264),\n",
       " ('と', 242),\n",
       " ('が', 226)]"
      ]
     },
     "execution_count": 4,
     "metadata": {},
     "output_type": "execute_result"
    }
   ],
   "source": [
    "datas = prepare()\n",
    "\n",
    "# 一文ごとに配列を分ける\n",
    "data_SplitBy_sentence = []\n",
    "sentence = []\n",
    "for data in datas:\n",
    "    # 空白は飛ばす\n",
    "    if data[\"pos1\"] == \"空白\":\n",
    "        continue\n",
    "    # 句点で区切る\n",
    "    if data[\"pos1\"] == \"句点\":\n",
    "        data_SplitBy_sentence.append(sentence)\n",
    "        sentence = []\n",
    "    else:\n",
    "        sentence.append(data[\"base\"])\n",
    "\n",
    "count_dict = {}\n",
    "for sentence in data_SplitBy_sentence:\n",
    "    neko_num =sentence.count(\"猫\")\n",
    "    for word in sentence:\n",
    "        if word in count_dict:\n",
    "            count_dict[word] += neko_num\n",
    "        else:\n",
    "            count_dict[word] = neko_num\n",
    "\n",
    "sorted_list = sorted(count_dict.items(), key=lambda x:x[1], reverse=True)\n",
    "top10_list = sorted_list[:10]\n",
    "top10_list"
   ]
  },
  {
   "cell_type": "code",
   "execution_count": 15,
   "metadata": {},
   "outputs": [
    {
     "data": {
      "image/png": "[encoded data removed]",
      "text/plain": [
       "<Figure size 640x480 with 1 Axes>"
      ]
     },
     "metadata": {},
     "output_type": "display_data"
    }
   ],
   "source": [
    "import matplotlib as mpl\n",
    "mpl.rcParams['font.family'] = 'MS Gothic'\n",
    "import matplotlib.pyplot as plt\n",
    "\n",
    "left = [data[0] for data in top10_list]\n",
    "height = [data[1] for data in top10_list]\n",
    "plt.bar(x=left, height=height)\n",
    "plt.show()  "
   ]
  },
  {
   "cell_type": "markdown",
   "metadata": {},
   "source": [
    "**リーダブルコード**  \n",
    "- P16 具体的な名前を使う\n",
    "- P19 単語に情報を追加する\n",
    "- P51 コードを段落に分割する\n",
    "- P100 説明変数の導入"
   ]
  }
 ],
 "metadata": {
  "kernelspec": {
   "display_name": "Python 3",
   "language": "python",
   "name": "python3"
  },
  "language_info": {
   "codemirror_mode": {
    "name": "ipython",
    "version": 3
   },
   "file_extension": ".py",
   "mimetype": "text/x-python",
   "name": "python",
   "nbconvert_exporter": "python",
   "pygments_lexer": "ipython3",
   "version": "3.12.2"
  }
 },
 "nbformat": 4,
 "nbformat_minor": 2
}
