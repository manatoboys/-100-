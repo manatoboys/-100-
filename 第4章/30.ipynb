{
 "cells": [
  {
   "cell_type": "code",
   "execution_count": 2,
   "metadata": {},
   "outputs": [
    {
     "name": "stdout",
     "output_type": "stream",
     "text": [
      "[{'surface': '一', 'base': '一', 'pos': '名詞', 'pos1': '数'}, {'surface': '\\u3000', 'base': '\\u3000', 'pos': '記号', 'pos1': '空白'}, {'surface': '吾輩', 'base': '吾輩', 'pos': '名詞', 'pos1': '代名詞'}, {'surface': 'は', 'base': 'は', 'pos': '助詞', 'pos1': '係助詞'}, {'surface': '猫', 'base': '猫', 'pos': '名詞', 'pos1': '一般'}, {'surface': 'で', 'base': 'だ', 'pos': '助動詞', 'pos1': ''}, {'surface': 'ある', 'base': 'ある', 'pos': '助動詞', 'pos1': ''}, {'surface': '。', 'base': '。', 'pos': '記号', 'pos1': '句点'}, {'surface': '名前', 'base': '名前', 'pos': '名詞', 'pos1': '一般'}, {'surface': 'は', 'base': 'は', 'pos': '助詞', 'pos1': '係助詞'}]\n"
     ]
    }
   ],
   "source": [
    "#jupyter notebookではdataが多過ぎて出力ができなかった。\n",
    "\n",
    "with open(\"neko.txt.mecab\", \"r\") as f:\n",
    "    data = f.readlines()    #各行の読み込み\n",
    "    data = [line.strip(\"\\n\") for line in data]  #全ての行から\"\\n\"を排除\n",
    "\n",
    "ans = []    #回答保存用配列\n",
    "\n",
    "#各行をループ\n",
    "for text in data:\n",
    "    if text == \"EOS\":\n",
    "        break\n",
    "    dict = {}\n",
    "\n",
    "    #空白の場合の処理\n",
    "    if text[0] == \" \":\n",
    "        dict[\"surface\"] = \" \"\n",
    "        dict[\"base\"] = \" \"\n",
    "        temp = text.split(\"\\t\")\n",
    "        print(temp)\n",
    "        dict[\"pos\"] =temp[0]\n",
    "        dict[\"pos1\"] = temp[1]\n",
    "    #それ以外\n",
    "    else:\n",
    "        temp = text.split(\"\\t\")\n",
    "        dict[\"surface\"] = temp[0]\n",
    "        dict[\"base\"] = temp[1]\n",
    "        dict[\"pos\"] = temp[2]\n",
    "        dict[\"pos1\"] = temp[3]\n",
    "    ans.append(dict)\n",
    "\n",
    "print(ans)"
   ]
  },
  {
   "cell_type": "markdown",
   "metadata": {},
   "source": [
    "**出力(top10件)**  \n",
    "[{'surface': '一', 'base': '一', 'pos': '名詞', 'pos1': '数'}, {'surface': '\\u3000', 'base': '\\u3000', 'pos': '記号', 'pos1': '空白'}, {'surface': '吾輩', 'base': '吾輩', 'pos': '名詞', 'pos1': '代名詞'}, {'surface': 'は', 'base': 'は', 'pos': '助詞', 'pos1': '係助詞'}, {'surface': '猫', 'base': '猫', 'pos': '名詞', 'pos1': '一般'}, {'surface': 'で', 'base': 'だ', 'pos': '助動詞', 'pos1': ''}, {'surface': 'ある', 'base': 'ある', 'pos': '助動詞', 'pos1': ''}, {'surface': '。', 'base': '。', 'pos': '記号', 'pos1': '句点'}, {'surface': '名前', 'base': '名前', 'pos': '名詞', 'pos1': '一般'}, {'surface': 'は', 'base': 'は', 'pos': '助詞', 'pos1': '係助詞'}]"
   ]
  },
  {
   "cell_type": "markdown",
   "metadata": {},
   "source": [
    "**リーダブルコード**  \n",
    "- P16 具体的な名前を使う\n",
    "- P19 単語に情報を追加する\n",
    "- P51 コードを段落に分割する"
   ]
  }
 ],
 "metadata": {
  "kernelspec": {
   "display_name": "Python 3",
   "language": "python",
   "name": "python3"
  },
  "language_info": {
   "codemirror_mode": {
    "name": "ipython",
    "version": 3
   },
   "file_extension": ".py",
   "mimetype": "text/x-python",
   "name": "python",
   "nbconvert_exporter": "python",
   "pygments_lexer": "ipython3",
   "version": "3.12.2"
  }
 },
 "nbformat": 4,
 "nbformat_minor": 2
}
