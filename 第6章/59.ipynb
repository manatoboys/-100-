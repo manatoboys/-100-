{
 "cells": [
  {
   "cell_type": "code",
   "execution_count": 2,
   "metadata": {},
   "outputs": [],
   "source": [
    "from tqdm import tqdm\n",
    "\n",
    "# bag of wordsの辞書を作成\n",
    "def create_BoW_dict(file_path):\n",
    "    BoW_dict = {}\n",
    "    i = 0\n",
    "    with open(file_path, \"r\", encoding=\"utf-8\")as f:\n",
    "        data_list = f.readlines()\n",
    "        for data in data_list:\n",
    "            data = data.split('\\t')\n",
    "            word_list = data[0].split()\n",
    "            for word in word_list:\n",
    "                if word in BoW_dict:\n",
    "                    continue\n",
    "                else:\n",
    "                    BoW_dict[word] = i\n",
    "                    i += 1\n",
    "    return BoW_dict\n",
    "\n",
    "# t=0, e=1, m=2, b=3としてテストデータのベクトルとラベルをそれぞれリストとして作成\n",
    "def create_vector_and_label(file_path, BoW_dict):\n",
    "    with open(file_path, \"r\", encoding=\"utf-8\")as f:\n",
    "        data_list = f.readlines()\n",
    "        vector_list = []\n",
    "        label_list = []\n",
    "        for data in tqdm(data_list):\n",
    "            data = data.split(\"\\t\")\n",
    "            word_list = data[0].split()\n",
    "            vector = [0] * len(BoW_dict)\n",
    "            for word in word_list:\n",
    "                if word in BoW_dict:\n",
    "                    vector[BoW_dict[word]] += 1\n",
    "            vector_list.append(vector)\n",
    "            label_alph = data[1].strip(\"\\n\")\n",
    "            if label_alph == \"t\":\n",
    "                label = [1, 0, 0, 0]\n",
    "            elif label_alph == \"e\":\n",
    "                label = [0, 1, 0, 0]\n",
    "            elif label_alph == \"m\":\n",
    "                label = [0, 0, 1, 0]\n",
    "            elif label_alph == \"b\":\n",
    "                label = [0, 0, 0, 1]\n",
    "            else:\n",
    "                print(\"error label\")\n",
    "            label_list.append(label)\n",
    "    return vector_list, label_list"
   ]
  },
  {
   "cell_type": "code",
   "execution_count": 3,
   "metadata": {},
   "outputs": [
    {
     "name": "stderr",
     "output_type": "stream",
     "text": [
      "100%|██████████| 10671/10671 [00:01<00:00, 7602.56it/s]\n"
     ]
    }
   ],
   "source": [
    "import torch\n",
    "from torch.utils.data import TensorDataset\n",
    "from torch.utils.data import DataLoader\n",
    "\n",
    "TRAIN_FEATURE_FILE_PATH = \"./news+aggregator/train.feature.txt\"\n",
    "\n",
    "# bag of wordsの辞書型を作成\n",
    "BoW_dict = create_BoW_dict(TRAIN_FEATURE_FILE_PATH)\n",
    "\n",
    "# test.txtからベクトルリストとラベルリストを作成\n",
    "x_train_list, y_train_list = create_vector_and_label(TRAIN_FEATURE_FILE_PATH, BoW_dict)\n",
    "\n",
    "# データの準備\n",
    "x_train = torch.Tensor(x_train_list)\n",
    "y_train = torch.Tensor(y_train_list)\n",
    "\n",
    "# 訓練データのデータローダー\n",
    "train = TensorDataset(x_train, y_train)\n",
    "train_loader = DataLoader(train, batch_size=10, shuffle=True)"
   ]
  }
 ],
 "metadata": {
  "kernelspec": {
   "display_name": "Python 3",
   "language": "python",
   "name": "python3"
  },
  "language_info": {
   "codemirror_mode": {
    "name": "ipython",
    "version": 3
   },
   "file_extension": ".py",
   "mimetype": "text/x-python",
   "name": "python",
   "nbconvert_exporter": "python",
   "pygments_lexer": "ipython3",
   "version": "3.12.2"
  }
 },
 "nbformat": 4,
 "nbformat_minor": 2
}
