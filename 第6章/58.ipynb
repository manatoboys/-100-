{
 "cells": [
  {
   "cell_type": "code",
   "execution_count": 1,
   "metadata": {},
   "outputs": [],
   "source": [
    "from tqdm import tqdm\n",
    "\n",
    "# bag of wordsの辞書を作成\n",
    "def create_BoW_dict(file_path):\n",
    "    BoW_dict = {}\n",
    "    i = 0\n",
    "    with open(file_path, \"r\", encoding=\"utf-8\")as f:\n",
    "        data_list = f.readlines()\n",
    "        for data in data_list:\n",
    "            data = data.split('\\t')\n",
    "            word_list = data[0].split()\n",
    "            for word in word_list:\n",
    "                if word in BoW_dict:\n",
    "                    continue\n",
    "                else:\n",
    "                    BoW_dict[word] = i\n",
    "                    i += 1\n",
    "    return BoW_dict\n",
    "\n",
    "# t=0, e=1, m=2, b=3としてテストデータのベクトルとラベルをそれぞれリストとして作成\n",
    "def create_vector_and_label(file_path, BoW_dict):\n",
    "    with open(file_path, \"r\", encoding=\"utf-8\")as f:\n",
    "        data_list = f.readlines()\n",
    "        vector_list = []\n",
    "        label_list = []\n",
    "        for data in tqdm(data_list):\n",
    "            data = data.split(\"\\t\")\n",
    "            word_list = data[0].split()\n",
    "            vector = [0] * len(BoW_dict)\n",
    "            for word in word_list:\n",
    "                if word in BoW_dict:\n",
    "                    vector[BoW_dict[word]] += 1\n",
    "            vector_list.append(vector)\n",
    "            label_alph = data[1].strip(\"\\n\")\n",
    "            if label_alph == \"t\":\n",
    "                label = [1, 0, 0, 0]\n",
    "            elif label_alph == \"e\":\n",
    "                label = [0, 1, 0, 0]\n",
    "            elif label_alph == \"m\":\n",
    "                label = [0, 0, 1, 0]\n",
    "            elif label_alph == \"b\":\n",
    "                label = [0, 0, 0, 1]\n",
    "            else:\n",
    "                print(\"error label\")\n",
    "            label_list.append(label)\n",
    "    return vector_list, label_list"
   ]
  },
  {
   "cell_type": "code",
   "execution_count": 2,
   "metadata": {},
   "outputs": [
    {
     "name": "stderr",
     "output_type": "stream",
     "text": [
      "100%|██████████| 10671/10671 [00:01<00:00, 9188.47it/s]\n"
     ]
    }
   ],
   "source": [
    "import torch\n",
    "from torch.utils.data import TensorDataset\n",
    "from torch.utils.data import DataLoader\n",
    "\n",
    "TRAIN_FEATURE_FILE_PATH = \"./news+aggregator/train.feature.txt\"\n",
    "\n",
    "# bag of wordsの辞書型を作成\n",
    "BoW_dict = create_BoW_dict(TRAIN_FEATURE_FILE_PATH)\n",
    "\n",
    "# test.txtからベクトルリストとラベルリストを作成\n",
    "x_train_list, y_train_list = create_vector_and_label(TRAIN_FEATURE_FILE_PATH, BoW_dict)\n",
    "\n",
    "# データの準備\n",
    "x_train = torch.Tensor(x_train_list)\n",
    "y_train = torch.Tensor(y_train_list)\n",
    "\n",
    "# 訓練データのデータローダー\n",
    "train = TensorDataset(x_train, y_train)\n",
    "train_loader = DataLoader(train, batch_size=10, shuffle=True)"
   ]
  },
  {
   "cell_type": "code",
   "execution_count": 3,
   "metadata": {},
   "outputs": [
    {
     "name": "stdout",
     "output_type": "stream",
     "text": [
      "18036\n"
     ]
    }
   ],
   "source": [
    "class LogisticRegression(torch.nn.Module):\n",
    "    def __init__(self, input_dim, output_dim):\n",
    "        super(LogisticRegression, self).__init__()\n",
    "        self.l1 = torch.nn.Linear(input_dim, output_dim)\n",
    "\n",
    "    def forward(self, x):\n",
    "        x = self.l1(x)\n",
    "        return x\n",
    "\n",
    "input_dim = len(x_train_list[0])\n",
    "print(input_dim)\n",
    "output_dim = 4\n",
    "model1 = LogisticRegression(input_dim, output_dim)\n",
    "model2 = LogisticRegression(input_dim, output_dim)"
   ]
  },
  {
   "cell_type": "code",
   "execution_count": 4,
   "metadata": {},
   "outputs": [],
   "source": [
    "lr_late = 0.001\n",
    "weight_decay_1 = 0.01\n",
    "weight_decay_2 = 1\n",
    "criterion = torch.nn.CrossEntropyLoss()\n",
    "\n",
    "#weight_decayではL2正則化が行われる\n",
    "optimizer_1 = torch.optim.SGD(model1.parameters(), lr = lr_late, weight_decay=weight_decay_1)\n",
    "optimizer_2 = torch.optim.SGD(model2.parameters(), lr = lr_late, weight_decay=weight_decay_2)"
   ]
  },
  {
   "cell_type": "code",
   "execution_count": 5,
   "metadata": {},
   "outputs": [
    {
     "name": "stderr",
     "output_type": "stream",
     "text": [
      " 20%|██        | 100/500 [00:33<02:06,  3.17it/s]"
     ]
    },
    {
     "name": "stdout",
     "output_type": "stream",
     "text": [
      "100 857.9507199525833\n"
     ]
    },
    {
     "name": "stderr",
     "output_type": "stream",
     "text": [
      " 40%|████      | 200/500 [01:06<01:39,  3.02it/s]"
     ]
    },
    {
     "name": "stdout",
     "output_type": "stream",
     "text": [
      "200 821.4074583053589\n"
     ]
    },
    {
     "name": "stderr",
     "output_type": "stream",
     "text": [
      " 60%|██████    | 300/500 [01:38<01:05,  3.06it/s]"
     ]
    },
    {
     "name": "stdout",
     "output_type": "stream",
     "text": [
      "300 811.690823495388\n"
     ]
    },
    {
     "name": "stderr",
     "output_type": "stream",
     "text": [
      " 80%|████████  | 400/500 [02:11<00:32,  3.09it/s]"
     ]
    },
    {
     "name": "stdout",
     "output_type": "stream",
     "text": [
      "400 809.0689907819033\n"
     ]
    },
    {
     "name": "stderr",
     "output_type": "stream",
     "text": [
      "100%|██████████| 500/500 [02:47<00:00,  2.99it/s]\n"
     ]
    },
    {
     "name": "stdout",
     "output_type": "stream",
     "text": [
      "500 808.831681728363\n"
     ]
    },
    {
     "name": "stderr",
     "output_type": "stream",
     "text": [
      " 20%|██        | 100/500 [00:36<02:37,  2.55it/s]"
     ]
    },
    {
     "name": "stdout",
     "output_type": "stream",
     "text": [
      "100 1369.6489729881287\n"
     ]
    },
    {
     "name": "stderr",
     "output_type": "stream",
     "text": [
      " 40%|████      | 200/500 [01:19<02:13,  2.24it/s]"
     ]
    },
    {
     "name": "stdout",
     "output_type": "stream",
     "text": [
      "200 1370.0429347753525\n"
     ]
    },
    {
     "name": "stderr",
     "output_type": "stream",
     "text": [
      " 60%|██████    | 300/500 [02:03<01:30,  2.20it/s]"
     ]
    },
    {
     "name": "stdout",
     "output_type": "stream",
     "text": [
      "300 1370.1339852809906\n"
     ]
    },
    {
     "name": "stderr",
     "output_type": "stream",
     "text": [
      " 80%|████████  | 400/500 [02:45<00:40,  2.49it/s]"
     ]
    },
    {
     "name": "stdout",
     "output_type": "stream",
     "text": [
      "400 1369.8560975790024\n"
     ]
    },
    {
     "name": "stderr",
     "output_type": "stream",
     "text": [
      "100%|██████████| 500/500 [03:25<00:00,  2.43it/s]"
     ]
    },
    {
     "name": "stdout",
     "output_type": "stream",
     "text": [
      "500 1369.8315967321396\n"
     ]
    },
    {
     "name": "stderr",
     "output_type": "stream",
     "text": [
      "\n"
     ]
    }
   ],
   "source": [
    "# L2ノルムの係数が0.01の場合\n",
    "loss_history = []\n",
    "for epoch in tqdm(range(500)):\n",
    "    total_loss = 0\n",
    "    for x, y in train_loader:\n",
    "\n",
    "        # 学習ステップ\n",
    "        optimizer_1.zero_grad()\n",
    "        outputs = model1(x)\n",
    "        loss = criterion(outputs, y)\n",
    "        loss.backward()\n",
    "        optimizer_1.step()\n",
    "\n",
    "        total_loss += loss.item()\n",
    "\n",
    "    loss_history.append(total_loss)\n",
    "    if (epoch +1) % 100 == 0:\n",
    "        print(epoch + 1, total_loss)\n",
    "\n",
    "# L2ノルムの係数が1の場合\n",
    "loss_history = []\n",
    "for epoch in tqdm(range(500)):\n",
    "    total_loss = 0\n",
    "    for x, y in train_loader:\n",
    "\n",
    "        # 学習ステップ\n",
    "        optimizer_2.zero_grad()\n",
    "        outputs = model2(x)\n",
    "        loss = criterion(outputs, y)\n",
    "        loss.backward()\n",
    "        optimizer_2.step()\n",
    "\n",
    "        total_loss += loss.item()\n",
    "\n",
    "    loss_history.append(total_loss)\n",
    "    if (epoch +1) % 100 == 0:\n",
    "        print(epoch + 1, total_loss)"
   ]
  },
  {
   "cell_type": "code",
   "execution_count": 7,
   "metadata": {},
   "outputs": [
    {
     "name": "stderr",
     "output_type": "stream",
     "text": [
      "100%|██████████| 1335/1335 [00:00<00:00, 10888.98it/s]\n",
      "100%|██████████| 1333/1333 [00:00<00:00, 14797.29it/s]\n"
     ]
    },
    {
     "name": "stdout",
     "output_type": "stream",
     "text": [
      "model1,学習データ,正解率 39.64951738356292\n",
      "model2,学習データ,正解率 38.74051166713522\n",
      "model1,検証データ,正解率 80.3450862715679\n",
      "model2,検証データ,正解率 79.74493623405851\n",
      "model 1,テストデータ,正解率 81.94756554307116\n",
      "model 2,テストデータ,正解率 81.64794007490637\n"
     ]
    }
   ],
   "source": [
    "correct = 0\n",
    "total = 0\n",
    "\n",
    "TEST_FEATURE_FILE_PATH = \"./news+aggregator/test.feature.txt\"\n",
    "VALID_FEATURE_FILE_PATH = \"./news+aggregator/valid.feature.txt\"\n",
    "\n",
    "# test.txtからベクトルリストとラベルリストを作成\n",
    "x_test_list, y_test_list = create_vector_and_label(TEST_FEATURE_FILE_PATH, BoW_dict)\n",
    "# データの準備\n",
    "x_test = torch.Tensor(x_test_list)\n",
    "y_test = torch.Tensor(y_test_list)\n",
    "# テストデータのデータローダー\n",
    "test = TensorDataset(x_test, y_test)\n",
    "test_loader = DataLoader(test, batch_size=5)\n",
    "\n",
    "# test.txtからベクトルリストとラベルリストを作成\n",
    "x_valid_list, y_valid_list = create_vector_and_label(VALID_FEATURE_FILE_PATH, BoW_dict)\n",
    "# データの準備\n",
    "x_valid = torch.Tensor(x_valid_list)\n",
    "y_valid = torch.Tensor(y_valid_list)\n",
    "# テストデータのデータローダー\n",
    "valid = TensorDataset(x_valid, y_valid)\n",
    "valid_loader = DataLoader(valid, batch_size=5)\n",
    "\n",
    "# model1の学習データでの正解率計算\n",
    "correct = 0\n",
    "total = 0\n",
    "for x, y in train_loader:\n",
    "    outputs = model1(x)\n",
    "    _, predicted = torch.max(outputs.data, 0)   #確率の最大値を取得\n",
    "    total += y.size(0)  #batch処理をしているのでy.size == 5\n",
    "    correct += (predicted == y).sum().item()    #ラベルと一致している個数を計算．　item()はtensor->intへの変換\n",
    "print('model1,学習データ,正解率', int(correct)/total*100)\n",
    "\n",
    "# model2の学習データでの正解率計算\n",
    "correct = 0\n",
    "total = 0\n",
    "for x, y in train_loader:\n",
    "    outputs = model2(x)\n",
    "    _, predicted = torch.max(outputs.data, 0)   #確率の最大値を取得\n",
    "    total += y.size(0)  #batch処理をしているのでy.size == 5\n",
    "    correct += (predicted == y).sum().item()    #ラベルと一致している個数を計算．　item()はtensor->intへの変換\n",
    "print('model2,学習データ,正解率', int(correct)/total*100)\n",
    "\n",
    "# model1の検証データでの正解率計算\n",
    "correct = 0\n",
    "total = 0\n",
    "for x, y in valid_loader:\n",
    "    outputs = model1(x)\n",
    "    _, predicted = torch.max(outputs.data, 0)   #確率の最大値を取得\n",
    "    total += y.size(0)  #batch処理をしているのでy.size == 5\n",
    "    correct += (predicted == y).sum().item()    #ラベルと一致している個数を計算．　item()はtensor->intへの変換\n",
    "print('model1,検証データ,正解率', int(correct)/total*100)\n",
    "\n",
    "# model2の検証データでの正解率計算\n",
    "correct = 0\n",
    "total = 0\n",
    "for x, y in valid_loader:\n",
    "    outputs = model2(x)\n",
    "    _, predicted = torch.max(outputs.data, 0)   #確率の最大値を取得\n",
    "    total += y.size(0)  #batch処理をしているのでy.size == 5\n",
    "    correct += (predicted == y).sum().item()    #ラベルと一致している個数を計算．　item()はtensor->intへの変換\n",
    "print('model2,検証データ,正解率', int(correct)/total*100)\n",
    "\n",
    "# model1のテストデータでの正解率計算\n",
    "correct = 0\n",
    "total = 0\n",
    "for x, y in test_loader:\n",
    "    outputs = model1(x)\n",
    "    _, predicted = torch.max(outputs.data, 0)   #確率の最大値を取得\n",
    "    total += y.size(0)  #batch処理をしているのでy.size == 5\n",
    "    correct += (predicted == y).sum().item()    #ラベルと一致している個数を計算．　item()はtensor->intへの変換\n",
    "print('model 1,テストデータ,正解率', int(correct)/total*100)\n",
    "\n",
    "# model2のテストデータでの正解率計算\n",
    "correct = 0\n",
    "total = 0\n",
    "for x, y in test_loader:\n",
    "    outputs = model2(x)\n",
    "    _, predicted = torch.max(outputs.data, 0)   #確率の最大値を取得\n",
    "    total += y.size(0)  #batch処理をしているのでy.size == 5\n",
    "    correct += (predicted == y).sum().item()    #ラベルと一致している個数を計算．　item()はtensor->intへの変換\n",
    "print('model 2,テストデータ,正解率', int(correct)/total*100)"
   ]
  }
 ],
 "metadata": {
  "kernelspec": {
   "display_name": "Python 3",
   "language": "python",
   "name": "python3"
  },
  "language_info": {
   "codemirror_mode": {
    "name": "ipython",
    "version": 3
   },
   "file_extension": ".py",
   "mimetype": "text/x-python",
   "name": "python",
   "nbconvert_exporter": "python",
   "pygments_lexer": "ipython3",
   "version": "3.12.2"
  }
 },
 "nbformat": 4,
 "nbformat_minor": 2
}
