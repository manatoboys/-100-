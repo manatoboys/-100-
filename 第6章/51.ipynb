{
 "cells": [
  {
   "cell_type": "code",
   "execution_count": 68,
   "metadata": {},
   "outputs": [],
   "source": [
    "import re\n",
    "\n",
    "def create_feature_file(file_path, output_file_path):\n",
    "    with open(file_path, \"r\", encoding=\"utf-8\")as f_input, open(output_file_path, \"w\", encoding=\"utf-8\")as f_output:\n",
    "        data = f_input.readlines()\n",
    "        for sentence in data:\n",
    "            #　アルファベットと数字以外削除\n",
    "            s = re.sub(r'[^a-zA-Z0-9\\s]', '', sentence)\n",
    "            print(s, file=f_output, end=\"\")"
   ]
  },
  {
   "cell_type": "code",
   "execution_count": 69,
   "metadata": {},
   "outputs": [],
   "source": [
    "TRAIN_FILE_PATH = \"./news+aggregator/train.txt\"\n",
    "TRAIN_FEATURE_FILE_PATH = \"./news+aggregator/train.feature.txt\"\n",
    "VALID_FILE_PATH = \"./news+aggregator/valid.txt\"\n",
    "VALID_FEATURE_FILE_PATH = \"./news+aggregator/valid.feature.txt\"\n",
    "TEST_FILE_PATH = \"./news+aggregator/test.txt\"\n",
    "TEST_FEATURE_FILE_PATH = \"./news+aggregator/test.feature.txt\"\n",
    "\n",
    "create_feature_file(TRAIN_FILE_PATH, TRAIN_FEATURE_FILE_PATH)\n",
    "create_feature_file(VALID_FILE_PATH, VALID_FEATURE_FILE_PATH)\n",
    "create_feature_file(TEST_FILE_PATH, TEST_FEATURE_FILE_PATH)"
   ]
  }
 ],
 "metadata": {
  "kernelspec": {
   "display_name": "Python 3",
   "language": "python",
   "name": "python3"
  },
  "language_info": {
   "codemirror_mode": {
    "name": "ipython",
    "version": 3
   },
   "file_extension": ".py",
   "mimetype": "text/x-python",
   "name": "python",
   "nbconvert_exporter": "python",
   "pygments_lexer": "ipython3",
   "version": "3.12.2"
  }
 },
 "nbformat": 4,
 "nbformat_minor": 2
}
