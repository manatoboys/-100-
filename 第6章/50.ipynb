{
 "cells": [
  {
   "cell_type": "code",
   "execution_count": 4,
   "metadata": {},
   "outputs": [
    {
     "name": "stdout",
     "output_type": "stream",
     "text": [
      "13340\n"
     ]
    }
   ],
   "source": [
    "import csv\n",
    "import random\n",
    "\n",
    "FILE_PATH = \"./news+aggregator/newsCorpora.csv\"\n",
    "with open(FILE_PATH, \"r\", encoding=\"utf-8\")as f:\n",
    "    csvreader = csv.reader(f, delimiter=\"\\t\")   #区切り文字を\\tにしている\n",
    "    publisher_list =[\"Reuters\", \"Huffington Post\", \"Businessweek\", \"Contactmusic.com\", \"Daily Mail\"]\n",
    "    extracted_list = [row for row in csvreader if row[3] in publisher_list]\n",
    "\n",
    "# 外部ファイルに出力\n",
    "NEW_FILE_PATH = \"./news+aggregator/outputs.csv\"\n",
    "with open(NEW_FILE_PATH, \"w\", encoding=\"utf-8\")as f:\n",
    "    csvwriter = csv.writer(f, delimiter=\"\\t\")\n",
    "    csvwriter.writerows(extracted_list)"
   ]
  },
  {
   "cell_type": "code",
   "execution_count": 27,
   "metadata": {},
   "outputs": [],
   "source": [
    "def split_list_randomly(data_list):\n",
    "    random.shuffle(data_list)  # リストの順序をランダムにシャッフル\n",
    "    total_length = len(data_list)\n",
    "\n",
    "    # 各部分の長さを計算\n",
    "    train_length = int(total_length * 0.8)\n",
    "    valid_length = int(total_length * 0.1)\n",
    "\n",
    "    # リストを分割\n",
    "    train = data_list[:train_length]\n",
    "    valid = data_list[train_length:train_length + valid_length]\n",
    "    test = data_list[train_length + valid_length:]\n",
    "\n",
    "    return train, valid, test\n",
    "\n",
    "def write_list(file_path,data_list):\n",
    "    with open(file_path, \"w\", encoding=\"utf-8\")as f:\n",
    "        for data in data_list:\n",
    "            print(f\"{data[1]}\\t{data[4]}\", file=f)\n",
    "\n",
    "def count_category(data_list):\n",
    "    answer = {}\n",
    "    category_set = {data[4] for data in data_list}\n",
    "    category_count_dict = {}\n",
    "    category_list = [data[4] for data in data_list]\n",
    "    for category in category_set:\n",
    "        category_count_dict[category] =  category_list.count(category)\n",
    "    return category_count_dict"
   ]
  },
  {
   "cell_type": "code",
   "execution_count": 32,
   "metadata": {},
   "outputs": [
    {
     "name": "stdout",
     "output_type": "stream",
     "text": [
      "train: {'t': 1205, 'e': 4247, 'm': 719, 'b': 4501}\n",
      "valid: {'t': 165, 'e': 495, 'm': 111, 'b': 563}\n",
      "test:  {'t': 154, 'e': 537, 'm': 80, 'b': 563}\n"
     ]
    }
   ],
   "source": [
    "train_list, valid_list, test_list = split_list_randomly(extracted_list)\n",
    "\n",
    "TRAIN_FILE_PATH = \"./news+aggregator/train.txt\"\n",
    "VALID_FILE_PATH = \"./news+aggregator/valid.txt\"\n",
    "TEST_FILE_PATH = \"./news+aggregator/test.txt\"\n",
    "\n",
    "write_list(TRAIN_FILE_PATH, train_list)\n",
    "write_list(VALID_FILE_PATH, valid_list)\n",
    "write_list(TEST_FILE_PATH, test_list)\n",
    "\n",
    "print(f\"train: {count_category(train_list)}\")\n",
    "print(f\"valid: {count_category(valid_list)}\")\n",
    "print(f\"test:  {count_category(test_list)}\")"
   ]
  },
  {
   "cell_type": "code",
   "execution_count": null,
   "metadata": {},
   "outputs": [],
   "source": []
  }
 ],
 "metadata": {
  "kernelspec": {
   "display_name": "Python 3",
   "language": "python",
   "name": "python3"
  },
  "language_info": {
   "codemirror_mode": {
    "name": "ipython",
    "version": 3
   },
   "file_extension": ".py",
   "mimetype": "text/x-python",
   "name": "python",
   "nbconvert_exporter": "python",
   "pygments_lexer": "ipython3",
   "version": "3.12.2"
  }
 },
 "nbformat": 4,
 "nbformat_minor": 2
}
