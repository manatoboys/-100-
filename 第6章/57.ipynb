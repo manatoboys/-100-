{
 "cells": [
  {
   "cell_type": "code",
   "execution_count": 2,
   "metadata": {},
   "outputs": [],
   "source": [
    "import torch\n",
    "\n",
    "# モデルのクラスが定義されていないとloadできないため\n",
    "class LogisticRegression(torch.nn.Module):\n",
    "    def __init__(self, input_dim, output_dim):\n",
    "        super(LogisticRegression, self).__init__()\n",
    "        self.l1 = torch.nn.Linear(input_dim, output_dim)\n",
    "\n",
    "    def forward(self, x):\n",
    "        x = self.l1(x)\n",
    "        return x\n",
    "\n",
    "# 52で学習したモデルのロード\n",
    "model = torch.load('model_weight.pth')"
   ]
  },
  {
   "cell_type": "code",
   "execution_count": 21,
   "metadata": {},
   "outputs": [],
   "source": [
    "from tqdm import tqdm\n",
    "\n",
    "# bag of wordsの辞書を作成\n",
    "def create_BoW_dict(file_path):\n",
    "    BoW_dict = {}\n",
    "    i = 0\n",
    "    with open(file_path, \"r\", encoding=\"utf-8\")as f:\n",
    "        data_list = f.readlines()\n",
    "        for data in data_list:\n",
    "            data = data.split('\\t')\n",
    "            word_list = data[0].split()\n",
    "            for word in word_list:\n",
    "                if word in BoW_dict:\n",
    "                    continue\n",
    "                else:\n",
    "                    BoW_dict[word] = i\n",
    "                    i += 1\n",
    "    return BoW_dict\n",
    "\n",
    "TRAIN_FEATURE_FILE_PATH = \"./news+aggregator/train.feature.txt\"\n",
    "\n",
    "# bag of wordsの辞書型を作成\n",
    "BoW_dict = create_BoW_dict(TRAIN_FEATURE_FILE_PATH)"
   ]
  },
  {
   "cell_type": "code",
   "execution_count": 28,
   "metadata": {},
   "outputs": [
    {
     "name": "stdout",
     "output_type": "stream",
     "text": [
      "top10の特徴量: ['Ebola', 'Facebook', 'Google', 'FDA', 'MERS', 'Bank', 'Microsoft', 'Kardashian', 'Apple', 'FCC']\n",
      "bottom10の特徴量: ['Announced', 'Understand', 'tuxedo', 'Vladimir', 'AheadDoubledigit', 'Flag', 'Athena', 'Auditions', 'Masters', 'Bonaroo']\n"
     ]
    }
   ],
   "source": [
    "import numpy as np\n",
    "weight = model.state_dict()[\"l1.weight\"]\n",
    "abs_tensor = torch.abs(weight)  #重みを全て絶対値を取る\n",
    "flat_abs_tensor = abs_tensor.view(-1)     #tensorの形状を変更する．-1とするとflatになる．\n",
    "top10_weight, top10_index = torch.topk(flat_abs_tensor, k=10)\n",
    "bottom10_weight, bottom10_index = torch.topk(flat_abs_tensor, k=10, largest=False)\n",
    "top10_index = top10_index%19433 #特徴ベクトルの次元数でわる\n",
    "bottom10_index = bottom10_index%19433\n",
    "top10_feature_list = []\n",
    "for index in top10_index:\n",
    "    key = [k for k,v in BoW_dict.items() if v == index]\n",
    "    top10_feature_list.append(key[0])\n",
    "\n",
    "    bottom10_feature_list = []\n",
    "\n",
    "for index in bottom10_index:\n",
    "    key = [k for k,v in BoW_dict.items() if v == index]\n",
    "    bottom10_feature_list.append(key[0])\n",
    "\n",
    "# 単語の影響の大小を表している． 例えばEbolaは最も影響のある特徴量である．\n",
    "print(f\"top10の特徴量: {top10_feature_list}\")\n",
    "print(f\"bottom10の特徴量: {bottom10_feature_list}\")"
   ]
  }
 ],
 "metadata": {
  "kernelspec": {
   "display_name": "Python 3",
   "language": "python",
   "name": "python3"
  },
  "language_info": {
   "codemirror_mode": {
    "name": "ipython",
    "version": 3
   },
   "file_extension": ".py",
   "mimetype": "text/x-python",
   "name": "python",
   "nbconvert_exporter": "python",
   "pygments_lexer": "ipython3",
   "version": "3.12.2"
  }
 },
 "nbformat": 4,
 "nbformat_minor": 2
}
