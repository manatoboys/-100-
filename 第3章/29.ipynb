{
 "cells": [
  {
   "cell_type": "code",
   "execution_count": 36,
   "metadata": {},
   "outputs": [
    {
     "name": "stdout",
     "output_type": "stream",
     "text": [
      "https://upload.wikimedia.org/wikipedia/en/a/ae/Flag_of_the_United_Kingdom.svg\n"
     ]
    }
   ],
   "source": [
    "import requests\n",
    "import re\n",
    "\n",
    "# ===28利用===\n",
    "FILE = \"./jawiki-country.json\"\n",
    "\n",
    "with open(FILE, 'r') as f:\n",
    "    info_list = f.readlines()\n",
    "\n",
    "json_list = []\n",
    "for i in info_list:\n",
    "    json_list.append(json.loads(i))\n",
    "\n",
    "for row in json_list:\n",
    "    if row[\"title\"] == \"イギリス\":\n",
    "        ans = row[\"text\"]\n",
    "\n",
    "result = {}\n",
    "\n",
    "infos = re.findall(r\"\\|(.+?)\\s=\\s*(.+)\", ans)\n",
    "for info in infos:\n",
    "    x = re.sub(r\"\\'{2,5}\",\"\",info[1])      #強調マークアップの削除\n",
    "    x = re.sub(r\"\\[\\[[^|]*[|]([^\\]]*)\\]\\]\",r\"\\1\",x) #[記事名|表示文字]] -> 表示名\n",
    "    x = re.sub(r\"\\[\\[([^\\]]*)\\]\\]\",r\"\\1\",x)         #[[記事名]] -> 表示名\n",
    "    x = re.sub(r\"{{([^}]*)}}.*\",r\"\\1\",x)\n",
    "    result[info[0]] = x\n",
    "# ==============\n",
    "\n",
    "\n",
    "S = requests.Session()\n",
    "url = result[\"国旗画像\"].replace(\" \",\"_\")\n",
    "\n",
    "URL = \"https://en.wikipedia.org/w/api.php\"\n",
    "\n",
    "PARAMS = {\n",
    "    \"action\": \"query\",\n",
    "    \"format\": \"json\",\n",
    "    \"prop\": \"imageinfo\",\n",
    "    \"iiprop\": \"url\",\n",
    "    \"titles\": \"File:\"+url\n",
    "}\n",
    "\n",
    "R = S.get(url=URL, params=PARAMS)\n",
    "DATA = R.json()\n",
    "\n",
    "PAGES = DATA[\"query\"][\"pages\"]\n",
    "for k, v in PAGES.items():\n",
    "    print(v[\"imageinfo\"][0][\"url\"])"
   ]
  }
 ],
 "metadata": {
  "kernelspec": {
   "display_name": "Python 3",
   "language": "python",
   "name": "python3"
  },
  "language_info": {
   "codemirror_mode": {
    "name": "ipython",
    "version": 3
   },
   "file_extension": ".py",
   "mimetype": "text/x-python",
   "name": "python",
   "nbconvert_exporter": "python",
   "pygments_lexer": "ipython3",
   "version": "3.9.6"
  }
 },
 "nbformat": 4,
 "nbformat_minor": 2
}
