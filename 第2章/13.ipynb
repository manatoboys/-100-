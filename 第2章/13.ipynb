{
 "cells": [
  {
   "cell_type": "code",
   "execution_count": 2,
   "metadata": {},
   "outputs": [],
   "source": [
    "FILE_PATH = \"data/co1+col2.txt\"\n",
    "COL1_PATH = \"data/col1.txt\"\n",
    "COL2_PATH = \"data/col2.txt\"\n",
    "\n",
    "with open(FILE_PATH, 'w') as file, open(COL1_PATH, 'r') as col1, open(COL2_PATH, 'r') as col2:\n",
    "    file1 = col1.readlines()\n",
    "    file1_list = [row.replace(\"\\n\",\"\") for row in file1]\n",
    "    file2 = col2.readlines()\n",
    "    file2_list = [row.replace(\"\\n\",\"\") for row in file2]\n",
    "    for row1, row2 in zip(file1_list, file2_list):\n",
    "        print(f'{row1}\\t{row2}',file = file)\n"
   ]
  },
  {
   "cell_type": "code",
   "execution_count": null,
   "metadata": {},
   "outputs": [],
   "source": []
  }
 ],
 "metadata": {
  "kernelspec": {
   "display_name": "Python 3",
   "language": "python",
   "name": "python3"
  },
  "language_info": {
   "codemirror_mode": {
    "name": "ipython",
    "version": 3
   },
   "file_extension": ".py",
   "mimetype": "text/x-python",
   "name": "python",
   "nbconvert_exporter": "python",
   "pygments_lexer": "ipython3",
   "version": "3.9.6"
  }
 },
 "nbformat": 4,
 "nbformat_minor": 2
}
