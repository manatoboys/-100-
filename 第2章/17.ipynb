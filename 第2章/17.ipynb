{
 "cells": [
  {
   "cell_type": "code",
   "execution_count": 11,
   "metadata": {},
   "outputs": [
    {
     "data": {
      "text/plain": [
       "136"
      ]
     },
     "execution_count": 11,
     "metadata": {},
     "output_type": "execute_result"
    }
   ],
   "source": [
    "FILE_PATH = \"data/popular-names.txt\"\n",
    "\n",
    "with open(FILE_PATH, \"r\") as f:\n",
    "    list = f.readlines()\n",
    "\n",
    "name_set = set()\n",
    "\n",
    "for i in list:\n",
    "    name,_ ,_ ,_= i.split(\"\\t\")\n",
    "    name_set.add(name)\n",
    "\n",
    "len(name_set)\n",
    "\n",
    "# #P.10 明確な単語を選ぶ"
   ]
  }
 ],
 "metadata": {
  "kernelspec": {
   "display_name": "Python 3",
   "language": "python",
   "name": "python3"
  },
  "language_info": {
   "codemirror_mode": {
    "name": "ipython",
    "version": 3
   },
   "file_extension": ".py",
   "mimetype": "text/x-python",
   "name": "python",
   "nbconvert_exporter": "python",
   "pygments_lexer": "ipython3",
   "version": "3.9.6"
  }
 },
 "nbformat": 4,
 "nbformat_minor": 2
}
