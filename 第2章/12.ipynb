{
 "cells": [
  {
   "cell_type": "code",
   "execution_count": 2,
   "metadata": {},
   "outputs": [],
   "source": [
    "FILE_PATH = \"data/popular-names.txt\"\n",
    "COL1_PATH = \"data/col1.txt\"\n",
    "COL2_PATH = \"data/col2.txt\"\n",
    "\n",
    "with open(FILE_PATH) as file, open(COL1_PATH, 'w') as col1, open(COL2_PATH, 'w') as col2:\n",
    "    for line in file:\n",
    "        line = line.strip()\n",
    "        list_line = line.split('\\t')\n",
    "        pref, city = list_line[0], list_line[1]\n",
    "\n",
    "        print(pref, file=col1)\n",
    "        print(city, file=col2)"
   ]
  }
 ],
 "metadata": {
  "kernelspec": {
   "display_name": "Python 3",
   "language": "python",
   "name": "python3"
  },
  "language_info": {
   "codemirror_mode": {
    "name": "ipython",
    "version": 3
   },
   "file_extension": ".py",
   "mimetype": "text/x-python",
   "name": "python",
   "nbconvert_exporter": "python",
   "pygments_lexer": "ipython3",
   "version": "3.9.6"
  }
 },
 "nbformat": 4,
 "nbformat_minor": 2
}
