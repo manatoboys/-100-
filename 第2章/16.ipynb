{
 "cells": [
  {
   "cell_type": "code",
   "execution_count": 25,
   "metadata": {},
   "outputs": [
    {
     "name": "stdout",
     "output_type": "stream",
     "text": [
      "309\n"
     ]
    }
   ],
   "source": [
    "import math\n",
    "FILE_PATH = \"data/popular-names.txt\"\n",
    "n = int(input())\n",
    "\n",
    "with open(FILE_PATH, \"r\") as f:\n",
    "    list = f.readlines()\n",
    "\n",
    "num = math.ceil(len(list)/n)\n",
    "\n",
    "print(num)\n",
    "\n",
    "for i in range(0,n):\n",
    "    start = i * num\n",
    "    end = start + num \n",
    "    with open(\"./data/text{}.txt\".format(i+1), 'w') as new:\n",
    "        new.writelines(list[start:end])\n",
    "\n",
    "#P.10 明確な単語を選ぶ\n"
   ]
  }
 ],
 "metadata": {
  "kernelspec": {
   "display_name": "Python 3",
   "language": "python",
   "name": "python3"
  },
  "language_info": {
   "codemirror_mode": {
    "name": "ipython",
    "version": 3
   },
   "file_extension": ".py",
   "mimetype": "text/x-python",
   "name": "python",
   "nbconvert_exporter": "python",
   "pygments_lexer": "ipython3",
   "version": "3.9.6"
  }
 },
 "nbformat": 4,
 "nbformat_minor": 2
}
