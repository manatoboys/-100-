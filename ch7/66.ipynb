{
 "cells": [
  {
   "cell_type": "code",
   "execution_count": 8,
   "metadata": {},
   "outputs": [],
   "source": [
    "#　モデルのロード\n",
    "\n",
    "from gensim.models.keyedvectors import KeyedVectors\n",
    "\n",
    "# 単語ベクトルモデルの読み込み\n",
    "model_path = './GoogleNews-vectors-negative300.bin.gz'  # モデルのパス\n",
    "model = KeyedVectors.load_word2vec_format(model_path, binary=True)  # binary=Trueはバイナリ形式のモデルの場合"
   ]
  },
  {
   "cell_type": "code",
   "execution_count": 83,
   "metadata": {},
   "outputs": [
    {
     "name": "stdout",
     "output_type": "stream",
     "text": [
      "スピアマン係数: 0.7000217838950313\n"
     ]
    },
    {
     "data": {
      "text/html": [
       "<div><style>\n",
       ".dataframe > thead > tr,\n",
       ".dataframe > tbody > tr {\n",
       "  text-align: right;\n",
       "  white-space: pre-wrap;\n",
       "}\n",
       "</style>\n",
       "<small>shape: (353, 7)</small><table border=\"1\" class=\"dataframe\"><thead><tr><th>Word 1</th><th>Word 2</th><th>Human (mean)</th><th>Rank_Human</th><th>similarity</th><th>Rank_similarity</th><th>d^2</th></tr><tr><td>str</td><td>str</td><td>f64</td><td>f64</td><td>f32</td><td>f64</td><td>f64</td></tr></thead><tbody><tr><td>&quot;love&quot;</td><td>&quot;sex&quot;</td><td>6.77</td><td>211.5</td><td>0.263938</td><td>191.0</td><td>420.25</td></tr><tr><td>&quot;tiger&quot;</td><td>&quot;cat&quot;</td><td>7.35</td><td>245.5</td><td>0.517296</td><td>317.0</td><td>5112.25</td></tr><tr><td>&quot;tiger&quot;</td><td>&quot;tiger&quot;</td><td>10.0</td><td>354.0</td><td>1.0</td><td>354.0</td><td>0.0</td></tr><tr><td>&quot;book&quot;</td><td>&quot;paper&quot;</td><td>7.46</td><td>256.5</td><td>0.363463</td><td>260.0</td><td>12.25</td></tr><tr><td>&quot;computer&quot;</td><td>&quot;keyboard&quot;</td><td>7.62</td><td>273.0</td><td>0.396392</td><td>274.0</td><td>1.0</td></tr><tr><td>&hellip;</td><td>&hellip;</td><td>&hellip;</td><td>&hellip;</td><td>&hellip;</td><td>&hellip;</td><td>&hellip;</td></tr><tr><td>&quot;shower&quot;</td><td>&quot;flood&quot;</td><td>6.03</td><td>161.0</td><td>0.129479</td><td>83.0</td><td>6084.0</td></tr><tr><td>&quot;weather&quot;</td><td>&quot;forecast&quot;</td><td>8.34</td><td>319.5</td><td>0.362721</td><td>258.0</td><td>3782.25</td></tr><tr><td>&quot;disaster&quot;</td><td>&quot;area&quot;</td><td>6.25</td><td>173.5</td><td>0.145228</td><td>99.0</td><td>5550.25</td></tr><tr><td>&quot;governor&quot;</td><td>&quot;office&quot;</td><td>6.34</td><td>181.5</td><td>0.296636</td><td>213.0</td><td>992.25</td></tr><tr><td>&quot;architecture&quot;</td><td>&quot;century&quot;</td><td>3.78</td><td>74.0</td><td>0.143093</td><td>97.0</td><td>529.0</td></tr></tbody></table></div>"
      ],
      "text/plain": [
       "shape: (353, 7)\n",
       "┌──────────────┬──────────┬──────────────┬────────────┬────────────┬─────────────────┬─────────┐\n",
       "│ Word 1       ┆ Word 2   ┆ Human (mean) ┆ Rank_Human ┆ similarity ┆ Rank_similarity ┆ d^2     │\n",
       "│ ---          ┆ ---      ┆ ---          ┆ ---        ┆ ---        ┆ ---             ┆ ---     │\n",
       "│ str          ┆ str      ┆ f64          ┆ f64        ┆ f32        ┆ f64             ┆ f64     │\n",
       "╞══════════════╪══════════╪══════════════╪════════════╪════════════╪═════════════════╪═════════╡\n",
       "│ love         ┆ sex      ┆ 6.77         ┆ 211.5      ┆ 0.263938   ┆ 191.0           ┆ 420.25  │\n",
       "│ tiger        ┆ cat      ┆ 7.35         ┆ 245.5      ┆ 0.517296   ┆ 317.0           ┆ 5112.25 │\n",
       "│ tiger        ┆ tiger    ┆ 10.0         ┆ 354.0      ┆ 1.0        ┆ 354.0           ┆ 0.0     │\n",
       "│ book         ┆ paper    ┆ 7.46         ┆ 256.5      ┆ 0.363463   ┆ 260.0           ┆ 12.25   │\n",
       "│ computer     ┆ keyboard ┆ 7.62         ┆ 273.0      ┆ 0.396392   ┆ 274.0           ┆ 1.0     │\n",
       "│ …            ┆ …        ┆ …            ┆ …          ┆ …          ┆ …               ┆ …       │\n",
       "│ shower       ┆ flood    ┆ 6.03         ┆ 161.0      ┆ 0.129479   ┆ 83.0            ┆ 6084.0  │\n",
       "│ weather      ┆ forecast ┆ 8.34         ┆ 319.5      ┆ 0.362721   ┆ 258.0           ┆ 3782.25 │\n",
       "│ disaster     ┆ area     ┆ 6.25         ┆ 173.5      ┆ 0.145228   ┆ 99.0            ┆ 5550.25 │\n",
       "│ governor     ┆ office   ┆ 6.34         ┆ 181.5      ┆ 0.296636   ┆ 213.0           ┆ 992.25  │\n",
       "│ architecture ┆ century  ┆ 3.78         ┆ 74.0       ┆ 0.143093   ┆ 97.0            ┆ 529.0   │\n",
       "└──────────────┴──────────┴──────────────┴────────────┴────────────┴─────────────────┴─────────┘"
      ]
     },
     "execution_count": 83,
     "metadata": {},
     "output_type": "execute_result"
    }
   ],
   "source": [
    "import polars as pl\n",
    "\n",
    "FILE_PATH = \"./wordsim353/combined.csv\"\n",
    "df = pl.read_csv(FILE_PATH, encoding=\"utf-8\")\n",
    "df = df.with_columns((df['Human (mean)'].rank()+1).alias('Rank_Human'))\n",
    "\n",
    "# word1と2の類似度を計算して、新しい列として追加\n",
    "df1 = df[\"Word 1\"]\n",
    "df2 = df[\"Word 2\"]\n",
    "similarity = []\n",
    "for w1,w2 in zip(df1,df2):\n",
    "    sim_score = model.similarity(w1, w2)\n",
    "    similarity.append(sim_score)\n",
    "df = df.with_columns(similarity=pl.Series(similarity))\n",
    "\n",
    "# similarityにもrankをつけていく\n",
    "df = df.with_columns((df['similarity'].rank()+1).alias('Rank_similarity'))\n",
    "\n",
    "# d^2の計算\n",
    "df = df.with_columns(((df['Rank_Human']-df['Rank_similarity'])**2).alias('d^2'))\n",
    "sum_d2 = df[\"d^2\"].sum()\n",
    "N = len(df['d^2'])\n",
    "Spearman = 1 - (6*sum_d2)/(N*(N**2-1))\n",
    "print(f\"スピアマン係数: {Spearman}\")\n",
    "df"
   ]
  }
 ],
 "metadata": {
  "kernelspec": {
   "display_name": "Python 3",
   "language": "python",
   "name": "python3"
  },
  "language_info": {
   "codemirror_mode": {
    "name": "ipython",
    "version": 3
   },
   "file_extension": ".py",
   "mimetype": "text/x-python",
   "name": "python",
   "nbconvert_exporter": "python",
   "pygments_lexer": "ipython3",
   "version": "3.12.2"
  }
 },
 "nbformat": 4,
 "nbformat_minor": 2
}
