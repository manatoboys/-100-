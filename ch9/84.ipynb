{
 "cells": [
  {
   "cell_type": "code",
   "execution_count": 1,
   "metadata": {},
   "outputs": [],
   "source": [
    "import polars as pl\n",
    "import re\n",
    "import torch\n",
    "from torch import nn\n",
    "from torch.utils.data import Dataset, DataLoader\n",
    "import numpy as np\n",
    "\n",
    "# 学習データからテキストのみをリストで抽出\n",
    "FILE_PATH = \"../ch6/news+aggregator/train.txt\"\n",
    "df = pl.read_csv(FILE_PATH, separator=\"\\t\", new_columns=[\"text\", \"categoory\"])\n",
    "text_list = df[\"text\"].to_list()\n",
    "\n",
    "#　記号を取り除く\n",
    "cleaned_text_list = [re.sub(r'[^a-zA-Z\\s]', \"\", text) for text in text_list]\n",
    "word_list = [text.split() for text in cleaned_text_list]\n",
    "word_list\n",
    "#　記号を取り除く\n",
    "word_frequency_dict = {}\n",
    "# 単語リストをループして出現頻度をカウント\n",
    "for words in word_list:\n",
    "    for word in words:\n",
    "        if word in word_frequency_dict:\n",
    "            word_frequency_dict[word] += 1\n",
    "        else:\n",
    "            word_frequency_dict[word] = 1\n",
    "\n",
    "sorted_word_frequency_dict = dict(sorted(word_frequency_dict.items(), key=lambda item: item[1], reverse=True)) #降順にソート\n",
    "\n",
    "\n",
    "word_id_map = {}    #単語とidの辞書型\n",
    "id = 1\n",
    "for key, value in sorted_word_frequency_dict.items():\n",
    "    if value == 1: #出現頻度が1のidは0\n",
    "        word_id_map[key] = 0\n",
    "    else:\n",
    "        word_id_map[key] = id\n",
    "        id += 1\n",
    "# wordのidは0~9509の計9510個のidが存在する→つまりone-hotベクトルは9510次元\n",
    "onehot_dim = max(word_id_map.values()) + 1\n",
    "\n",
    "def get_index_vector(words, word_id_map):\n",
    "    # まず、必要な形状のテンソルを初期化\n",
    "    vectors = torch.zeros(len(words))\n",
    "    # 各単語の位置に1をセット\n",
    "    for i, word in enumerate(words):\n",
    "        if word in word_id_map:\n",
    "            vectors[i] = word_id_map[word]\n",
    "    return vectors.long()"
   ]
  },
  {
   "cell_type": "code",
   "execution_count": 2,
   "metadata": {},
   "outputs": [],
   "source": [
    "from torch.nn.utils.rnn import pad_sequence\n",
    "\n",
    "class TextDataset(Dataset):\n",
    "    def __init__(self, texts, labels):\n",
    "        self.texts = texts\n",
    "        self.labels = labels\n",
    "\n",
    "    def __len__(self):\n",
    "        return len(self.texts)\n",
    "\n",
    "    def __getitem__(self, idx):\n",
    "        text = self.texts[idx]\n",
    "        label = self.labels[idx]\n",
    "        return text, label\n",
    "\n",
    "\n",
    "X_train = [get_index_vector(words, word_id_map) for words in word_list] #文章をidに変換したリスト\n",
    "X_train = pad_sequence(X_train, batch_first=True, padding_value=0) #paddingをして系列長を揃える\n",
    "Y_train = np.load(\"../ch8/matrix/y_train.npy\")    #ラベルのロード(onehot vector)\n",
    "Y_train =torch.from_numpy(Y_train)  #tensorに変換\n",
    "datasets = TextDataset(X_train, Y_train)    #データセットとする\n",
    "train_dataloader = DataLoader(datasets, shuffle=True, batch_size=64)    #データローダーの定義"
   ]
  },
  {
   "cell_type": "code",
   "execution_count": 3,
   "metadata": {},
   "outputs": [],
   "source": [
    "from torch.nn.utils.rnn import pack_padded_sequence\n",
    "from gensim.models.keyedvectors import KeyedVectors\n",
    "\n",
    "#　最終層にsoftmaxは不要(クロスエントロピーの内部でsoftmaxをかけてくれるので)\n",
    "class LSTMModel(nn.Module):\n",
    "    def __init__(self,onehot_dim=onehot_dim ,embedding_dim = 300, hidden_dim = 50, output_dim = 4):\n",
    "        super().__init__()\n",
    "        model = KeyedVectors.load_word2vec_format('../ch7/GoogleNews-vectors-negative300.bin.gz', binary=True)\n",
    "        weights = torch.FloatTensor(model.vectors)\n",
    "        self.emb = nn.Embedding.from_pretrained(weights)\n",
    "        self.emb = nn.Embedding(onehot_dim, embedding_dim)\n",
    "        self.LSTM = nn.LSTM(embedding_dim, hidden_dim, batch_first=True, num_layers=2)\n",
    "        self.linear = nn.Linear(hidden_dim, output_dim, bias=True)\n",
    "\n",
    "    def forward(self, x,h=None):\n",
    "        x = self.emb(x)\n",
    "        y, (h, c)= self.LSTM(x, h)\n",
    "        h = self.linear(h[-1])\n",
    "        return h"
   ]
  },
  {
   "cell_type": "code",
   "execution_count": 4,
   "metadata": {},
   "outputs": [],
   "source": [
    "device = torch.device('cuda' if torch.cuda.is_available() else 'cpu')\n",
    "model = LSTMModel().to(device)\n",
    "learning_rate = 1e-2\n",
    "batch_size = 64\n",
    "epochs = 500\n",
    "loss_fn = nn.CrossEntropyLoss()\n",
    "optimizer = torch.optim.SGD(model.parameters(), lr=learning_rate)"
   ]
  },
  {
   "cell_type": "code",
   "execution_count": 5,
   "metadata": {},
   "outputs": [
    {
     "name": "stderr",
     "output_type": "stream",
     "text": [
      " 20%|██        | 100/500 [01:10<04:52,  1.37it/s]"
     ]
    },
    {
     "name": "stdout",
     "output_type": "stream",
     "text": [
      "epoch:100, loss: 1.059883, accuracy: 0.4217432052483599\n"
     ]
    },
    {
     "name": "stderr",
     "output_type": "stream",
     "text": [
      " 40%|████      | 200/500 [02:19<03:29,  1.43it/s]"
     ]
    },
    {
     "name": "stdout",
     "output_type": "stream",
     "text": [
      "epoch:200, loss: 1.189876, accuracy: 0.42305529522024365\n"
     ]
    },
    {
     "name": "stderr",
     "output_type": "stream",
     "text": [
      " 60%|██████    | 300/500 [03:29<02:03,  1.62it/s]"
     ]
    },
    {
     "name": "stdout",
     "output_type": "stream",
     "text": [
      "epoch:300, loss: 1.015846, accuracy: 0.522680412371134\n"
     ]
    },
    {
     "name": "stderr",
     "output_type": "stream",
     "text": [
      " 80%|████████  | 400/500 [04:39<01:12,  1.39it/s]"
     ]
    },
    {
     "name": "stdout",
     "output_type": "stream",
     "text": [
      "epoch:400, loss: 0.511298, accuracy: 0.7758200562324273\n"
     ]
    },
    {
     "name": "stderr",
     "output_type": "stream",
     "text": [
      "100%|██████████| 500/500 [05:48<00:00,  1.43it/s]"
     ]
    },
    {
     "name": "stdout",
     "output_type": "stream",
     "text": [
      "epoch:500, loss: 0.346667, accuracy: 0.9003748828491096\n"
     ]
    },
    {
     "name": "stderr",
     "output_type": "stream",
     "text": [
      "\n"
     ]
    }
   ],
   "source": [
    "from tqdm import tqdm\n",
    "\n",
    "for t in tqdm(range(epochs)):\n",
    "    size = len(train_dataloader.dataset)\n",
    "    correct = 0\n",
    "    for batch, (X, y) in enumerate(train_dataloader):\n",
    "        # 予測と損失の計算\n",
    "        X = X.to(device)\n",
    "        y = y.to(device)\n",
    "        y = y.argmax(dim=1) #loss_fnのyにはクラスインデックスが期待されている\n",
    "        pred = model.forward(X)\n",
    "        loss = loss_fn(pred, y)\n",
    "\n",
    "        # バックプロパゲーション\n",
    "        optimizer.zero_grad()\n",
    "        loss.backward()\n",
    "        optimizer.step()\n",
    "\n",
    "        correct += (pred.argmax(dim=1) == y).sum().item()\n",
    "\n",
    "    loss = loss.item()\n",
    "    if (t+1)%100 == 0:\n",
    "        print(f\"epoch:{t+1}, loss: {loss:>7f}, accuracy: {correct/size}\")"
   ]
  },
  {
   "cell_type": "code",
   "execution_count": 6,
   "metadata": {},
   "outputs": [],
   "source": [
    "def create_word_list(FILE_PATH):\n",
    "    df = pl.read_csv(FILE_PATH, separator=\"\\t\", new_columns=[\"text\", \"categoory\"])\n",
    "    text_list = df[\"text\"].to_list()\n",
    "\n",
    "    #　記号を取り除く\n",
    "    cleaned_text_list = [re.sub(r'[^a-zA-Z\\s]', \"\", text) for text in text_list]\n",
    "    word_list = [text.split() for text in cleaned_text_list]\n",
    "    return word_list\n",
    "\n",
    "TEST_FILE_PATH = \"../ch6/news+aggregator/test.txt\"\n",
    "word_list = create_word_list(TEST_FILE_PATH)\n",
    "X_test = [get_index_vector(words, word_id_map) for words in word_list] #文章をidに変換したリスト\n",
    "X_test = pad_sequence(X_test, batch_first=True, padding_value=0) #paddingをして系列長を揃える\n",
    "Y_test = np.load(\"../ch8/matrix/y_test.npy\")    #ラベルのロード(onehot vector)\n",
    "Y_test =torch.from_numpy(Y_test)  #tensorに変換\n",
    "datasets = TextDataset(X_test, Y_test)    #データセットとする\n",
    "test_dataloader = DataLoader(datasets, shuffle=True, batch_size=64)    #データローダーの定義"
   ]
  },
  {
   "cell_type": "code",
   "execution_count": 7,
   "metadata": {},
   "outputs": [
    {
     "name": "stdout",
     "output_type": "stream",
     "text": [
      "testdata_accuracy: 0.91630740393627\n"
     ]
    }
   ],
   "source": [
    "size = len(train_dataloader.dataset)\n",
    "correct = 0\n",
    "for batch, (X, y) in enumerate(train_dataloader):\n",
    "    # 予測と損失の計算\n",
    "    X = X.to(device)\n",
    "    y = y.argmax(dim=1) #loss_fnのyにはクラスインデックスが期待されている\n",
    "    y = y.to(device)\n",
    "    pred = model.forward(X)\n",
    "    correct += (pred.argmax(dim=1) == y).sum().item()\n",
    "print(f\"testdata_accuracy: {correct/size}\")"
   ]
  }
 ],
 "metadata": {
  "kernelspec": {
   "display_name": "Python 3",
   "language": "python",
   "name": "python3"
  },
  "language_info": {
   "codemirror_mode": {
    "name": "ipython",
    "version": 3
   },
   "file_extension": ".py",
   "mimetype": "text/x-python",
   "name": "python",
   "nbconvert_exporter": "python",
   "pygments_lexer": "ipython3",
   "version": "3.8.10"
  }
 },
 "nbformat": 4,
 "nbformat_minor": 2
}
