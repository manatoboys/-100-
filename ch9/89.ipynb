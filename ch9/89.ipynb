{
 "cells": [
  {
   "cell_type": "code",
   "execution_count": 44,
   "metadata": {},
   "outputs": [],
   "source": [
    "import polars as pl\n",
    "from transformers import AutoTokenizer,AutoModel\n",
    "from huggingface_hub import login\n",
    "from dotenv import load_dotenv\n",
    "import os\n",
    "import re\n",
    "import torch\n",
    "import numpy as np\n",
    "from torch import nn\n",
    "from torch.utils.data import Dataset, DataLoader\n",
    "\n",
    "# .envファイルから環境変数を読み込む\n",
    "load_dotenv()\n",
    "huggingface_token = os.getenv(\"HUGGINGFACE_TOKEN\")\n",
    "\n",
    "# トークナイザーを初期化\n",
    "tokenizer = AutoTokenizer.from_pretrained('bert-base-uncased', token=huggingface_token)\n",
    "\n",
    "# 学習データからテキストのみをリストで抽出\n",
    "TRAIN_FILE_PATH = \"../ch6/news+aggregator/train.txt\"\n",
    "TEST_FILE_PATH = \"../ch6/news+aggregator/test.txt\"\n",
    "VALID_FILE_PATH = \"../ch6/news+aggregator/valid.txt\"\n",
    "TRAIN_LABEL_FILE_PATH = \"../ch8/matrix/y_train.npy\"\n",
    "\n",
    "#使用する全てのデータの最長の長さを測定\n",
    "def get_max_len(train_filepath, test_filepath, valid_filepath):\n",
    "    train_df = pl.read_csv(train_filepath, separator=\"\\t\", new_columns=[\"text\", \"categoory\"])\n",
    "    train_text_list = train_df[\"text\"].to_list()\n",
    "    train_cleaned_text_list = [re.sub(r'[^a-zA-Z\\s]', \"\", text) for text in train_text_list]\n",
    "    train_tokenized_list = [tokenizer.tokenize(sentence) for sentence in train_cleaned_text_list]\n",
    "    train_max_len = max([len(sentence) for sentence in train_tokenized_list])\n",
    "\n",
    "    test_df = pl.read_csv(test_filepath, separator=\"\\t\", new_columns=[\"text\", \"categoory\"])\n",
    "    test_text_list = test_df[\"text\"].to_list()\n",
    "    test_cleaned_text_list = [re.sub(r'[^a-zA-Z\\s]', \"\", text) for text in test_text_list]\n",
    "    test_tokenized_list = [tokenizer.tokenize(sentence) for sentence in test_cleaned_text_list]\n",
    "    test_max_len = max([len(sentence) for sentence in test_tokenized_list])\n",
    "\n",
    "    valid_df = pl.read_csv(valid_filepath, separator=\"\\t\", new_columns=[\"text\", \"categoory\"])\n",
    "    valid_text_list = valid_df[\"text\"].to_list()\n",
    "    valid_cleaned_text_list = [re.sub(r'[^a-zA-Z\\s]', \"\", text) for text in valid_text_list]\n",
    "    valid_tokenized_list = [tokenizer.tokenize(sentence) for sentence in valid_cleaned_text_list]\n",
    "    valid_max_len = max([len(sentence) for sentence in valid_tokenized_list])\n",
    "\n",
    "    max_len = max([train_max_len, test_max_len, valid_max_len])\n",
    "    return max_len\n",
    "\n",
    "max_len = get_max_len(TRAIN_FILE_PATH, TEST_FILE_PATH, VALID_FILE_PATH)\n",
    "\n",
    "# BERTの入力データは何？要確認！！！！\n",
    "class BertDataset(Dataset):\n",
    "    def __init__(self, input_ids, masks, token_type_ids, labels):\n",
    "        self.input_ids = input_ids\n",
    "        self.masks = masks\n",
    "        self.token_type_ids = token_type_ids\n",
    "        self.labels = labels\n",
    "\n",
    "    def __len__(self):\n",
    "        return len(self.input_ids)\n",
    "\n",
    "    def __getitem__(self, idx):\n",
    "        input_id = self.input_ids[idx]\n",
    "        mask = self.masks[idx]\n",
    "        token_type_id = self.token_type_ids[idx]\n",
    "        label = self.labels[idx]\n",
    "        return {\"input_ids\":input_id, \"token_type_ids\":token_type_id, \"x_attention_mask\":mask}, label\n",
    "\n",
    "\n",
    "def create_dataloader(file_path, label_file_path, max_len=max_len):\n",
    "    df = pl.read_csv(file_path, separator=\"\\t\", new_columns=[\"text\", \"categoory\"])\n",
    "    text_list = df[\"text\"].to_list()\n",
    "\n",
    "    cleaned_text_list = [re.sub(r'[^a-zA-Z\\s]', \"\", text) for text in text_list]\n",
    "    tokenized_list = [tokenizer.tokenize(sentence) for sentence in cleaned_text_list]\n",
    "    max_len = max([len(sentence) for sentence in tokenized_list])\n",
    "\n",
    "    input_ids = []\n",
    "    attention_masks = []\n",
    "    token_type_ids = []\n",
    "    for sentence in cleaned_text_list:\n",
    "        encoded_dict = tokenizer.encode_plus(\n",
    "                        sentence,\n",
    "                        add_special_tokens = True, # Special Tokenの追加\n",
    "                        max_length = max_len+2,           # 文章の長さを固定（Padding/Trancatinating）\n",
    "                        pad_to_max_length = True,# PADDINGで埋める\n",
    "                        return_attention_mask = True,   # Attention maksの作成\n",
    "                        return_tensors = 'pt',     #  Pytorch tensorsで返す\n",
    "        )\n",
    "        input_ids.append(encoded_dict[\"input_ids\"])\n",
    "        attention_masks.append(encoded_dict[\"attention_mask\"])\n",
    "        token_type_ids.append(encoded_dict[\"token_type_ids\"])\n",
    "    # リストに入ったtensorを縦方向（dim=0）へ結合\n",
    "    input_ids = torch.cat(input_ids, dim=0)\n",
    "    attention_masks = torch.cat(attention_masks, dim=0)\n",
    "    token_type_ids = torch.cat(token_type_ids, dim=0)\n",
    "\n",
    "    Y_train = np.load(label_file_path)\n",
    "    Y_train =torch.from_numpy(Y_train)\n",
    "    datasets = BertDataset(input_ids, attention_masks, token_type_ids, Y_train)\n",
    "    dataloader = DataLoader(datasets, shuffle=True, batch_size=64)\n",
    "    return dataloader"
   ]
  },
  {
   "cell_type": "code",
   "execution_count": 45,
   "metadata": {},
   "outputs": [
    {
     "name": "stderr",
     "output_type": "stream",
     "text": [
      "Truncation was not explicitly activated but `max_length` is provided a specific value, please use `truncation=True` to explicitly truncate examples to max length. Defaulting to 'longest_first' truncation strategy. If you encode pairs of sequences (GLUE-style) with the tokenizer you can select this strategy more precisely by providing a specific strategy to `truncation`.\n",
      "/Users/tajirimanato/.pyenv/versions/3.12.2/lib/python3.12/site-packages/transformers/tokenization_utils_base.py:2699: FutureWarning: The `pad_to_max_length` argument is deprecated and will be removed in a future version, use `padding=True` or `padding='longest'` to pad to the longest sequence in the batch, or use `padding='max_length'` to pad to a max length. In this case, you can give a specific length with `max_length` (e.g. `max_length=45`) or leave max_length to None to pad to the maximal input size of the model (e.g. 512 for Bert).\n",
      "  warnings.warn(\n"
     ]
    }
   ],
   "source": [
    "train_dataloader = create_dataloader(TRAIN_FILE_PATH, TRAIN_LABEL_FILE_PATH, max_len)\n"
   ]
  },
  {
   "cell_type": "code",
   "execution_count": 46,
   "metadata": {},
   "outputs": [],
   "source": [
    "class BertModel(nn.Module):\n",
    "    def __init__(self):\n",
    "        super().__init__()\n",
    "        self.bert = AutoModel.from_pretrained(\"bert-base-uncased\")\n",
    "        self.classifier = nn.Linear(in_features = 768, out_features = 4)\n",
    "    def forward(self, input_ids, attention_mask, token_type_ids):\n",
    "        outputs = self.bert(input_ids, attention_mask, token_type_ids)\n",
    "        pooler_output = outputs.pooler_output\n",
    "        logits = self.classifier(pooler_output).squeeze(-1)\n",
    "        return logits"
   ]
  },
  {
   "cell_type": "code",
   "execution_count": 47,
   "metadata": {},
   "outputs": [],
   "source": [
    "device = torch.device('cuda' if torch.cuda.is_available() else 'cpu')\n",
    "\n",
    "model = BertModel().to(device)\n",
    "learning_rate = 1e-2\n",
    "epochs = 500\n",
    "loss_fn = nn.CrossEntropyLoss()\n",
    "optimizer = torch.optim.SGD(model.parameters(), lr=learning_rate)"
   ]
  },
  {
   "cell_type": "code",
   "execution_count": 48,
   "metadata": {},
   "outputs": [
    {
     "name": "stderr",
     "output_type": "stream",
     "text": [
      "  0%|          | 0/500 [00:08<?, ?it/s]\n"
     ]
    },
    {
     "ename": "KeyboardInterrupt",
     "evalue": "",
     "output_type": "error",
     "traceback": [
      "\u001b[0;31m---------------------------------------------------------------------------\u001b[0m",
      "\u001b[0;31mKeyboardInterrupt\u001b[0m                         Traceback (most recent call last)",
      "Cell \u001b[0;32mIn[48], line 18\u001b[0m\n\u001b[1;32m     16\u001b[0m \u001b[38;5;66;03m# バックプロパゲーション\u001b[39;00m\n\u001b[1;32m     17\u001b[0m optimizer\u001b[38;5;241m.\u001b[39mzero_grad()\n\u001b[0;32m---> 18\u001b[0m \u001b[43mloss\u001b[49m\u001b[38;5;241;43m.\u001b[39;49m\u001b[43mbackward\u001b[49m\u001b[43m(\u001b[49m\u001b[43m)\u001b[49m\n\u001b[1;32m     19\u001b[0m optimizer\u001b[38;5;241m.\u001b[39mstep()\n\u001b[1;32m     21\u001b[0m correct \u001b[38;5;241m+\u001b[39m\u001b[38;5;241m=\u001b[39m (pred\u001b[38;5;241m.\u001b[39margmax(dim\u001b[38;5;241m=\u001b[39m\u001b[38;5;241m1\u001b[39m) \u001b[38;5;241m==\u001b[39m y)\u001b[38;5;241m.\u001b[39msum()\u001b[38;5;241m.\u001b[39mitem()\n",
      "File \u001b[0;32m~/.pyenv/versions/3.12.2/lib/python3.12/site-packages/torch/_tensor.py:525\u001b[0m, in \u001b[0;36mTensor.backward\u001b[0;34m(self, gradient, retain_graph, create_graph, inputs)\u001b[0m\n\u001b[1;32m    515\u001b[0m \u001b[38;5;28;01mif\u001b[39;00m has_torch_function_unary(\u001b[38;5;28mself\u001b[39m):\n\u001b[1;32m    516\u001b[0m     \u001b[38;5;28;01mreturn\u001b[39;00m handle_torch_function(\n\u001b[1;32m    517\u001b[0m         Tensor\u001b[38;5;241m.\u001b[39mbackward,\n\u001b[1;32m    518\u001b[0m         (\u001b[38;5;28mself\u001b[39m,),\n\u001b[0;32m   (...)\u001b[0m\n\u001b[1;32m    523\u001b[0m         inputs\u001b[38;5;241m=\u001b[39minputs,\n\u001b[1;32m    524\u001b[0m     )\n\u001b[0;32m--> 525\u001b[0m \u001b[43mtorch\u001b[49m\u001b[38;5;241;43m.\u001b[39;49m\u001b[43mautograd\u001b[49m\u001b[38;5;241;43m.\u001b[39;49m\u001b[43mbackward\u001b[49m\u001b[43m(\u001b[49m\n\u001b[1;32m    526\u001b[0m \u001b[43m    \u001b[49m\u001b[38;5;28;43mself\u001b[39;49m\u001b[43m,\u001b[49m\u001b[43m \u001b[49m\u001b[43mgradient\u001b[49m\u001b[43m,\u001b[49m\u001b[43m \u001b[49m\u001b[43mretain_graph\u001b[49m\u001b[43m,\u001b[49m\u001b[43m \u001b[49m\u001b[43mcreate_graph\u001b[49m\u001b[43m,\u001b[49m\u001b[43m \u001b[49m\u001b[43minputs\u001b[49m\u001b[38;5;241;43m=\u001b[39;49m\u001b[43minputs\u001b[49m\n\u001b[1;32m    527\u001b[0m \u001b[43m\u001b[49m\u001b[43m)\u001b[49m\n",
      "File \u001b[0;32m~/.pyenv/versions/3.12.2/lib/python3.12/site-packages/torch/autograd/__init__.py:267\u001b[0m, in \u001b[0;36mbackward\u001b[0;34m(tensors, grad_tensors, retain_graph, create_graph, grad_variables, inputs)\u001b[0m\n\u001b[1;32m    262\u001b[0m     retain_graph \u001b[38;5;241m=\u001b[39m create_graph\n\u001b[1;32m    264\u001b[0m \u001b[38;5;66;03m# The reason we repeat the same comment below is that\u001b[39;00m\n\u001b[1;32m    265\u001b[0m \u001b[38;5;66;03m# some Python versions print out the first line of a multi-line function\u001b[39;00m\n\u001b[1;32m    266\u001b[0m \u001b[38;5;66;03m# calls in the traceback and some print out the last line\u001b[39;00m\n\u001b[0;32m--> 267\u001b[0m \u001b[43m_engine_run_backward\u001b[49m\u001b[43m(\u001b[49m\n\u001b[1;32m    268\u001b[0m \u001b[43m    \u001b[49m\u001b[43mtensors\u001b[49m\u001b[43m,\u001b[49m\n\u001b[1;32m    269\u001b[0m \u001b[43m    \u001b[49m\u001b[43mgrad_tensors_\u001b[49m\u001b[43m,\u001b[49m\n\u001b[1;32m    270\u001b[0m \u001b[43m    \u001b[49m\u001b[43mretain_graph\u001b[49m\u001b[43m,\u001b[49m\n\u001b[1;32m    271\u001b[0m \u001b[43m    \u001b[49m\u001b[43mcreate_graph\u001b[49m\u001b[43m,\u001b[49m\n\u001b[1;32m    272\u001b[0m \u001b[43m    \u001b[49m\u001b[43minputs\u001b[49m\u001b[43m,\u001b[49m\n\u001b[1;32m    273\u001b[0m \u001b[43m    \u001b[49m\u001b[43mallow_unreachable\u001b[49m\u001b[38;5;241;43m=\u001b[39;49m\u001b[38;5;28;43;01mTrue\u001b[39;49;00m\u001b[43m,\u001b[49m\n\u001b[1;32m    274\u001b[0m \u001b[43m    \u001b[49m\u001b[43maccumulate_grad\u001b[49m\u001b[38;5;241;43m=\u001b[39;49m\u001b[38;5;28;43;01mTrue\u001b[39;49;00m\u001b[43m,\u001b[49m\n\u001b[1;32m    275\u001b[0m \u001b[43m\u001b[49m\u001b[43m)\u001b[49m\n",
      "File \u001b[0;32m~/.pyenv/versions/3.12.2/lib/python3.12/site-packages/torch/autograd/graph.py:744\u001b[0m, in \u001b[0;36m_engine_run_backward\u001b[0;34m(t_outputs, *args, **kwargs)\u001b[0m\n\u001b[1;32m    742\u001b[0m     unregister_hooks \u001b[38;5;241m=\u001b[39m _register_logging_hooks_on_whole_graph(t_outputs)\n\u001b[1;32m    743\u001b[0m \u001b[38;5;28;01mtry\u001b[39;00m:\n\u001b[0;32m--> 744\u001b[0m     \u001b[38;5;28;01mreturn\u001b[39;00m \u001b[43mVariable\u001b[49m\u001b[38;5;241;43m.\u001b[39;49m\u001b[43m_execution_engine\u001b[49m\u001b[38;5;241;43m.\u001b[39;49m\u001b[43mrun_backward\u001b[49m\u001b[43m(\u001b[49m\u001b[43m  \u001b[49m\u001b[38;5;66;43;03m# Calls into the C++ engine to run the backward pass\u001b[39;49;00m\n\u001b[1;32m    745\u001b[0m \u001b[43m        \u001b[49m\u001b[43mt_outputs\u001b[49m\u001b[43m,\u001b[49m\u001b[43m \u001b[49m\u001b[38;5;241;43m*\u001b[39;49m\u001b[43margs\u001b[49m\u001b[43m,\u001b[49m\u001b[43m \u001b[49m\u001b[38;5;241;43m*\u001b[39;49m\u001b[38;5;241;43m*\u001b[39;49m\u001b[43mkwargs\u001b[49m\n\u001b[1;32m    746\u001b[0m \u001b[43m    \u001b[49m\u001b[43m)\u001b[49m  \u001b[38;5;66;03m# Calls into the C++ engine to run the backward pass\u001b[39;00m\n\u001b[1;32m    747\u001b[0m \u001b[38;5;28;01mfinally\u001b[39;00m:\n\u001b[1;32m    748\u001b[0m     \u001b[38;5;28;01mif\u001b[39;00m attach_logging_hooks:\n",
      "\u001b[0;31mKeyboardInterrupt\u001b[0m: "
     ]
    }
   ],
   "source": [
    "from tqdm import tqdm\n",
    "\n",
    "for t in tqdm(range(epochs)):\n",
    "    size = len(train_dataloader.dataset)\n",
    "    correct = 0\n",
    "    for batch, (X, y) in enumerate(train_dataloader):\n",
    "        # 予測と損失の計算\n",
    "        input_ids = X[\"input_ids\"].to(device)\n",
    "        x_attention_mask = X[\"x_attention_mask\"].to(device)\n",
    "        token_type_ids = X[\"token_type_ids\"].to(device)\n",
    "        y = y.to(device)\n",
    "        y = y.argmax(dim=1) #loss_fnのyにはクラスインデックスが期待されている\n",
    "        pred = model.forward(input_ids, x_attention_mask, token_type_ids)\n",
    "        loss = loss_fn(pred, y)\n",
    "\n",
    "        # バックプロパゲーション\n",
    "        optimizer.zero_grad()\n",
    "        loss.backward()\n",
    "        optimizer.step()\n",
    "\n",
    "        correct += (pred.argmax(dim=1) == y).sum().item()\n",
    "\n",
    "    loss = loss.item()\n",
    "    if (t+1)%100 == 0:\n",
    "        print(f\"epoch:{t+1}, loss: {loss:>7f}, accuracy: {correct/size}\")"
   ]
  }
 ],
 "metadata": {
  "kernelspec": {
   "display_name": "Python 3",
   "language": "python",
   "name": "python3"
  },
  "language_info": {
   "codemirror_mode": {
    "name": "ipython",
    "version": 3
   },
   "file_extension": ".py",
   "mimetype": "text/x-python",
   "name": "python",
   "nbconvert_exporter": "python",
   "pygments_lexer": "ipython3",
   "version": "3.12.2"
  }
 },
 "nbformat": 4,
 "nbformat_minor": 2
}
