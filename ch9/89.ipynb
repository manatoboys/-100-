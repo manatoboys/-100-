{
 "cells": [
  {
   "cell_type": "code",
   "execution_count": 1,
   "metadata": {},
   "outputs": [
    {
     "name": "stderr",
     "output_type": "stream",
     "text": [
      "/home/tajiri/.local/lib/python3.8/site-packages/tqdm/auto.py:21: TqdmWarning: IProgress not found. Please update jupyter and ipywidgets. See https://ipywidgets.readthedocs.io/en/stable/user_install.html\n",
      "  from .autonotebook import tqdm as notebook_tqdm\n"
     ]
    }
   ],
   "source": [
    "import polars as pl\n",
    "from transformers import AutoTokenizer,AutoModel\n",
    "from huggingface_hub import login\n",
    "import os\n",
    "import re\n",
    "import torch\n",
    "import numpy as np\n",
    "from torch import nn\n",
    "from torch.utils.data import Dataset, DataLoader\n",
    "\n",
    "# 事前に環境変数の設定\n",
    "huggingface_token = os.getenv(\"HUGGINGFACE_TOKEN\")\n",
    "\n",
    "# トークナイザーを初期化\n",
    "tokenizer = AutoTokenizer.from_pretrained('bert-base-uncased', token=huggingface_token)\n",
    "\n",
    "# 学習データからテキストのみをリストで抽出\n",
    "TRAIN_FILE_PATH = \"../ch6/news+aggregator/train.txt\"\n",
    "TEST_FILE_PATH = \"../ch6/news+aggregator/test.txt\"\n",
    "VALID_FILE_PATH = \"../ch6/news+aggregator/valid.txt\"\n",
    "TRAIN_LABEL_FILE_PATH = \"../ch8/matrix/y_train.npy\"\n",
    "\n",
    "#使用する全てのデータの最長の長さを測定\n",
    "def get_max_len(train_filepath, test_filepath, valid_filepath):\n",
    "    train_df = pl.read_csv(train_filepath, separator=\"\\t\", new_columns=[\"text\", \"categoory\"])\n",
    "    train_text_list = train_df[\"text\"].to_list()\n",
    "    train_cleaned_text_list = [re.sub(r'[^a-zA-Z\\s]', \"\", text) for text in train_text_list]\n",
    "    train_tokenized_list = [tokenizer.tokenize(sentence) for sentence in train_cleaned_text_list]\n",
    "    train_max_len = max([len(sentence) for sentence in train_tokenized_list])\n",
    "\n",
    "    test_df = pl.read_csv(test_filepath, separator=\"\\t\", new_columns=[\"text\", \"categoory\"])\n",
    "    test_text_list = test_df[\"text\"].to_list()\n",
    "    test_cleaned_text_list = [re.sub(r'[^a-zA-Z\\s]', \"\", text) for text in test_text_list]\n",
    "    test_tokenized_list = [tokenizer.tokenize(sentence) for sentence in test_cleaned_text_list]\n",
    "    test_max_len = max([len(sentence) for sentence in test_tokenized_list])\n",
    "\n",
    "    valid_df = pl.read_csv(valid_filepath, separator=\"\\t\", new_columns=[\"text\", \"categoory\"])\n",
    "    valid_text_list = valid_df[\"text\"].to_list()\n",
    "    valid_cleaned_text_list = [re.sub(r'[^a-zA-Z\\s]', \"\", text) for text in valid_text_list]\n",
    "    valid_tokenized_list = [tokenizer.tokenize(sentence) for sentence in valid_cleaned_text_list]\n",
    "    valid_max_len = max([len(sentence) for sentence in valid_tokenized_list])\n",
    "\n",
    "    max_len = max([train_max_len, test_max_len, valid_max_len])\n",
    "    return max_len\n",
    "\n",
    "max_len = get_max_len(TRAIN_FILE_PATH, TEST_FILE_PATH, VALID_FILE_PATH)\n",
    "\n",
    "# BERTの入力データは何？要確認！！！！\n",
    "class BertDataset(Dataset):\n",
    "    def __init__(self, input_ids, masks, token_type_ids, labels):\n",
    "        self.input_ids = input_ids\n",
    "        self.masks = masks\n",
    "        self.token_type_ids = token_type_ids\n",
    "        self.labels = labels\n",
    "\n",
    "    def __len__(self):\n",
    "        return len(self.input_ids)\n",
    "\n",
    "    def __getitem__(self, idx):\n",
    "        input_id = self.input_ids[idx]\n",
    "        mask = self.masks[idx]\n",
    "        token_type_id = self.token_type_ids[idx]\n",
    "        label = self.labels[idx]\n",
    "        return {\"input_ids\":input_id, \"token_type_ids\":token_type_id, \"x_attention_mask\":mask}, label\n",
    "\n",
    "\n",
    "def create_dataloader(file_path, label_file_path, max_len=max_len):\n",
    "    df = pl.read_csv(file_path, separator=\"\\t\", new_columns=[\"text\", \"categoory\"])\n",
    "    text_list = df[\"text\"].to_list()\n",
    "\n",
    "    cleaned_text_list = [re.sub(r'[^a-zA-Z\\s]', \"\", text) for text in text_list]\n",
    "    tokenized_list = [tokenizer.tokenize(sentence) for sentence in cleaned_text_list]\n",
    "    max_len = max([len(sentence) for sentence in tokenized_list])\n",
    "\n",
    "    input_ids = []\n",
    "    attention_masks = []\n",
    "    token_type_ids = []\n",
    "    for sentence in cleaned_text_list:\n",
    "        encoded_dict = tokenizer.encode_plus(\n",
    "                        sentence,\n",
    "                        add_special_tokens = True, # Special Tokenの追加\n",
    "                        max_length = max_len+2,           # 文章の長さを固定（Padding/Trancatinating）\n",
    "                        pad_to_max_length = True,# PADDINGで埋める\n",
    "                        return_attention_mask = True,   # Attention maksの作成\n",
    "                        return_tensors = 'pt',     #  Pytorch tensorsで返す\n",
    "        )\n",
    "        input_ids.append(encoded_dict[\"input_ids\"])\n",
    "        attention_masks.append(encoded_dict[\"attention_mask\"])\n",
    "        token_type_ids.append(encoded_dict[\"token_type_ids\"])\n",
    "    # リストに入ったtensorを縦方向（dim=0）へ結合\n",
    "    input_ids = torch.cat(input_ids, dim=0)\n",
    "    attention_masks = torch.cat(attention_masks, dim=0)\n",
    "    token_type_ids = torch.cat(token_type_ids, dim=0)\n",
    "\n",
    "    Y_train = np.load(label_file_path)\n",
    "    Y_train =torch.from_numpy(Y_train)\n",
    "    datasets = BertDataset(input_ids, attention_masks, token_type_ids, Y_train)\n",
    "    dataloader = DataLoader(datasets, shuffle=True, batch_size=64)\n",
    "    return dataloader"
   ]
  },
  {
   "cell_type": "code",
   "execution_count": 2,
   "metadata": {},
   "outputs": [
    {
     "name": "stderr",
     "output_type": "stream",
     "text": [
      "Truncation was not explicitly activated but `max_length` is provided a specific value, please use `truncation=True` to explicitly truncate examples to max length. Defaulting to 'longest_first' truncation strategy. If you encode pairs of sequences (GLUE-style) with the tokenizer you can select this strategy more precisely by providing a specific strategy to `truncation`.\n",
      "/home/tajiri/.local/lib/python3.8/site-packages/transformers/tokenization_utils_base.py:2699: FutureWarning: The `pad_to_max_length` argument is deprecated and will be removed in a future version, use `padding=True` or `padding='longest'` to pad to the longest sequence in the batch, or use `padding='max_length'` to pad to a max length. In this case, you can give a specific length with `max_length` (e.g. `max_length=45`) or leave max_length to None to pad to the maximal input size of the model (e.g. 512 for Bert).\n",
      "  warnings.warn(\n"
     ]
    }
   ],
   "source": [
    "train_dataloader = create_dataloader(TRAIN_FILE_PATH, TRAIN_LABEL_FILE_PATH, max_len)"
   ]
  },
  {
   "cell_type": "code",
   "execution_count": 3,
   "metadata": {},
   "outputs": [],
   "source": [
    "class BertModel(nn.Module):\n",
    "    def __init__(self):\n",
    "        super().__init__()\n",
    "        self.bert = AutoModel.from_pretrained(\"bert-base-uncased\")\n",
    "        self.classifier = nn.Linear(in_features = 768, out_features = 4)\n",
    "    def forward(self, input_ids, attention_mask, token_type_ids):\n",
    "        outputs = self.bert(input_ids, attention_mask, token_type_ids)\n",
    "        pooler_output = outputs.pooler_output\n",
    "        logits = self.classifier(pooler_output).squeeze(-1)\n",
    "        return logits"
   ]
  },
  {
   "cell_type": "code",
   "execution_count": 4,
   "metadata": {},
   "outputs": [],
   "source": [
    "device = torch.device('cuda' if torch.cuda.is_available() else 'cpu')\n",
    "\n",
    "model = BertModel().to(device)\n",
    "learning_rate = 1e-2\n",
    "epochs = 100\n",
    "loss_fn = nn.CrossEntropyLoss()\n",
    "optimizer = torch.optim.SGD(model.parameters(), lr=learning_rate)"
   ]
  },
  {
   "cell_type": "code",
   "execution_count": 5,
   "metadata": {},
   "outputs": [
    {
     "name": "stderr",
     "output_type": "stream",
     "text": [
      "100%|██████████| 100/100 [26:11<00:00, 15.71s/it]"
     ]
    },
    {
     "name": "stdout",
     "output_type": "stream",
     "text": [
      "epoch:100, loss: 0.030725, accuracy: 0.98369259606373\n"
     ]
    },
    {
     "name": "stderr",
     "output_type": "stream",
     "text": [
      "\n"
     ]
    }
   ],
   "source": [
    "from tqdm import tqdm\n",
    "\n",
    "for t in tqdm(range(epochs)):\n",
    "    size = len(train_dataloader.dataset)\n",
    "    correct = 0\n",
    "    for batch, (X, y) in enumerate(train_dataloader):\n",
    "        # 予測と損失の計算\n",
    "        input_ids = X[\"input_ids\"].to(device)\n",
    "        x_attention_mask = X[\"x_attention_mask\"].to(device)\n",
    "        token_type_ids = X[\"token_type_ids\"].to(device)\n",
    "        y = y.to(device)\n",
    "        y = y.argmax(dim=1) #loss_fnのyにはクラスインデックスが期待されている\n",
    "        pred = model.forward(input_ids, x_attention_mask, token_type_ids)\n",
    "        loss = loss_fn(pred, y)\n",
    "\n",
    "        # バックプロパゲーション\n",
    "        optimizer.zero_grad()\n",
    "        loss.backward()\n",
    "        optimizer.step()\n",
    "\n",
    "        correct += (pred.argmax(dim=1) == y).sum().item()\n",
    "\n",
    "    loss = loss.item()\n",
    "    # if (t+1)%100 == 0:\n",
    "    print(f\"epoch:{t+1}, loss: {loss:>7f}, accuracy: {correct/size}\")"
   ]
  }
 ],
 "metadata": {
  "kernelspec": {
   "display_name": "Python 3",
   "language": "python",
   "name": "python3"
  },
  "language_info": {
   "codemirror_mode": {
    "name": "ipython",
    "version": 3
   },
   "file_extension": ".py",
   "mimetype": "text/x-python",
   "name": "python",
   "nbconvert_exporter": "python",
   "pygments_lexer": "ipython3",
   "version": "3.9.6"
  }
 },
 "nbformat": 4,
 "nbformat_minor": 2
}
