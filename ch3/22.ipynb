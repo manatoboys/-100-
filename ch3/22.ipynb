{
 "cells": [
  {
   "cell_type": "code",
   "execution_count": 1,
   "metadata": {},
   "outputs": [
    {
     "name": "stdout",
     "output_type": "stream",
     "text": [
      "イギリス\n",
      "イギリス連邦加盟国\n",
      "英連邦王国\n",
      "G8加盟国\n",
      "欧州連合加盟国\n",
      "海洋国家\n",
      "現存する君主国\n",
      "島国\n",
      "1801年に成立した国家・領域\n"
     ]
    }
   ],
   "source": [
    "import json\n",
    "import re\n",
    "FILE = \"./jawiki-country.json\"\n",
    "\n",
    "with open(FILE, 'r') as f:\n",
    "    info_list = f.readlines()\n",
    "\n",
    "json_list = []\n",
    "for i in info_list:\n",
    "    json_list.append(json.loads(i))\n",
    "\n",
    "for row in json_list:\n",
    "    if row[\"title\"] == \"イギリス\":\n",
    "        ans = row[\"text\"]\n",
    "\n",
    "# カテゴリ名の抽出\n",
    "for text in ans.split(\"\\n\"):\n",
    "    if re.search(r\"\\[\\[Category:\", text):   # [[Category のある行を抽出\n",
    "        text = text.replace(\"[[Category:\",\"\").replace(\"|*]]\",\"\").replace(\"]]\",\"\").replace(\"|元\",\"\") # Categoryの中身以外の削除\n",
    "        print(text)"
   ]
  },
  {
   "cell_type": "markdown",
   "metadata": {},
   "source": [
    "**リーダブルコード**  \n",
    "- P16 具体的な名前を使う\n",
    "- P19 単語に情報を追加する"
   ]
  }
 ],
 "metadata": {
  "kernelspec": {
   "display_name": "Python 3",
   "language": "python",
   "name": "python3"
  },
  "language_info": {
   "codemirror_mode": {
    "name": "ipython",
    "version": 3
   },
   "file_extension": ".py",
   "mimetype": "text/x-python",
   "name": "python",
   "nbconvert_exporter": "python",
   "pygments_lexer": "ipython3",
   "version": "3.9.6"
  }
 },
 "nbformat": 4,
 "nbformat_minor": 2
}
