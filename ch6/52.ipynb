{
 "cells": [
  {
   "cell_type": "code",
   "execution_count": 17,
   "metadata": {},
   "outputs": [],
   "source": [
    "from tqdm import tqdm\n",
    "\n",
    "# bag of wordsの辞書を作成\n",
    "def create_BoW_dict(file_path):\n",
    "    BoW_dict = {}\n",
    "    i = 0\n",
    "    with open(file_path, \"r\", encoding=\"utf-8\")as f:\n",
    "        data_list = f.readlines()\n",
    "        for data in data_list:\n",
    "            data = data.split('\\t')\n",
    "            word_list = data[0].split()\n",
    "            for word in word_list:\n",
    "                if word in BoW_dict:\n",
    "                    continue\n",
    "                else:\n",
    "                    BoW_dict[word] = i\n",
    "                    i += 1\n",
    "    return BoW_dict\n",
    "\n",
    "# t=0, e=1, m=2, b=3としてテストデータのベクトルとラベルをそれぞれリストとして作成\n",
    "def create_vector_and_label(file_path, BoW_dict):\n",
    "    with open(file_path, \"r\", encoding=\"utf-8\")as f:\n",
    "        data_list = f.readlines()\n",
    "        vector_list = []\n",
    "        label_list = []\n",
    "        for data in tqdm(data_list):\n",
    "            data = data.split(\"\\t\")\n",
    "            word_list = data[0].split()\n",
    "            vector = [0] * len(BoW_dict)\n",
    "            for word in word_list:\n",
    "                if word in BoW_dict:\n",
    "                    vector[BoW_dict[word]] += 1\n",
    "            vector_list.append(vector)\n",
    "            label_alph = data[1].strip(\"\\n\")\n",
    "            if label_alph == \"t\":\n",
    "                label = [1, 0, 0, 0]\n",
    "            elif label_alph == \"e\":\n",
    "                label = [0, 1, 0, 0]\n",
    "            elif label_alph == \"m\":\n",
    "                label = [0, 0, 1, 0]\n",
    "            elif label_alph == \"b\":\n",
    "                label = [0, 0, 0, 1]\n",
    "            else:\n",
    "                print(\"error label\")\n",
    "            label_list.append(label)\n",
    "    return vector_list, label_list"
   ]
  },
  {
   "cell_type": "code",
   "execution_count": 18,
   "metadata": {},
   "outputs": [
    {
     "name": "stderr",
     "output_type": "stream",
     "text": [
      "100%|██████████| 10671/10671 [00:01<00:00, 8840.46it/s]\n"
     ]
    }
   ],
   "source": [
    "import torch\n",
    "from torch.utils.data import TensorDataset\n",
    "from torch.utils.data import DataLoader\n",
    "\n",
    "TRAIN_FEATURE_FILE_PATH = \"./news+aggregator/train.feature.txt\"\n",
    "\n",
    "# bag of wordsの辞書型を作成\n",
    "BoW_dict = create_BoW_dict(TRAIN_FEATURE_FILE_PATH)\n",
    "\n",
    "# test.txtからベクトルリストとラベルリストを作成\n",
    "x_train_list, y_train_list = create_vector_and_label(TRAIN_FEATURE_FILE_PATH, BoW_dict)\n",
    "\n",
    "# データの準備\n",
    "x_train = torch.Tensor(x_train_list)\n",
    "y_train = torch.Tensor(y_train_list)\n",
    "\n",
    "# 訓練データのデータローダー\n",
    "train = TensorDataset(x_train, y_train)\n",
    "train_loader = DataLoader(train, batch_size=10, shuffle=True)"
   ]
  },
  {
   "cell_type": "code",
   "execution_count": 19,
   "metadata": {},
   "outputs": [
    {
     "name": "stdout",
     "output_type": "stream",
     "text": [
      "18036\n"
     ]
    }
   ],
   "source": [
    "class LogisticRegression(torch.nn.Module):\n",
    "    def __init__(self, input_dim, output_dim):\n",
    "        super(LogisticRegression, self).__init__()\n",
    "        self.l1 = torch.nn.Linear(input_dim, output_dim)\n",
    "\n",
    "    def forward(self, x):\n",
    "        x = self.l1(x)\n",
    "        return x\n",
    "\n",
    "input_dim = len(x_train_list[0])\n",
    "print(input_dim)\n",
    "output_dim = 4\n",
    "model = LogisticRegression(input_dim, output_dim)"
   ]
  },
  {
   "cell_type": "code",
   "execution_count": 20,
   "metadata": {},
   "outputs": [],
   "source": [
    "lr_late = 0.001\n",
    "criterion = torch.nn.CrossEntropyLoss()\n",
    "optimizer = torch.optim.SGD(model.parameters(), lr = lr_late)"
   ]
  },
  {
   "cell_type": "code",
   "execution_count": 24,
   "metadata": {},
   "outputs": [
    {
     "name": "stderr",
     "output_type": "stream",
     "text": [
      " 10%|█         | 100/1000 [00:38<05:30,  2.72it/s]"
     ]
    },
    {
     "name": "stdout",
     "output_type": "stream",
     "text": [
      "100 395.76273143291473\n"
     ]
    },
    {
     "name": "stderr",
     "output_type": "stream",
     "text": [
      " 20%|██        | 200/1000 [01:16<04:22,  3.04it/s]"
     ]
    },
    {
     "name": "stdout",
     "output_type": "stream",
     "text": [
      "200 366.5188947543502\n"
     ]
    },
    {
     "name": "stderr",
     "output_type": "stream",
     "text": [
      " 30%|███       | 300/1000 [01:49<03:44,  3.12it/s]"
     ]
    },
    {
     "name": "stdout",
     "output_type": "stream",
     "text": [
      "300 342.0197876319289\n"
     ]
    },
    {
     "name": "stderr",
     "output_type": "stream",
     "text": [
      " 40%|████      | 400/1000 [02:22<03:16,  3.05it/s]"
     ]
    },
    {
     "name": "stdout",
     "output_type": "stream",
     "text": [
      "400 320.86812723241746\n"
     ]
    },
    {
     "name": "stderr",
     "output_type": "stream",
     "text": [
      " 50%|█████     | 500/1000 [02:55<02:54,  2.86it/s]"
     ]
    },
    {
     "name": "stdout",
     "output_type": "stream",
     "text": [
      "500 302.60727171972394\n"
     ]
    },
    {
     "name": "stderr",
     "output_type": "stream",
     "text": [
      " 60%|██████    | 600/1000 [03:31<02:28,  2.70it/s]"
     ]
    },
    {
     "name": "stdout",
     "output_type": "stream",
     "text": [
      "600 286.5454768240452\n"
     ]
    },
    {
     "name": "stderr",
     "output_type": "stream",
     "text": [
      " 70%|███████   | 700/1000 [04:12<02:03,  2.42it/s]"
     ]
    },
    {
     "name": "stdout",
     "output_type": "stream",
     "text": [
      "700 272.10299603268504\n"
     ]
    },
    {
     "name": "stderr",
     "output_type": "stream",
     "text": [
      " 80%|████████  | 800/1000 [04:56<01:25,  2.35it/s]"
     ]
    },
    {
     "name": "stdout",
     "output_type": "stream",
     "text": [
      "800 259.3595562428236\n"
     ]
    },
    {
     "name": "stderr",
     "output_type": "stream",
     "text": [
      " 90%|█████████ | 900/1000 [05:36<00:40,  2.49it/s]"
     ]
    },
    {
     "name": "stdout",
     "output_type": "stream",
     "text": [
      "900 247.2589638736099\n"
     ]
    },
    {
     "name": "stderr",
     "output_type": "stream",
     "text": [
      "100%|██████████| 1000/1000 [06:16<00:00,  2.66it/s]"
     ]
    },
    {
     "name": "stdout",
     "output_type": "stream",
     "text": [
      "1000 236.6337717808783\n"
     ]
    },
    {
     "name": "stderr",
     "output_type": "stream",
     "text": [
      "\n"
     ]
    }
   ],
   "source": [
    "loss_history = []\n",
    "for epoch in tqdm(range(1000)):\n",
    "    total_loss = 0\n",
    "    for x, y in train_loader:\n",
    "\n",
    "        # 学習ステップ\n",
    "        optimizer.zero_grad()\n",
    "        outputs = model(x)\n",
    "        loss = criterion(outputs, y)\n",
    "        loss.backward()\n",
    "        optimizer.step()\n",
    "\n",
    "        total_loss += loss.item()\n",
    "\n",
    "    loss_history.append(total_loss)\n",
    "    if (epoch +1) % 100 == 0:\n",
    "        print(epoch + 1, total_loss)\n"
   ]
  },
  {
   "cell_type": "code",
   "execution_count": 25,
   "metadata": {},
   "outputs": [],
   "source": [
    "torch.save(model, 'model_weight.pth')"
   ]
  },
  {
   "cell_type": "code",
   "execution_count": 32,
   "metadata": {},
   "outputs": [
    {
     "name": "stderr",
     "output_type": "stream",
     "text": [
      "100%|██████████| 1335/1335 [00:00<00:00, 9882.45it/s]\n"
     ]
    },
    {
     "name": "stdout",
     "output_type": "stream",
     "text": [
      "テストデータでの正解率 86.74157303370787\n"
     ]
    }
   ],
   "source": [
    "correct = 0\n",
    "total = 0\n",
    "\n",
    "TEST_FEATURE_FILE_PATH = \"./news+aggregator/test.feature.txt\"\n",
    "\n",
    "# test.txtからベクトルリストとラベルリストを作成\n",
    "x_test_list, y_test_list = create_vector_and_label(TEST_FEATURE_FILE_PATH, BoW_dict)\n",
    "\n",
    "# データの準備\n",
    "x_test = torch.Tensor(x_test_list)\n",
    "y_test = torch.Tensor(y_test_list)\n",
    "\n",
    "# 訓練データのデータローダー\n",
    "test = TensorDataset(x_test, y_test)\n",
    "test_loader = DataLoader(test, batch_size=5)\n",
    "\n",
    "for x, y in test_loader:\n",
    "    outputs = model(x)\n",
    "    _, predicted = torch.max(outputs.data, 1)   #確率の最大値を取得\n",
    "    total += y.size(0)  #batch処理をしているのでy.size == 5\n",
    "    _, label = torch.max(y, 1)\n",
    "    correct += (predicted == label).sum().item() #ラベルと一致している個数を計算．　item()はtensor->intへの変換\n",
    "print('テストデータでの正解率', int(correct)/total*100)"
   ]
  },
  {
   "cell_type": "code",
   "execution_count": null,
   "metadata": {},
   "outputs": [],
   "source": []
  }
 ],
 "metadata": {
  "kernelspec": {
   "display_name": "Python 3",
   "language": "python",
   "name": "python3"
  },
  "language_info": {
   "codemirror_mode": {
    "name": "ipython",
    "version": 3
   },
   "file_extension": ".py",
   "mimetype": "text/x-python",
   "name": "python",
   "nbconvert_exporter": "python",
   "pygments_lexer": "ipython3",
   "version": "3.12.2"
  }
 },
 "nbformat": 4,
 "nbformat_minor": 2
}
