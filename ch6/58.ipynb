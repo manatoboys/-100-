{
 "cells": [
  {
   "cell_type": "code",
   "execution_count": 2,
   "metadata": {},
   "outputs": [],
   "source": [
    "from tqdm import tqdm\n",
    "\n",
    "# bag of wordsの辞書を作成\n",
    "def create_BoW_dict(file_path):\n",
    "    BoW_dict = {}\n",
    "    i = 0\n",
    "    with open(file_path, \"r\", encoding=\"utf-8\")as f:\n",
    "        data_list = f.readlines()\n",
    "        for data in data_list:\n",
    "            data = data.split('\\t')\n",
    "            word_list = data[0].split()\n",
    "            for word in word_list:\n",
    "                if word in BoW_dict:\n",
    "                    continue\n",
    "                else:\n",
    "                    BoW_dict[word] = i\n",
    "                    i += 1\n",
    "    return BoW_dict\n",
    "\n",
    "# t=0, e=1, m=2, b=3としてテストデータのベクトルとラベルをそれぞれリストとして作成\n",
    "def create_vector_and_label(file_path, BoW_dict):\n",
    "    with open(file_path, \"r\", encoding=\"utf-8\")as f:\n",
    "        data_list = f.readlines()\n",
    "        vector_list = []\n",
    "        label_list = []\n",
    "        for data in tqdm(data_list):\n",
    "            data = data.split(\"\\t\")\n",
    "            word_list = data[0].split()\n",
    "            vector = [0] * len(BoW_dict)\n",
    "            for word in word_list:\n",
    "                if word in BoW_dict:\n",
    "                    vector[BoW_dict[word]] += 1\n",
    "            vector_list.append(vector)\n",
    "            label_alph = data[1].strip(\"\\n\")\n",
    "            if label_alph == \"t\":\n",
    "                label = [1, 0, 0, 0]\n",
    "            elif label_alph == \"e\":\n",
    "                label = [0, 1, 0, 0]\n",
    "            elif label_alph == \"m\":\n",
    "                label = [0, 0, 1, 0]\n",
    "            elif label_alph == \"b\":\n",
    "                label = [0, 0, 0, 1]\n",
    "            else:\n",
    "                print(\"error label\")\n",
    "            label_list.append(label)\n",
    "    return vector_list, label_list"
   ]
  },
  {
   "cell_type": "code",
   "execution_count": 3,
   "metadata": {},
   "outputs": [
    {
     "name": "stderr",
     "output_type": "stream",
     "text": [
      "100%|██████████| 10671/10671 [00:01<00:00, 7309.79it/s]\n"
     ]
    }
   ],
   "source": [
    "import torch\n",
    "from torch.utils.data import TensorDataset\n",
    "from torch.utils.data import DataLoader\n",
    "\n",
    "TRAIN_FEATURE_FILE_PATH = \"./news+aggregator/train.feature.txt\"\n",
    "\n",
    "# bag of wordsの辞書型を作成\n",
    "BoW_dict = create_BoW_dict(TRAIN_FEATURE_FILE_PATH)\n",
    "\n",
    "# test.txtからベクトルリストとラベルリストを作成\n",
    "x_train_list, y_train_list = create_vector_and_label(TRAIN_FEATURE_FILE_PATH, BoW_dict)\n",
    "\n",
    "# データの準備\n",
    "x_train = torch.Tensor(x_train_list)\n",
    "y_train = torch.Tensor(y_train_list)\n",
    "\n",
    "# 訓練データのデータローダー\n",
    "train = TensorDataset(x_train, y_train)\n",
    "train_loader = DataLoader(train, batch_size=10, shuffle=True)"
   ]
  },
  {
   "cell_type": "code",
   "execution_count": 17,
   "metadata": {},
   "outputs": [],
   "source": [
    "class LogisticRegression(torch.nn.Module):\n",
    "    def __init__(self, input_dim, middle_dim, output_dim):\n",
    "        super(LogisticRegression, self).__init__()\n",
    "        self.l1 = torch.nn.Linear(input_dim, middle_dim)\n",
    "        self.relu = torch.nn.ReLU()\n",
    "        self.l2 = torch.nn.Linear(middle_dim, output_dim)\n",
    "        self.softmax =  torch.nn.Softmax(dim = 1)\n",
    "\n",
    "    def forward(self, x):\n",
    "        x = self.l1(x)\n",
    "        x = self.relu(x)\n",
    "        x = self.l2(x)\n",
    "        x = self.softmax(x)\n",
    "        return x"
   ]
  },
  {
   "cell_type": "code",
   "execution_count": 18,
   "metadata": {},
   "outputs": [
    {
     "name": "stderr",
     "output_type": "stream",
     "text": [
      "100%|██████████| 1335/1335 [00:00<00:00, 14728.74it/s]\n"
     ]
    }
   ],
   "source": [
    "TEST_FEATURE_FILE_PATH = \"./news+aggregator/test.feature.txt\"\n",
    "\n",
    "# test.txtからベクトルリストとラベルリストを作成\n",
    "x_test_list, y_test_list = create_vector_and_label(TEST_FEATURE_FILE_PATH, BoW_dict)\n",
    "# データの準備\n",
    "x_test = torch.Tensor(x_test_list)\n",
    "y_test = torch.Tensor(y_test_list)\n",
    "# テストデータのデータローダー\n",
    "test = TensorDataset(x_test, y_test)\n",
    "test_loader = DataLoader(test, batch_size=5)"
   ]
  },
  {
   "cell_type": "code",
   "execution_count": 19,
   "metadata": {},
   "outputs": [
    {
     "name": "stdout",
     "output_type": "stream",
     "text": [
      "lr_late = 0.001, 正解率: 0.7625468164794007\n",
      "lr_late = 0.01, 正解率: 0.7872659176029962\n",
      "lr_late = 0.1, 正解率: 0.800749063670412\n",
      "lr_late = 1, 正解率: 0.8554307116104869\n"
     ]
    }
   ],
   "source": [
    "criterion = torch.nn.CrossEntropyLoss()\n",
    "input_dim = len(x_train_list[0])\n",
    "output_dim = 4\n",
    "middle_dim = 100\n",
    "model= LogisticRegression(input_dim, middle_dim, output_dim)\n",
    "lr_late_list = [0.001, 0.01 ,0.1 ,1]\n",
    "for lr_late in lr_late_list:\n",
    "    model= LogisticRegression(input_dim, middle_dim, output_dim)\n",
    "    optimizer= torch.optim.SGD(model.parameters(), lr = lr_late)\n",
    "    for epoch in range(100):\n",
    "        total_loss = 0\n",
    "        for x, y in train_loader:\n",
    "\n",
    "            # 学習ステップ\n",
    "            optimizer.zero_grad()\n",
    "            outputs = model(x)\n",
    "            loss = criterion(outputs, y)\n",
    "            loss.backward()\n",
    "            optimizer.step()\n",
    "\n",
    "            total_loss += loss.item()\n",
    "    correct = 0\n",
    "    total = 0\n",
    "    for x, y in test_loader:\n",
    "        outputs = model(x)\n",
    "        _, predicted = torch.max(outputs.data, 0)   #確率の最大値を取得\n",
    "        total += y.size(0)  #batch処理をしているのでy.size == 5\n",
    "        correct += (predicted == y).sum().item()    #ラベルと一致している個数を計算．　item()はtensor->intへの変換\n",
    "    print(f'lr_late = {lr_late}, 正解率: {correct/total}')"
   ]
  }
 ],
 "metadata": {
  "kernelspec": {
   "display_name": "Python 3",
   "language": "python",
   "name": "python3"
  },
  "language_info": {
   "codemirror_mode": {
    "name": "ipython",
    "version": 3
   },
   "file_extension": ".py",
   "mimetype": "text/x-python",
   "name": "python",
   "nbconvert_exporter": "python",
   "pygments_lexer": "ipython3",
   "version": "3.12.2"
  }
 },
 "nbformat": 4,
 "nbformat_minor": 2
}
