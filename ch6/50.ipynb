{
 "cells": [
  {
   "cell_type": "code",
   "execution_count": 49,
   "metadata": {},
   "outputs": [
    {
     "data": {
      "text/html": [
       "<div>\n",
       "<style scoped>\n",
       "    .dataframe tbody tr th:only-of-type {\n",
       "        vertical-align: middle;\n",
       "    }\n",
       "\n",
       "    .dataframe tbody tr th {\n",
       "        vertical-align: top;\n",
       "    }\n",
       "\n",
       "    .dataframe thead th {\n",
       "        text-align: right;\n",
       "    }\n",
       "</style>\n",
       "<table border=\"1\" class=\"dataframe\">\n",
       "  <thead>\n",
       "    <tr style=\"text-align: right;\">\n",
       "      <th></th>\n",
       "      <th>学習データ</th>\n",
       "      <th>評価データ</th>\n",
       "    </tr>\n",
       "  </thead>\n",
       "  <tbody>\n",
       "    <tr>\n",
       "      <th>t</th>\n",
       "      <td>1206</td>\n",
       "      <td>154</td>\n",
       "    </tr>\n",
       "    <tr>\n",
       "      <th>e</th>\n",
       "      <td>4255</td>\n",
       "      <td>508</td>\n",
       "    </tr>\n",
       "    <tr>\n",
       "      <th>m</th>\n",
       "      <td>721</td>\n",
       "      <td>89</td>\n",
       "    </tr>\n",
       "    <tr>\n",
       "      <th>b</th>\n",
       "      <td>4489</td>\n",
       "      <td>584</td>\n",
       "    </tr>\n",
       "  </tbody>\n",
       "</table>\n",
       "</div>"
      ],
      "text/plain": [
       "   学習データ  評価データ\n",
       "t   1206    154\n",
       "e   4255    508\n",
       "m    721     89\n",
       "b   4489    584"
      ]
     },
     "execution_count": 49,
     "metadata": {},
     "output_type": "execute_result"
    }
   ],
   "source": [
    "import pandas as pd\n",
    "\n",
    "FILE_PATH=\"./news+aggregator/newsCorpora.csv\"\n",
    "\n",
    "df = pd.read_table(FILE_PATH, names = [\"ID\", \"TITLE\", \"URL\", \"PUBLISHER\", \"CATEGORY\", \"STORY\", \"HOSTNAME\", \"TIMESTAMP\"], index_col=0)\n",
    "extracted_df = df[(df[\"PUBLISHER\"]==\"Reuters\")|(df[\"PUBLISHER\"]==\"Huffington Post\")|(df[\"PUBLISHER\"]==\"Businessweek\")|(df[\"PUBLISHER\"]==\"Contactmusic.com\")|(df[\"PUBLISHER\"]==\"Daily Mail\")].loc[:, [\"CATEGORY\", \"TITLE\"]] #Publisherでフィルターをかける\n",
    "feature_df = extracted_df.loc[:,[\"TITLE\", \"CATEGORY\"]]\n",
    "feature_df.to_csv(\"output.txt\")\n",
    "shuffled_df = feature_df.sample(frac=1) #frac=1で全ての行をシャッフルする fracは選択する行の割合(つまり1だと全ての行を選択)\n",
    "total_len = len(shuffled_df)\n",
    "len_of_train = int(total_len * 0.8)\n",
    "len_of_valid_and_test = int(total_len * 0.1)\n",
    "train = shuffled_df[0:len_of_train]\n",
    "valid = shuffled_df[len_of_train:len_of_train+len_of_valid_and_test]\n",
    "test = shuffled_df[len_of_train+len_of_valid_and_test:]\n",
    "\n",
    "TRAIN_FILE_PATH = \"./news+aggregator/train.txt\"\n",
    "VALID_FILE_PATH = \"./news+aggregator/valid.txt\"\n",
    "TEST_FILE_PATH = \"./news+aggregator/test.txt\"\n",
    "\n",
    "# indexとheaderを非表示にして保存\n",
    "train.to_csv(TRAIN_FILE_PATH, index=False, header=False, sep = \"\\t\")\n",
    "valid.to_csv(VALID_FILE_PATH, index=False, header=False, sep=\"\\t\")\n",
    "test.to_csv(TEST_FILE_PATH, index=False, header=False, sep=\"\\t\")\n",
    "\n",
    "# 学習，評価データのカテゴリ数を確認\n",
    "train_t_num = len(train[train[\"CATEGORY\"] == \"t\"])\n",
    "train_e_num = len(train[train[\"CATEGORY\"] == \"e\"])\n",
    "train_m_num = len(train[train[\"CATEGORY\"] == \"m\"])\n",
    "train_b_num = len(train[train[\"CATEGORY\"] == \"b\"])\n",
    "test_t_num = len(test[test[\"CATEGORY\"] == \"t\"])\n",
    "test_e_num = len(test[test[\"CATEGORY\"] == \"e\"])\n",
    "test_m_num = len(test[test[\"CATEGORY\"] == \"m\"])\n",
    "test_b_num = len(test[test[\"CATEGORY\"] == \"b\"])\n",
    "data = [\n",
    "    [train_t_num, test_t_num],\n",
    "    [train_e_num, test_e_num],\n",
    "    [train_m_num, test_m_num],\n",
    "    [train_b_num, test_b_num]\n",
    "]\n",
    "category_df = pd.DataFrame(data=data, columns=[\"学習データ\", \"評価データ\"], index=[\"t\", \"e\", \"m\", \"b\"])\n",
    "category_df\n"
   ]
  }
 ],
 "metadata": {
  "kernelspec": {
   "display_name": "Python 3",
   "language": "python",
   "name": "python3"
  },
  "language_info": {
   "codemirror_mode": {
    "name": "ipython",
    "version": 3
   },
   "file_extension": ".py",
   "mimetype": "text/x-python",
   "name": "python",
   "nbconvert_exporter": "python",
   "pygments_lexer": "ipython3",
   "version": "3.12.2"
  }
 },
 "nbformat": 4,
 "nbformat_minor": 2
}
