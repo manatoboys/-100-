{
 "cells": [
  {
   "cell_type": "code",
   "execution_count": 70,
   "metadata": {},
   "outputs": [],
   "source": [
    "import pandas as pd\n",
    "\n",
    "# 英文を単語の空白区切りに直す\n",
    "def create_feature_file(file_path, output_file_path):\n",
    "    df = pd.read_csv(file_path, delimiter=\"\\t\", header=None, index_col=None)\n",
    "    title_words = df.iloc[:,0].replace(r'[^a-zA-Z\\s]', '', regex=True)#regex = Tureで正規表現を使えるようにする\n",
    "    print(title_words)\n",
    "    # dfに不備があった場合への対処\n",
    "    if df.shape[1] > 1:\n",
    "        # 列を合体させる\n",
    "        feature_df = pd.concat([title_words,df.iloc[:,1]],axis=1)\n",
    "        feature_df.to_csv(output_file_path, sep=\"\\t\", index=False, header=False,)\n",
    "    else:\n",
    "        print(file_path)\n",
    "        print(\"Error: Not enough columns in the DataFrame.\")\n"
   ]
  },
  {
   "cell_type": "code",
   "execution_count": 71,
   "metadata": {},
   "outputs": [
    {
     "name": "stdout",
     "output_type": "stream",
     "text": [
      "0        BHP Billiton leads UK miners higher FTSE advances\n",
      "1        Google Acquires Quest Visual to Bolster Mobile...\n",
      "2        Factbox Threat of fines litigation stalks Deut...\n",
      "3        Whoa mama Motherofthree Julia Roberts  parades...\n",
      "4        EPA Takes First Step Toward Regulating Frackin...\n",
      "                               ...                        \n",
      "10666    Ukraine faces gas cut threat as talks with Rus...\n",
      "10667    Can Lindsay Lohan Actually Nail GTA Creators I...\n",
      "10668    NEW YORK AP  McDonalds is fighting to hold ont...\n",
      "10669    CancelColbert Comedian Stephen Colbert under f...\n",
      "10670    Marion Cotillard wears only one Chopard earrin...\n",
      "Name: 0, Length: 10671, dtype: object\n",
      "0       US economic activity expands in Feds  district...\n",
      "1       New York Times Publisher Says Jill Abramsons F...\n",
      "2       UPDATE Morgan Stanley profit more than doubles...\n",
      "3       Paul Walkers Brothers Brought In By Universal ...\n",
      "4       US STOCKSWall St advances modestly holds below...\n",
      "                              ...                        \n",
      "1328    JPMorgan Drops After Profit Misses Analysts Es...\n",
      "1329    Amgen AbbVie Seen as Possible White Knights fo...\n",
      "1330    Iliad Maverick Niel Disrupts US Market With TM...\n",
      "1331     INSTANT VIEWIndias March CPI accelerates to  pct\n",
      "1332    UPDATE Wounded Ukrainian mayor stable in Israe...\n",
      "Name: 0, Length: 1333, dtype: object\n",
      "0       Michael Jackson Hologram Stunt Allowed To Go A...\n",
      "1       FedEx criminally indicted by Justice Departmen...\n",
      "2       Argentina Default Looms Next Bond Payment Impo...\n",
      "3       Euro Advances Amid Bets Ukraine Tension Contai...\n",
      "4       Barclays to appoint new pay committee head Sky...\n",
      "                              ...                        \n",
      "1330    Mila Kunis Discusses Why Her Breasts Are Curre...\n",
      "1331    UPDATE In deal with Amazon BlackBerry to offer...\n",
      "1332    JJ Withdraws Hysterectomy Device Tied to Cance...\n",
      "1333    Ebersman Departs Facebook on Top After PostIPO...\n",
      "1334    UPDATE BP profit jumps but warns of Russia san...\n",
      "Name: 0, Length: 1335, dtype: object\n"
     ]
    }
   ],
   "source": [
    "TRAIN_FILE_PATH = \"./news+aggregator/train.txt\"\n",
    "TRAIN_FEATURE_FILE_PATH = \"./news+aggregator/train.feature.txt\"\n",
    "VALID_FILE_PATH = \"./news+aggregator/valid.txt\"\n",
    "VALID_FEATURE_FILE_PATH = \"./news+aggregator/valid.feature.txt\"\n",
    "TEST_FILE_PATH = \"./news+aggregator/test.txt\"\n",
    "TEST_FEATURE_FILE_PATH = \"./news+aggregator/test.feature.txt\"\n",
    "\n",
    "create_feature_file(TRAIN_FILE_PATH, TRAIN_FEATURE_FILE_PATH)\n",
    "create_feature_file(VALID_FILE_PATH, VALID_FEATURE_FILE_PATH)\n",
    "create_feature_file(TEST_FILE_PATH, TEST_FEATURE_FILE_PATH)"
   ]
  }
 ],
 "metadata": {
  "kernelspec": {
   "display_name": "Python 3",
   "language": "python",
   "name": "python3"
  },
  "language_info": {
   "codemirror_mode": {
    "name": "ipython",
    "version": 3
   },
   "file_extension": ".py",
   "mimetype": "text/x-python",
   "name": "python",
   "nbconvert_exporter": "python",
   "pygments_lexer": "ipython3",
   "version": "3.12.2"
  }
 },
 "nbformat": 4,
 "nbformat_minor": 2
}
