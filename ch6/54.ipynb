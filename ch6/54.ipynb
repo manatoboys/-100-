{
 "cells": [
  {
   "cell_type": "code",
   "execution_count": 1,
   "metadata": {},
   "outputs": [],
   "source": [
    "# 53のコードの最後を変更して，正解率を求めている\n",
    "\n",
    "from tqdm import tqdm\n",
    "\n",
    "# bag of wordsの辞書を作成\n",
    "def create_BoW_dict(file_path):\n",
    "    BoW_dict = {}\n",
    "    i = 0\n",
    "    with open(file_path, \"r\", encoding=\"utf-8\")as f:\n",
    "        data_list = f.readlines()\n",
    "        for data in data_list:\n",
    "            data = data.split('\\t')\n",
    "            word_list = data[0].split()\n",
    "            for word in word_list:\n",
    "                if word in BoW_dict:\n",
    "                    continue\n",
    "                else:\n",
    "                    BoW_dict[word] = i\n",
    "                    i += 1\n",
    "    return BoW_dict\n",
    "\n",
    "# t=0, e=1, m=2, b=3としてテストデータのベクトルとラベルをそれぞれリストとして作成\n",
    "def create_vector_and_label(file_path, BoW_dict):\n",
    "    with open(file_path, \"r\", encoding=\"utf-8\")as f:\n",
    "        data_list = f.readlines()\n",
    "        vector_list = []\n",
    "        label_list = []\n",
    "        for data in tqdm(data_list):\n",
    "            data = data.split(\"\\t\")\n",
    "            word_list = data[0].split()\n",
    "            vector = [0] * len(BoW_dict)\n",
    "            for word in word_list:\n",
    "                if word in BoW_dict:\n",
    "                    vector[BoW_dict[word]] += 1\n",
    "            vector_list.append(vector)\n",
    "            label_alph = data[1].strip(\"\\n\")\n",
    "            if label_alph == \"t\":\n",
    "                label = [1, 0, 0, 0]\n",
    "            elif label_alph == \"e\":\n",
    "                label = [0, 1, 0, 0]\n",
    "            elif label_alph == \"m\":\n",
    "                label = [0, 0, 1, 0]\n",
    "            elif label_alph == \"b\":\n",
    "                label = [0, 0, 0, 1]\n",
    "            else:\n",
    "                print(\"error label\")\n",
    "            label_list.append(label)\n",
    "    return vector_list, label_list\n",
    "\n",
    "\n",
    "TRAIN_FEATURE_FILE_PATH = \"./news+aggregator/train.feature.txt\"\n",
    "\n",
    "# bag of wordsの辞書型を作成\n",
    "BoW_dict = create_BoW_dict(TRAIN_FEATURE_FILE_PATH)"
   ]
  },
  {
   "cell_type": "code",
   "execution_count": 2,
   "metadata": {},
   "outputs": [],
   "source": [
    "import torch\n",
    "\n",
    "# モデルのクラスが定義されていないとloadできないため\n",
    "class LogisticRegression(torch.nn.Module):\n",
    "    def __init__(self, input_dim, output_dim):\n",
    "        super(LogisticRegression, self).__init__()\n",
    "        self.l1 = torch.nn.Linear(input_dim, output_dim)\n",
    "\n",
    "    def forward(self, x):\n",
    "        x = self.l1(x)\n",
    "        return x\n",
    "\n",
    "# 52で学習したモデルのロード\n",
    "model = torch.load('model_weight.pth')"
   ]
  },
  {
   "cell_type": "code",
   "execution_count": 4,
   "metadata": {},
   "outputs": [
    {
     "name": "stderr",
     "output_type": "stream",
     "text": [
      "100%|██████████| 1335/1335 [00:00<00:00, 11449.09it/s]\n"
     ]
    },
    {
     "name": "stdout",
     "output_type": "stream",
     "text": [
      "正解率 86.74157303370787\n"
     ]
    }
   ],
   "source": [
    "from torch.utils.data import TensorDataset\n",
    "from torch.utils.data import DataLoader\n",
    "\n",
    "correct = 0\n",
    "total = 0\n",
    "\n",
    "TEST_FEATURE_FILE_PATH = \"./news+aggregator/test.feature.txt\"\n",
    "\n",
    "# test.txtからベクトルリストとラベルリストを作成\n",
    "x_test_list, y_test_list = create_vector_and_label(TEST_FEATURE_FILE_PATH, BoW_dict)\n",
    "\n",
    "# データの準備\n",
    "x_test = torch.Tensor(x_test_list)\n",
    "y_test = torch.Tensor(y_test_list).long()\n",
    "\n",
    "# 訓練データのデータローダー\n",
    "test = TensorDataset(x_test, y_test)\n",
    "test_loader = DataLoader(test, batch_size=5)\n",
    "\n",
    "for x, y in test_loader:\n",
    "    outputs = model(x)\n",
    "    _, predicted = torch.max(outputs.data, 1)   #確率の最大値を取得\n",
    "    total += y.size(0)  #batch処理をしているのでy.size == 5\n",
    "    _, label = torch.max(y, 1)\n",
    "    correct += (predicted == label).sum().item() #ラベルと一致している個数を計算．　item()はtensor->intへの変換\n",
    "print('正解率', int(correct)/total*100)"
   ]
  }
 ],
 "metadata": {
  "kernelspec": {
   "display_name": "Python 3",
   "language": "python",
   "name": "python3"
  },
  "language_info": {
   "codemirror_mode": {
    "name": "ipython",
    "version": 3
   },
   "file_extension": ".py",
   "mimetype": "text/x-python",
   "name": "python",
   "nbconvert_exporter": "python",
   "pygments_lexer": "ipython3",
   "version": "3.12.2"
  }
 },
 "nbformat": 4,
 "nbformat_minor": 2
}
