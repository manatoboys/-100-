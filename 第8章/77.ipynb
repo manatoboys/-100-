{
 "cells": [
  {
   "cell_type": "code",
   "execution_count": 1,
   "metadata": {},
   "outputs": [],
   "source": [
    "import torch\n",
    "from torch import nn\n",
    "from torch.utils.data import Dataset, DataLoader\n",
    "import numpy as np\n",
    "\n",
    "\n",
    "class TextDataset(Dataset):\n",
    "    def __init__(self, texts, labels):\n",
    "        self.texts = texts\n",
    "        self.labels = labels\n",
    "\n",
    "    def __len__(self):\n",
    "        return len(self.texts)\n",
    "\n",
    "    def __getitem__(self, idx):\n",
    "        text = self.texts[idx]\n",
    "        label = self.labels[idx]\n",
    "        return text, label\n",
    "\n",
    "# 70で作成した行列をロード\n",
    "X_train = np.load(\"./matrix/x_train.npy\")\n",
    "Y_train = np.load(\"./matrix/y_train.npy\")\n",
    "\n",
    "X_train_tensor = torch.from_numpy(X_train)\n",
    "Y_train_tensor =torch.from_numpy(Y_train)\n",
    "datasets = TextDataset(X_train, Y_train)\n",
    "train_dataloader = DataLoader(datasets, shuffle=True, batch_size=64)\n",
    "\n",
    "class Model(nn.Module):\n",
    "    def __init__(self):\n",
    "        super().__init__()\n",
    "        self.layer = nn.Sequential(\n",
    "            nn.Linear(300, 4),\n",
    "            nn.Softmax()\n",
    "        )\n",
    "\n",
    "    def forward(self, x):\n",
    "        logits = self.layer(x)\n",
    "        return logits\n",
    "\n",
    "model = Model()\n",
    "learning_rate = 1e-3\n",
    "loss_fn = nn.CrossEntropyLoss()\n",
    "optimizer = torch.optim.SGD(model.parameters(), lr=learning_rate)"
   ]
  },
  {
   "cell_type": "code",
   "execution_count": 2,
   "metadata": {},
   "outputs": [
    {
     "name": "stderr",
     "output_type": "stream",
     "text": [
      "/Users/tajirimanato/.pyenv/versions/3.12.2/lib/python3.12/site-packages/torch/nn/modules/module.py:1532: UserWarning: Implicit dimension choice for softmax has been deprecated. Change the call to include dim=X as an argument.\n",
      "  return self._call_impl(*args, **kwargs)\n"
     ]
    },
    {
     "name": "stdout",
     "output_type": "stream",
     "text": [
      "batch_size:1, time:1.4311411380767822, avg_loss:1.3176846547556196, avg_accuracy:0.7042451504076469\n",
      "batch_size:2, time:1.0566000938415527, avg_loss:1.232331269550538, avg_accuracy:0.7735919782588323\n",
      "batch_size:4, time:0.5227220058441162, avg_loss:1.1998176696090803, avg_accuracy:0.7757473526379908\n",
      "batch_size:8, time:0.28849291801452637, avg_loss:1.1857348444268607, avg_accuracy:0.7765907600037485\n",
      "batch_size:16, time:0.16674208641052246, avg_loss:1.1792018226877055, avg_accuracy:0.7764033361446913\n",
      "batch_size:32, time:0.11226010322570801, avg_loss:1.1761334280042859, avg_accuracy:0.7765907600037485\n",
      "batch_size:64, time:0.06622600555419922, avg_loss:1.174546332708074, avg_accuracy:0.7764033361446913\n",
      "batch_size:128, time:0.053218841552734375, avg_loss:1.173900033266278, avg_accuracy:0.7764970480742198\n",
      "batch_size:256, time:0.03944587707519531, avg_loss:1.173220598719298, avg_accuracy:0.7764970480742198\n"
     ]
    }
   ],
   "source": [
    "import time\n",
    "\n",
    "batch_list = [1,2,4,8,16,32,64,128,256]\n",
    "\n",
    "for batch_size in batch_list:\n",
    "    train_dataloader = DataLoader(datasets, shuffle=True, batch_size=batch_size)\n",
    "\n",
    "    start_time = time.time()\n",
    "\n",
    "    size = len(datasets)\n",
    "    epoch_loss = 0\n",
    "    epoch_correct = 0\n",
    "    total_samples = 0\n",
    "\n",
    "    for batch, (X, y) in enumerate(train_dataloader):\n",
    "        # 予測と損失の計算\n",
    "        X = X.float()\n",
    "        pred = model(X)\n",
    "        loss = loss_fn(pred, y.to(torch.float64))\n",
    "\n",
    "        # バックプロパゲーション\n",
    "        optimizer.zero_grad()\n",
    "        loss.backward()\n",
    "        optimizer.step()\n",
    "\n",
    "        # 損失の累計\n",
    "        epoch_loss += loss.item()\n",
    "\n",
    "        # 正答数の累計\n",
    "        predicted = pred.argmax(dim=1)\n",
    "        correct = (predicted == y.argmax(dim=1)).sum().item()\n",
    "        epoch_correct += correct\n",
    "        total_samples += len(y)\n",
    "\n",
    "    end_time = time.time()\n",
    "    epoch_time = end_time - start_time\n",
    "    # エポックごとの平均損失と正答率を計算\n",
    "    avg_loss = epoch_loss / len(train_dataloader)\n",
    "    avg_accuracy = epoch_correct / total_samples\n",
    "    print(f\"batch_size:{batch_size}, time:{epoch_time}, avg_loss:{avg_loss}, avg_accuracy:{avg_accuracy}\")\n"
   ]
  }
 ],
 "metadata": {
  "kernelspec": {
   "display_name": "Python 3",
   "language": "python",
   "name": "python3"
  },
  "language_info": {
   "codemirror_mode": {
    "name": "ipython",
    "version": 3
   },
   "file_extension": ".py",
   "mimetype": "text/x-python",
   "name": "python",
   "nbconvert_exporter": "python",
   "pygments_lexer": "ipython3",
   "version": "3.12.2"
  }
 },
 "nbformat": 4,
 "nbformat_minor": 2
}
