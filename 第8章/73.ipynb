{
 "cells": [
  {
   "cell_type": "code",
   "execution_count": 1,
   "metadata": {},
   "outputs": [],
   "source": [
    "import torch\n",
    "from torch import nn\n",
    "from torch.utils.data import Dataset, DataLoader\n",
    "from torch.nn.utils.rnn import pad_sequence"
   ]
  },
  {
   "cell_type": "code",
   "execution_count": 2,
   "metadata": {},
   "outputs": [],
   "source": [
    "class TextDataset(Dataset):\n",
    "    def __init__(self, texts, labels):\n",
    "        self.texts = texts\n",
    "        self.labels = labels\n",
    "\n",
    "    def __len__(self):\n",
    "        return len(self.texts)\n",
    "\n",
    "    def __getitem__(self, idx):\n",
    "        text = self.texts[idx]\n",
    "        label = self.labels[idx]\n",
    "        return text, label"
   ]
  },
  {
   "cell_type": "code",
   "execution_count": 3,
   "metadata": {},
   "outputs": [],
   "source": [
    "import numpy as np\n",
    "\n",
    "# 70で作成した行列をロード\n",
    "X_train = np.load(\"./matrix/x_train.npy\")\n",
    "Y_train = np.load(\"./matrix/y_train.npy\")"
   ]
  },
  {
   "cell_type": "code",
   "execution_count": 4,
   "metadata": {},
   "outputs": [],
   "source": [
    "X_train_tensor = torch.from_numpy(X_train)\n",
    "Y_train_tensor =torch.from_numpy(Y_train)\n",
    "datasets = TextDataset(X_train, Y_train)\n",
    "train_dataloader = DataLoader(datasets, shuffle=True, batch_size=64)"
   ]
  },
  {
   "cell_type": "code",
   "execution_count": 5,
   "metadata": {},
   "outputs": [],
   "source": [
    "class Model(nn.Module):\n",
    "    def __init__(self):\n",
    "        super().__init__()\n",
    "        self.layer = nn.Sequential(\n",
    "            nn.Linear(300, 4),\n",
    "            nn.Softmax()\n",
    "        )\n",
    "\n",
    "    def forward(self, x):\n",
    "        logits = self.layer(x)\n",
    "        return logits"
   ]
  },
  {
   "cell_type": "code",
   "execution_count": 6,
   "metadata": {},
   "outputs": [],
   "source": [
    "model = Model()\n",
    "learning_rate = 1e-3\n",
    "batch_size = 64\n",
    "epochs = 10\n",
    "loss_fn = nn.CrossEntropyLoss()\n",
    "optimizer = torch.optim.SGD(model.parameters(), lr=learning_rate)"
   ]
  },
  {
   "cell_type": "code",
   "execution_count": 7,
   "metadata": {},
   "outputs": [],
   "source": [
    "def train_loop(dataloader, model, loss_fn, optimizer):\n",
    "    size = len(dataloader.dataset)\n",
    "    for batch, (X, y) in enumerate(dataloader):\n",
    "        # 予測と損失の計算\n",
    "        X = X.float()\n",
    "        pred = model.forward(X)\n",
    "        loss = loss_fn(pred, y.to(torch.float64))\n",
    "        # バックプロパゲーション\n",
    "        optimizer.zero_grad()\n",
    "        loss.backward()\n",
    "        optimizer.step()\n",
    "\n",
    "        if batch % 100 == 0:\n",
    "            loss, current = loss.item(), batch * len(X)\n",
    "            print(f\"loss: {loss:>7f}  [{current:>5d}/{size:>5d}]\")"
   ]
  },
  {
   "cell_type": "code",
   "execution_count": 8,
   "metadata": {},
   "outputs": [
    {
     "name": "stdout",
     "output_type": "stream",
     "text": [
      "Before training!\n",
      " ------------------------------\n",
      "layer.0.weight: tensor([[-0.0201,  0.0326, -0.0101,  ...,  0.0101, -0.0346, -0.0562],\n",
      "        [-0.0469,  0.0398, -0.0533,  ..., -0.0082,  0.0521, -0.0107],\n",
      "        [ 0.0328,  0.0090, -0.0035,  ...,  0.0179, -0.0026, -0.0159],\n",
      "        [ 0.0365, -0.0018,  0.0335,  ...,  0.0245, -0.0102, -0.0290]])\n",
      "Shape: torch.Size([4, 300])\n",
      "layer.0.bias: tensor([-0.0291,  0.0315, -0.0109, -0.0397])\n",
      "Shape: torch.Size([4])\n",
      "Epoch 1\n",
      "-------------------------------\n",
      "loss: 1.389865  [    0/10671]\n",
      "loss: 1.387464  [ 6400/10671]\n",
      "Epoch 2\n",
      "-------------------------------\n",
      "loss: 1.385743  [    0/10671]\n",
      "loss: 1.387825  [ 6400/10671]\n",
      "Epoch 3\n",
      "-------------------------------\n",
      "loss: 1.385952  [    0/10671]\n"
     ]
    },
    {
     "name": "stderr",
     "output_type": "stream",
     "text": [
      "/Users/tajirimanato/.pyenv/versions/3.12.2/lib/python3.12/site-packages/torch/nn/modules/module.py:1532: UserWarning: Implicit dimension choice for softmax has been deprecated. Change the call to include dim=X as an argument.\n",
      "  return self._call_impl(*args, **kwargs)\n"
     ]
    },
    {
     "name": "stdout",
     "output_type": "stream",
     "text": [
      "loss: 1.385043  [ 6400/10671]\n",
      "Epoch 4\n",
      "-------------------------------\n",
      "loss: 1.381341  [    0/10671]\n",
      "loss: 1.381144  [ 6400/10671]\n",
      "Epoch 5\n",
      "-------------------------------\n",
      "loss: 1.379035  [    0/10671]\n",
      "loss: 1.379519  [ 6400/10671]\n",
      "Epoch 6\n",
      "-------------------------------\n",
      "loss: 1.377112  [    0/10671]\n",
      "loss: 1.375037  [ 6400/10671]\n",
      "Epoch 7\n",
      "-------------------------------\n",
      "loss: 1.374575  [    0/10671]\n",
      "loss: 1.374786  [ 6400/10671]\n",
      "Epoch 8\n",
      "-------------------------------\n",
      "loss: 1.373525  [    0/10671]\n",
      "loss: 1.370867  [ 6400/10671]\n",
      "Epoch 9\n",
      "-------------------------------\n",
      "loss: 1.376710  [    0/10671]\n",
      "loss: 1.370159  [ 6400/10671]\n",
      "Epoch 10\n",
      "-------------------------------\n",
      "loss: 1.368776  [    0/10671]\n",
      "loss: 1.367580  [ 6400/10671]\n",
      "Done training!\n",
      " ------------------------------\n",
      "layer.0.weight: tensor([[-0.0214,  0.0347, -0.0113,  ...,  0.0143, -0.0298, -0.0617],\n",
      "        [-0.0481,  0.0381, -0.0504,  ..., -0.0079,  0.0484, -0.0096],\n",
      "        [ 0.0376,  0.0107, -0.0085,  ...,  0.0125, -0.0010, -0.0137],\n",
      "        [ 0.0342, -0.0039,  0.0368,  ...,  0.0254, -0.0129, -0.0267]])\n",
      "Shape: torch.Size([4, 300])\n",
      "layer.0.bias: tensor([ 0.0410, -0.0278,  0.0480, -0.1094])\n",
      "Shape: torch.Size([4])\n"
     ]
    }
   ],
   "source": [
    "print(\"Before training!\\n ------------------------------\")\n",
    "for name, param in model.named_parameters():\n",
    "    print(f\"{name}: {param.data}\")\n",
    "    print(f\"Shape: {param.shape}\")\n",
    "for t in range(epochs):\n",
    "    print(f\"Epoch {t+1}\\n-------------------------------\")\n",
    "    train_loop(train_dataloader, model, loss_fn, optimizer)\n",
    "print(\"Done training!\\n ------------------------------\")\n",
    "for name, param in model.named_parameters():\n",
    "    print(f\"{name}: {param.data}\")\n",
    "    print(f\"Shape: {param.shape}\")"
   ]
  }
 ],
 "metadata": {
  "kernelspec": {
   "display_name": "Python 3",
   "language": "python",
   "name": "python3"
  },
  "language_info": {
   "codemirror_mode": {
    "name": "ipython",
    "version": 3
   },
   "file_extension": ".py",
   "mimetype": "text/x-python",
   "name": "python",
   "nbconvert_exporter": "python",
   "pygments_lexer": "ipython3",
   "version": "3.12.2"
  }
 },
 "nbformat": 4,
 "nbformat_minor": 2
}
