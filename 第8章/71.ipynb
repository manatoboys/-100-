{
 "cells": [
  {
   "cell_type": "code",
   "execution_count": 1,
   "metadata": {},
   "outputs": [],
   "source": [
    "import numpy as np\n",
    "\n",
    "# 70で作成した行列をロード\n",
    "X_train = np.load(\"./matrix/x_train.npy\")\n",
    "Y_train = np.load(\"./matrix/y_train.npy\")\n",
    "X_test = np.load(\"./matrix/x_test.npy\")\n",
    "Y_test = np.load(\"./matrix/y_test.npy\")\n",
    "X_valid = np.load(\"./matrix/x_valid.npy\")\n",
    "Y_valid = np.load(\"./matrix/y_valid.npy\")"
   ]
  },
  {
   "cell_type": "code",
   "execution_count": 23,
   "metadata": {},
   "outputs": [
    {
     "name": "stdout",
     "output_type": "stream",
     "text": [
      "y^1: tensor([[0.0374, 0.5029, 0.1531, 0.3066]], dtype=torch.float64)\n",
      "Y^: tensor([[0.0374, 0.5029, 0.1531, 0.3066],\n",
      "        [0.0381, 0.0064, 0.8572, 0.0984],\n",
      "        [0.0338, 0.0064, 0.9269, 0.0328],\n",
      "        [0.1019, 0.7248, 0.1478, 0.0255]], dtype=torch.float64)\n"
     ]
    }
   ],
   "source": [
    "import torch\n",
    "import torch.nn.functional as F\n",
    "\n",
    "W = torch.randn(300, 4, dtype=torch.float64)\n",
    "X_tensor = torch.from_numpy(X_train)\n",
    "y_1 = torch.mm(X_tensor[0].unsqueeze(0), W)\n",
    "Y_1 = F.softmax(y_1, dim=1)\n",
    "print(f\"y^1: {Y_1}\")\n",
    "\n",
    "y = torch.mm(X_tensor[0:4], W)\n",
    "Y = F.softmax(y, dim=1)\n",
    "print(f\"Y^: {Y}\")"
   ]
  },
  {
   "cell_type": "code",
   "execution_count": null,
   "metadata": {},
   "outputs": [],
   "source": []
  }
 ],
 "metadata": {
  "kernelspec": {
   "display_name": "Python 3",
   "language": "python",
   "name": "python3"
  },
  "language_info": {
   "codemirror_mode": {
    "name": "ipython",
    "version": 3
   },
   "file_extension": ".py",
   "mimetype": "text/x-python",
   "name": "python",
   "nbconvert_exporter": "python",
   "pygments_lexer": "ipython3",
   "version": "3.12.2"
  }
 },
 "nbformat": 4,
 "nbformat_minor": 2
}
