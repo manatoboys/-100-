{
 "cells": [
  {
   "cell_type": "code",
   "execution_count": 1,
   "metadata": {},
   "outputs": [],
   "source": [
    "# 50で作成したデータを使用する\n",
    "TRAIN_FILE_PATH = \"../第6章/news+aggregator/train.txt\"\n",
    "TEST_FILE_PATH = \"../第6章/news+aggregator/test.txt\"\n",
    "VALID_FILE_PATH = \"../第6章/news+aggregator/valid.txt\"\n",
    "\n",
    "import polars as pl\n",
    "\n",
    "df_train = pl.read_csv(TRAIN_FILE_PATH, separator=\"\\t\", has_header=False, new_columns=[\"sentence\", \"category\"])\n",
    "df_test = pl.read_csv(TEST_FILE_PATH, separator=\"\\t\", has_header=False, new_columns=[\"sentence\", \"category\"])\n",
    "df_valid = pl.read_csv(VALID_FILE_PATH, separator=\"\\t\", has_header=False, new_columns=[\"sentence\", \"category\"])\n"
   ]
  },
  {
   "cell_type": "code",
   "execution_count": 2,
   "metadata": {},
   "outputs": [],
   "source": [
    "import re\n",
    "from gensim.models.keyedvectors import KeyedVectors\n",
    "model_path = '../第7章/GoogleNews-vectors-negative300.bin.gz'\n",
    "model = KeyedVectors.load_word2vec_format(model_path, binary=True)"
   ]
  },
  {
   "cell_type": "code",
   "execution_count": 5,
   "metadata": {},
   "outputs": [],
   "source": [
    "import numpy as np\n",
    "\n",
    "class Vector_of_sentence:\n",
    "\n",
    "    def __init__(self, dataframe: pl.DataFrame, model):\n",
    "        self.__dataframe = dataframe\n",
    "        self.__model = model\n",
    "\n",
    "    def __clean_and_split_sentence(self, sentence: str):\n",
    "        cleaned_sentence = re.sub(r'[^a-zA-Z\\s]', '', sentence)\n",
    "        words = cleaned_sentence.split()\n",
    "        return words\n",
    "\n",
    "    def __get_vector_of_sentence(self, sentence: str):  # binary=Trueはバイナリ形式のモデルの場合\n",
    "        words = self.__clean_and_split_sentence(sentence)\n",
    "        T = 0\n",
    "        vec = np.zeros(300)\n",
    "        for word in words:\n",
    "            try:\n",
    "                vec += self.__model.get_vector(word)\n",
    "                T += 1\n",
    "            except Exception as e:\n",
    "                pass\n",
    "        if T == 0:\n",
    "            exit(1)\n",
    "        feature_vec = vec / T\n",
    "        return feature_vec\n",
    "\n",
    "    def __create_X(self, sentences):\n",
    "        vectors = [self.__get_vector_of_sentence(sentence) for sentence in sentences]\n",
    "        X = np.stack(vectors, axis=0)\n",
    "        return X\n",
    "\n",
    "    def __create_Y(self, categories):\n",
    "        category_map = {\"b\": [1, 0, 0, 0], \"t\": [0, 1, 0, 0], \"e\": [0, 0, 1, 0], \"m\": [0, 0, 0, 1]}\n",
    "        categories = self.__dataframe.get_column(\"category\").to_list()\n",
    "        vectors = [np.array(category_map[category]) for category in categories]\n",
    "        Y = np.stack(vectors, axis=0)\n",
    "        return Y\n",
    "\n",
    "    def get_X_Y_matrix(self):\n",
    "        X = self.__create_X(self.__dataframe[\"sentence\"])\n",
    "        Y = self.__create_Y(self.__dataframe[\"category\"])\n",
    "        return X, Y"
   ]
  },
  {
   "cell_type": "code",
   "execution_count": 6,
   "metadata": {},
   "outputs": [
    {
     "name": "stdout",
     "output_type": "stream",
     "text": [
      "(10671, 300)\n",
      "[[1 0 0 0]\n",
      " [0 1 0 0]\n",
      " [1 0 0 0]\n",
      " ...\n",
      " [1 0 0 0]\n",
      " [0 0 1 0]\n",
      " [0 0 1 0]]\n"
     ]
    }
   ],
   "source": [
    "X_train, Y_train = Vector_of_sentence(df_train, model).get_X_Y_matrix()\n",
    "X_test, Y_test= Vector_of_sentence(df_test, model).get_X_Y_matrix()\n",
    "X_valid, Y_valid = Vector_of_sentence(df_valid, model).get_X_Y_matrix()\n",
    "\n",
    "np.save(\"./matrix/x_train\", X_train)\n",
    "np.save(\"./matrix/y_train\", Y_train)\n",
    "np.save(\"./matrix/x_test\", X_test)\n",
    "np.save(\"./matrix/y_test\", Y_test)\n",
    "np.save(\"./matrix/x_valid\", X_valid)\n",
    "np.save(\"./matrix/y_valid\", Y_valid)\n",
    "\n",
    "print(X_train.shape)\n",
    "print(Y_train)"
   ]
  }
 ],
 "metadata": {
  "kernelspec": {
   "display_name": "Python 3",
   "language": "python",
   "name": "python3"
  },
  "language_info": {
   "codemirror_mode": {
    "name": "ipython",
    "version": 3
   },
   "file_extension": ".py",
   "mimetype": "text/x-python",
   "name": "python",
   "nbconvert_exporter": "python",
   "pygments_lexer": "ipython3",
   "version": "3.12.2"
  }
 },
 "nbformat": 4,
 "nbformat_minor": 2
}
